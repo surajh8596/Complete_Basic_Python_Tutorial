{
 "cells": [
  {
   "cell_type": "markdown",
   "id": "67c6c869",
   "metadata": {},
   "source": [
    "## Creating Variables"
   ]
  },
  {
   "cell_type": "markdown",
   "id": "7bb3305a",
   "metadata": {},
   "source": [
    "1. Variables are containers for storing data values. \n",
    "2. Python has no specific command for declaring a variable. You have to just use the name and the assignment operator. \n",
    "3. A variable is created the moment you first assign a value to it. \n",
    "4. There is no need to delcare the type of the data that will be stored in the variable in Python. You can directly assign any data type to the variable and you can even change the type after it has been set. \n",
    "5. String variables can be declared by using single or double quotes."
   ]
  },
  {
   "cell_type": "code",
   "execution_count": null,
   "id": "9aac8a78",
   "metadata": {},
   "outputs": [],
   "source": [
    "# Rules \n",
    "##1. variable name should be string\n",
    "##2. variable name string+number\n",
    "##3. variable name should not start from number\n",
    "##4. variable name may have underscore(_)\n",
    "##5. variable name dont have any special character\n",
    "##6. variable name may start from _"
   ]
  },
  {
   "cell_type": "code",
   "execution_count": 3,
   "id": "3f435a49",
   "metadata": {},
   "outputs": [],
   "source": [
    "bhoomi=10"
   ]
  },
  {
   "cell_type": "code",
   "execution_count": 4,
   "id": "27aa3f1a",
   "metadata": {},
   "outputs": [
    {
     "data": {
      "text/plain": [
       "10"
      ]
     },
     "execution_count": 4,
     "metadata": {},
     "output_type": "execute_result"
    }
   ],
   "source": [
    "bhoomi"
   ]
  },
  {
   "cell_type": "code",
   "execution_count": 5,
   "id": "c907fb6a",
   "metadata": {},
   "outputs": [],
   "source": [
    "bhoomi23=100"
   ]
  },
  {
   "cell_type": "code",
   "execution_count": 7,
   "id": "9f365308",
   "metadata": {},
   "outputs": [
    {
     "data": {
      "text/plain": [
       "100"
      ]
     },
     "execution_count": 7,
     "metadata": {},
     "output_type": "execute_result"
    }
   ],
   "source": [
    "bhoomi23"
   ]
  },
  {
   "cell_type": "code",
   "execution_count": 8,
   "id": "7b7b06b3",
   "metadata": {},
   "outputs": [
    {
     "ename": "SyntaxError",
     "evalue": "invalid syntax (Temp/ipykernel_20460/1483621964.py, line 1)",
     "output_type": "error",
     "traceback": [
      "\u001b[1;36m  File \u001b[1;32m\"C:\\Users\\User\\AppData\\Local\\Temp/ipykernel_20460/1483621964.py\"\u001b[1;36m, line \u001b[1;32m1\u001b[0m\n\u001b[1;33m    12bhoomi=50\u001b[0m\n\u001b[1;37m      ^\u001b[0m\n\u001b[1;31mSyntaxError\u001b[0m\u001b[1;31m:\u001b[0m invalid syntax\n"
     ]
    }
   ],
   "source": [
    "12bhoomi=50"
   ]
  },
  {
   "cell_type": "code",
   "execution_count": 9,
   "id": "ad7f9903",
   "metadata": {},
   "outputs": [],
   "source": [
    "bhoomi_123=500"
   ]
  },
  {
   "cell_type": "code",
   "execution_count": 11,
   "id": "b3e9288a",
   "metadata": {},
   "outputs": [
    {
     "data": {
      "text/plain": [
       "500"
      ]
     },
     "execution_count": 11,
     "metadata": {},
     "output_type": "execute_result"
    }
   ],
   "source": [
    "bhoomi_123"
   ]
  },
  {
   "cell_type": "code",
   "execution_count": 14,
   "id": "74b54841",
   "metadata": {},
   "outputs": [
    {
     "ename": "SyntaxError",
     "evalue": "invalid syntax (Temp/ipykernel_20460/273411178.py, line 1)",
     "output_type": "error",
     "traceback": [
      "\u001b[1;36m  File \u001b[1;32m\"C:\\Users\\User\\AppData\\Local\\Temp/ipykernel_20460/273411178.py\"\u001b[1;36m, line \u001b[1;32m1\u001b[0m\n\u001b[1;33m    bhoomi@ =1\u001b[0m\n\u001b[1;37m            ^\u001b[0m\n\u001b[1;31mSyntaxError\u001b[0m\u001b[1;31m:\u001b[0m invalid syntax\n"
     ]
    }
   ],
   "source": [
    "bhoomi@ =1"
   ]
  },
  {
   "cell_type": "code",
   "execution_count": 15,
   "id": "825f43d4",
   "metadata": {},
   "outputs": [],
   "source": [
    "bhoomi%=12"
   ]
  },
  {
   "cell_type": "code",
   "execution_count": 16,
   "id": "f5746d1b",
   "metadata": {},
   "outputs": [
    {
     "ename": "SyntaxError",
     "evalue": "invalid syntax (Temp/ipykernel_20460/2456829812.py, line 1)",
     "output_type": "error",
     "traceback": [
      "\u001b[1;36m  File \u001b[1;32m\"C:\\Users\\User\\AppData\\Local\\Temp/ipykernel_20460/2456829812.py\"\u001b[1;36m, line \u001b[1;32m1\u001b[0m\n\u001b[1;33m    bhoomi%\u001b[0m\n\u001b[1;37m           ^\u001b[0m\n\u001b[1;31mSyntaxError\u001b[0m\u001b[1;31m:\u001b[0m invalid syntax\n"
     ]
    }
   ],
   "source": [
    "bhoomi%"
   ]
  },
  {
   "cell_type": "code",
   "execution_count": 17,
   "id": "c64019a1",
   "metadata": {},
   "outputs": [],
   "source": [
    "_bhoomika=10"
   ]
  },
  {
   "cell_type": "code",
   "execution_count": 18,
   "id": "718a2b6f",
   "metadata": {},
   "outputs": [
    {
     "data": {
      "text/plain": [
       "10"
      ]
     },
     "execution_count": 18,
     "metadata": {},
     "output_type": "execute_result"
    }
   ],
   "source": [
    "_bhoomika"
   ]
  },
  {
   "cell_type": "code",
   "execution_count": null,
   "id": "6f9c46f0",
   "metadata": {},
   "outputs": [],
   "source": []
  },
  {
   "cell_type": "markdown",
   "id": "40e21b6a",
   "metadata": {},
   "source": [
    "## Global Variables"
   ]
  },
  {
   "cell_type": "markdown",
   "id": "543d6111",
   "metadata": {},
   "source": [
    "1. Variables that are created outside a function are known as Global variables. \n",
    "2. All the variables that we have created till now in the above examples are global variables. \n",
    "3. Global variables can be used by everyone both inside of functions and outside. "
   ]
  },
  {
   "cell_type": "code",
   "execution_count": 9,
   "id": "013b8f77",
   "metadata": {},
   "outputs": [],
   "source": [
    "x=10"
   ]
  },
  {
   "cell_type": "code",
   "execution_count": 10,
   "id": "487794b1",
   "metadata": {},
   "outputs": [
    {
     "data": {
      "text/plain": [
       "10"
      ]
     },
     "execution_count": 10,
     "metadata": {},
     "output_type": "execute_result"
    }
   ],
   "source": [
    "x"
   ]
  },
  {
   "cell_type": "code",
   "execution_count": 19,
   "id": "1e3d1fb3",
   "metadata": {},
   "outputs": [
    {
     "name": "stdout",
     "output_type": "stream",
     "text": [
      "10\n"
     ]
    }
   ],
   "source": [
    "x=10\n",
    "print(x)"
   ]
  },
  {
   "cell_type": "code",
   "execution_count": 6,
   "id": "82310557",
   "metadata": {},
   "outputs": [
    {
     "name": "stdout",
     "output_type": "stream",
     "text": [
      "bye\n"
     ]
    }
   ],
   "source": [
    "x=50\n",
    "if x>60:\n",
    "\n",
    "\n",
    "print('bhoomi')\n",
    "else:\n",
    "    print('bye')"
   ]
  },
  {
   "cell_type": "code",
   "execution_count": null,
   "id": "f0240232",
   "metadata": {},
   "outputs": [],
   "source": []
  },
  {
   "cell_type": "markdown",
   "id": "43db48a7",
   "metadata": {},
   "source": [
    "## Local Variables"
   ]
  },
  {
   "cell_type": "markdown",
   "id": "82332e76",
   "metadata": {},
   "source": [
    "1. If you create a variable with the same name inside a function, the variable will be considered as local and can only be used inside that function.\n",
    "2. To create a gloabl variable inside a function , you can use the global keyword"
   ]
  },
  {
   "cell_type": "code",
   "execution_count": 11,
   "id": "ecafaea2",
   "metadata": {},
   "outputs": [],
   "source": [
    "## user defined funtion\n",
    "def add(a,b):\n",
    "    return a+b"
   ]
  },
  {
   "cell_type": "code",
   "execution_count": 13,
   "id": "2085ce1e",
   "metadata": {},
   "outputs": [
    {
     "data": {
      "text/plain": [
       "22"
      ]
     },
     "execution_count": 13,
     "metadata": {},
     "output_type": "execute_result"
    }
   ],
   "source": [
    "add(12,10)"
   ]
  },
  {
   "cell_type": "code",
   "execution_count": null,
   "id": "27eac6bd",
   "metadata": {},
   "outputs": [],
   "source": [
    "lambda, filter, map"
   ]
  },
  {
   "cell_type": "code",
   "execution_count": null,
   "id": "1598f4ac",
   "metadata": {},
   "outputs": [],
   "source": []
  }
 ],
 "metadata": {
  "kernelspec": {
   "display_name": "Python 3 (ipykernel)",
   "language": "python",
   "name": "python3"
  },
  "language_info": {
   "codemirror_mode": {
    "name": "ipython",
    "version": 3
   },
   "file_extension": ".py",
   "mimetype": "text/x-python",
   "name": "python",
   "nbconvert_exporter": "python",
   "pygments_lexer": "ipython3",
   "version": "3.9.7"
  }
 },
 "nbformat": 4,
 "nbformat_minor": 5
}
