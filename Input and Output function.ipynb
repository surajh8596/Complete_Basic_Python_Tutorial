{
 "cells": [
  {
   "cell_type": "markdown",
   "id": "d680c2f4",
   "metadata": {},
   "source": [
    "## Input And Output functions in python"
   ]
  },
  {
   "cell_type": "markdown",
   "id": "7f021851",
   "metadata": {},
   "source": [
    "### In any other programming langauges like c, c++, java , the input and output functions are there in python too."
   ]
  },
  {
   "cell_type": "markdown",
   "id": "a6c09d2f",
   "metadata": {},
   "source": [
    "### Input function\n",
    "  #### input()\n",
    "    \n",
    "### Output function\n",
    "  ### print()"
   ]
  },
  {
   "cell_type": "code",
   "execution_count": 1,
   "id": "a2346fa1",
   "metadata": {},
   "outputs": [],
   "source": [
    "a='suraj'"
   ]
  },
  {
   "cell_type": "code",
   "execution_count": 2,
   "id": "0b444f64",
   "metadata": {},
   "outputs": [
    {
     "name": "stdout",
     "output_type": "stream",
     "text": [
      "suraj\n"
     ]
    }
   ],
   "source": [
    "print(a)"
   ]
  },
  {
   "cell_type": "code",
   "execution_count": 3,
   "id": "0133451e",
   "metadata": {},
   "outputs": [
    {
     "data": {
      "text/plain": [
       "'suraj'"
      ]
     },
     "execution_count": 3,
     "metadata": {},
     "output_type": "execute_result"
    }
   ],
   "source": [
    "a"
   ]
  },
  {
   "cell_type": "code",
   "execution_count": 4,
   "id": "3d344229",
   "metadata": {},
   "outputs": [
    {
     "name": "stdout",
     "output_type": "stream",
     "text": [
      "30\n"
     ]
    }
   ],
   "source": [
    "a=10\n",
    "b=20\n",
    "print(a+b)"
   ]
  },
  {
   "cell_type": "code",
   "execution_count": 5,
   "id": "5cdf3974",
   "metadata": {},
   "outputs": [
    {
     "name": "stdout",
     "output_type": "stream",
     "text": [
      "addition of 2 numbers 30\n"
     ]
    }
   ],
   "source": [
    "print('addition of 2 numbers', a+b)"
   ]
  },
  {
   "cell_type": "code",
   "execution_count": null,
   "id": "9084d9a0",
   "metadata": {},
   "outputs": [],
   "source": []
  },
  {
   "cell_type": "code",
   "execution_count": 6,
   "id": "9cb3b866",
   "metadata": {},
   "outputs": [
    {
     "name": "stdout",
     "output_type": "stream",
     "text": [
      "Enter first number = 1996\n",
      "my number  1996\n"
     ]
    }
   ],
   "source": [
    "a=input(\"Enter first number = \")\n",
    "print(\"my number \" , a)"
   ]
  },
  {
   "cell_type": "code",
   "execution_count": 7,
   "id": "e6f77d44",
   "metadata": {},
   "outputs": [
    {
     "name": "stdout",
     "output_type": "stream",
     "text": [
      "enter my name = Shreedhar\n",
      "my name is Shreedhar\n"
     ]
    }
   ],
   "source": [
    "a=input(\"enter my name = \")\n",
    "print(\"my name is\", a)"
   ]
  },
  {
   "cell_type": "code",
   "execution_count": 9,
   "id": "35dd9e5a",
   "metadata": {},
   "outputs": [
    {
     "name": "stdout",
     "output_type": "stream",
     "text": [
      "Enter first name = suraj\n",
      "Enter last name = honkamble\n",
      "my full name is  suraj honkamble\n"
     ]
    }
   ],
   "source": [
    "a=input(\"Enter first name = \")\n",
    "b=input(\"Enter last name = \")\n",
    "print(\"my full name is \", a,b)"
   ]
  },
  {
   "cell_type": "code",
   "execution_count": null,
   "id": "df660646",
   "metadata": {},
   "outputs": [],
   "source": []
  },
  {
   "cell_type": "code",
   "execution_count": 10,
   "id": "f6c36f57",
   "metadata": {},
   "outputs": [
    {
     "name": "stdout",
     "output_type": "stream",
     "text": [
      "enter first number = 10\n",
      "enter second number = 20\n",
      "addition is  1020\n"
     ]
    }
   ],
   "source": [
    "a=input(\"enter first number = \")\n",
    "b=input(\"enter second number = \")\n",
    "c=a+b\n",
    "print(\"addition is \", c)"
   ]
  },
  {
   "cell_type": "code",
   "execution_count": 11,
   "id": "7a391872",
   "metadata": {},
   "outputs": [
    {
     "name": "stdout",
     "output_type": "stream",
     "text": [
      "enter first number = 10\n",
      "enter second number = 20\n",
      "addition is  1020\n",
      "<class 'str'>\n"
     ]
    }
   ],
   "source": [
    "a=input(\"enter first number = \")\n",
    "b=input(\"enter second number = \")\n",
    "c=a+b\n",
    "print(\"addition is \", c)\n",
    "print(type(c))"
   ]
  },
  {
   "cell_type": "code",
   "execution_count": 13,
   "id": "f11e6ad7",
   "metadata": {},
   "outputs": [
    {
     "name": "stdout",
     "output_type": "stream",
     "text": [
      "enter first number = 10\n",
      "enter second number = 20\n",
      "addition is  30\n",
      "<class 'int'>\n"
     ]
    }
   ],
   "source": [
    "a=int(input(\"enter first number = \"))\n",
    "b=int(input(\"enter second number = \"))\n",
    "c=a+b\n",
    "print(\"addition is \", c)\n",
    "print(type(c))"
   ]
  },
  {
   "cell_type": "code",
   "execution_count": 14,
   "id": "7adfa6df",
   "metadata": {},
   "outputs": [],
   "source": [
    "##calculate area of tringle "
   ]
  },
  {
   "cell_type": "code",
   "execution_count": 15,
   "id": "019dc9bb",
   "metadata": {},
   "outputs": [],
   "source": [
    "## area of tringle=(base*height)/2"
   ]
  },
  {
   "cell_type": "code",
   "execution_count": 16,
   "id": "7a10d7b9",
   "metadata": {},
   "outputs": [],
   "source": [
    "## area of square= side*side"
   ]
  },
  {
   "cell_type": "code",
   "execution_count": 18,
   "id": "eee28090",
   "metadata": {},
   "outputs": [],
   "source": [
    "## area of rectangle= width*height"
   ]
  },
  {
   "cell_type": "code",
   "execution_count": null,
   "id": "2aa8e016",
   "metadata": {},
   "outputs": [],
   "source": []
  },
  {
   "cell_type": "code",
   "execution_count": 23,
   "id": "2d4a5a85",
   "metadata": {},
   "outputs": [
    {
     "name": "stdout",
     "output_type": "stream",
     "text": [
      "enter expression = 2+12\n",
      "14\n"
     ]
    }
   ],
   "source": [
    "a=eval(input(\"enter expression = \"))\n",
    "print(a)"
   ]
  },
  {
   "cell_type": "code",
   "execution_count": 24,
   "id": "6dc1511c",
   "metadata": {},
   "outputs": [
    {
     "name": "stdout",
     "output_type": "stream",
     "text": [
      "enter expression = 100/2+4\n",
      "54.0\n"
     ]
    }
   ],
   "source": [
    "a=eval(input(\"enter expression = \"))\n",
    "print(a)"
   ]
  },
  {
   "cell_type": "code",
   "execution_count": null,
   "id": "9b0e5e62",
   "metadata": {},
   "outputs": [],
   "source": []
  },
  {
   "cell_type": "code",
   "execution_count": 25,
   "id": "4f9e8e12",
   "metadata": {},
   "outputs": [
    {
     "data": {
      "text/plain": [
       "[1, 2, 3, 4, 5, 6, 7, 8]"
      ]
     },
     "execution_count": 25,
     "metadata": {},
     "output_type": "execute_result"
    }
   ],
   "source": [
    "x=[1,2,3,4,5,6,7,8]\n",
    "x"
   ]
  },
  {
   "cell_type": "code",
   "execution_count": 26,
   "id": "e9364c69",
   "metadata": {},
   "outputs": [],
   "source": [
    "x.append(9)"
   ]
  },
  {
   "cell_type": "code",
   "execution_count": 27,
   "id": "3f99b1e8",
   "metadata": {},
   "outputs": [
    {
     "data": {
      "text/plain": [
       "[1, 2, 3, 4, 5, 6, 7, 8, 9]"
      ]
     },
     "execution_count": 27,
     "metadata": {},
     "output_type": "execute_result"
    }
   ],
   "source": [
    "x"
   ]
  },
  {
   "cell_type": "code",
   "execution_count": null,
   "id": "694da277",
   "metadata": {},
   "outputs": [],
   "source": []
  },
  {
   "cell_type": "code",
   "execution_count": 28,
   "id": "c68b4d8e",
   "metadata": {},
   "outputs": [
    {
     "data": {
      "text/plain": [
       "(1, 2, 3, 4, 5, 6, 7, 8)"
      ]
     },
     "execution_count": 28,
     "metadata": {},
     "output_type": "execute_result"
    }
   ],
   "source": [
    "x=(1,2,3,4,5,6,7,8)\n",
    "x"
   ]
  },
  {
   "cell_type": "code",
   "execution_count": 29,
   "id": "fc219be2",
   "metadata": {},
   "outputs": [
    {
     "ename": "AttributeError",
     "evalue": "'tuple' object has no attribute 'add'",
     "output_type": "error",
     "traceback": [
      "\u001b[1;31m---------------------------------------------------------------------------\u001b[0m",
      "\u001b[1;31mAttributeError\u001b[0m                            Traceback (most recent call last)",
      "\u001b[1;32m~\\AppData\\Local\\Temp/ipykernel_11744/2856832979.py\u001b[0m in \u001b[0;36m<module>\u001b[1;34m\u001b[0m\n\u001b[1;32m----> 1\u001b[1;33m \u001b[0mx\u001b[0m\u001b[1;33m.\u001b[0m\u001b[0madd\u001b[0m\u001b[1;33m(\u001b[0m\u001b[1;36m9\u001b[0m\u001b[1;33m)\u001b[0m\u001b[1;33m\u001b[0m\u001b[1;33m\u001b[0m\u001b[0m\n\u001b[0m",
      "\u001b[1;31mAttributeError\u001b[0m: 'tuple' object has no attribute 'add'"
     ]
    }
   ],
   "source": [
    "x.add(9)"
   ]
  },
  {
   "cell_type": "code",
   "execution_count": 30,
   "id": "980f9efd",
   "metadata": {},
   "outputs": [
    {
     "data": {
      "text/plain": [
       "(1, 2, 3, 4, 5, 6, 7, 8, 9)"
      ]
     },
     "execution_count": 30,
     "metadata": {},
     "output_type": "execute_result"
    }
   ],
   "source": [
    "x=(1,2,3,4,5,6,7,8,9)\n",
    "x"
   ]
  },
  {
   "cell_type": "code",
   "execution_count": 31,
   "id": "5feb5cdc",
   "metadata": {},
   "outputs": [
    {
     "data": {
      "text/plain": [
       "tuple"
      ]
     },
     "execution_count": 31,
     "metadata": {},
     "output_type": "execute_result"
    }
   ],
   "source": [
    "type(x)"
   ]
  },
  {
   "cell_type": "code",
   "execution_count": 32,
   "id": "be5cb788",
   "metadata": {},
   "outputs": [],
   "source": [
    "x=list(x)"
   ]
  },
  {
   "cell_type": "code",
   "execution_count": 33,
   "id": "1659cf9d",
   "metadata": {},
   "outputs": [
    {
     "data": {
      "text/plain": [
       "[1, 2, 3, 4, 5, 6, 7, 8, 9]"
      ]
     },
     "execution_count": 33,
     "metadata": {},
     "output_type": "execute_result"
    }
   ],
   "source": [
    "x"
   ]
  },
  {
   "cell_type": "code",
   "execution_count": 34,
   "id": "218df473",
   "metadata": {},
   "outputs": [
    {
     "data": {
      "text/plain": [
       "list"
      ]
     },
     "execution_count": 34,
     "metadata": {},
     "output_type": "execute_result"
    }
   ],
   "source": [
    "type(x)"
   ]
  },
  {
   "cell_type": "code",
   "execution_count": 35,
   "id": "01d0da36",
   "metadata": {},
   "outputs": [
    {
     "data": {
      "text/plain": [
       "[1, 2, 3, 4, 5, 6, 7, 8, 9, 10]"
      ]
     },
     "execution_count": 35,
     "metadata": {},
     "output_type": "execute_result"
    }
   ],
   "source": [
    "x.append(10)\n",
    "x"
   ]
  },
  {
   "cell_type": "code",
   "execution_count": 36,
   "id": "8ef51c6a",
   "metadata": {},
   "outputs": [],
   "source": [
    "x=tuple(x)"
   ]
  },
  {
   "cell_type": "code",
   "execution_count": 37,
   "id": "e6d62ea8",
   "metadata": {},
   "outputs": [
    {
     "data": {
      "text/plain": [
       "(1, 2, 3, 4, 5, 6, 7, 8, 9, 10)"
      ]
     },
     "execution_count": 37,
     "metadata": {},
     "output_type": "execute_result"
    }
   ],
   "source": [
    "x"
   ]
  },
  {
   "cell_type": "code",
   "execution_count": 38,
   "id": "0bc69be9",
   "metadata": {},
   "outputs": [
    {
     "data": {
      "text/plain": [
       "tuple"
      ]
     },
     "execution_count": 38,
     "metadata": {},
     "output_type": "execute_result"
    }
   ],
   "source": [
    "type(x)"
   ]
  },
  {
   "cell_type": "code",
   "execution_count": null,
   "id": "519c7c04",
   "metadata": {},
   "outputs": [],
   "source": []
  },
  {
   "cell_type": "code",
   "execution_count": 41,
   "id": "24819c55",
   "metadata": {},
   "outputs": [
    {
     "name": "stdout",
     "output_type": "stream",
     "text": [
      "enter percentage of marks obained= 12.4\n",
      "12.4\n",
      "<class 'str'>\n"
     ]
    }
   ],
   "source": [
    "a=input(\"enter percentage of marks obained= \")\n",
    "print(a)\n",
    "print(type(a))"
   ]
  },
  {
   "cell_type": "code",
   "execution_count": 42,
   "id": "c95853d2",
   "metadata": {},
   "outputs": [
    {
     "name": "stdout",
     "output_type": "stream",
     "text": [
      "enter percentage of marks obained= 34.5\n",
      "34.5\n",
      "<class 'float'>\n"
     ]
    }
   ],
   "source": [
    "a=float(input(\"enter percentage of marks obained= \"))\n",
    "print(a)\n",
    "print(type(a))"
   ]
  },
  {
   "cell_type": "code",
   "execution_count": 43,
   "id": "7044e086",
   "metadata": {},
   "outputs": [],
   "source": [
    "## write a program using i/o and print your total marks\n",
    "# maths ----\n",
    "## science---\n",
    "## english-- "
   ]
  },
  {
   "cell_type": "code",
   "execution_count": null,
   "id": "d6110e84",
   "metadata": {},
   "outputs": [],
   "source": []
  }
 ],
 "metadata": {
  "kernelspec": {
   "display_name": "Python 3 (ipykernel)",
   "language": "python",
   "name": "python3"
  },
  "language_info": {
   "codemirror_mode": {
    "name": "ipython",
    "version": 3
   },
   "file_extension": ".py",
   "mimetype": "text/x-python",
   "name": "python",
   "nbconvert_exporter": "python",
   "pygments_lexer": "ipython3",
   "version": "3.9.7"
  }
 },
 "nbformat": 4,
 "nbformat_minor": 5
}
