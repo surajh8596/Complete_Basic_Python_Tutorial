{
 "cells": [
  {
   "cell_type": "markdown",
   "id": "37ff8f70",
   "metadata": {},
   "source": [
    "### Python Basics"
   ]
  },
  {
   "cell_type": "markdown",
   "id": "4d63eced",
   "metadata": {},
   "source": [
    "     - Python was developed by Guido van Rossum, and released in 1991.\n",
    "1. Python is a scripting language\n",
    "   a.A scripting language is a programming language for a runtime system that automates the execution of tasks.\n",
    "\n",
    "2. Python has modules and packages which can be used to add features\n",
    "   a.A Python module is a file containing Python definitions and statements. A module can define functions, classes, and     variables. A module can also include runnable code.\n",
    "   b.A package is a collection of Python modules, i.e., a package is a directory of Python modules containing an additional __init__.py file. The __init__.py distinguishes a package from a directory that just happens to contain a bunch of Python scripts.\n",
    "   \n",
    "3. It is a general purpose(wide applications) objected oriented scripting language.\n",
    "   a.Object-oriented language (OOL) is a high-level computer programming language that implements objects and their associated procedures within the programming context to create software programs.\n",
    "   b.High-level language\n",
    "   It can be easily interpreted as well as compiled in comparison to low-level language\n",
    "   It can be considered as a programmer-friendly language\n",
    "   It is easy to understand.\n",
    "   It is easy to debug.\n",
    "   It is simple in terms of maintenance.\n",
    "   \n",
    "4. Can be used for various purposes as mentioned below:\n",
    "                - Application Development\n",
    "                - Database Programming\n",
    "                - Statistical Programming/Computing\n",
    "                - Automation\n",
    "                - Game Designing\n",
    "                - Networking\n",
    "                - Search Engine Optimization and so on."
   ]
  },
  {
   "cell_type": "markdown",
   "id": "43ad1497",
   "metadata": {},
   "source": [
    "## Ways to launch Jupyter Notebook"
   ]
  },
  {
   "cell_type": "markdown",
   "id": "46093577",
   "metadata": {},
   "source": [
    "1. Can be launched by the below mentioned ways:\n",
    "            - Anaconda Navigator (The problem in this way is that it is restricted to user'folder. \n",
    "            - Terminal | Command Prompt :\n",
    "                . It is restircted to the desired folder. \n",
    "                . We can launch from a specific folder as well. \n",
    "                . Once we launch it from a specific folder we are restricted to that folder. \n",
    "2. Command - Jupyter Notebook \n",
    "3. Command Line | Terminal - Navigate to the drive where your folder is."
   ]
  },
  {
   "cell_type": "markdown",
   "id": "23d57434",
   "metadata": {},
   "source": [
    "## Cell States"
   ]
  },
  {
   "cell_type": "markdown",
   "id": "9b12c17e",
   "metadata": {},
   "source": [
    "1. A cell in your Jupyter notebook can be in any of the below two mentioned states\n",
    "            - Edit State (Where any text in the cell can be edited) - Press Esc to reach this state. \n",
    "            - Select State (Can just select the cell apart from that you cannot perform any other action on that cell) - Press Enter in the cell to reach this state. "
   ]
  },
  {
   "cell_type": "markdown",
   "id": "2270f88c",
   "metadata": {},
   "source": [
    "## Running Codes in Python"
   ]
  },
  {
   "cell_type": "markdown",
   "id": "84ec7c09",
   "metadata": {},
   "source": [
    "1. There are two ways in which you can run a code in Python as stated below:\n",
    "\n",
    "                - Shift + Enter ( To run the code)\n",
    "                            . If you run the code using Shift + Enter the code will run and it will automatically move on to the next cell. \n",
    "                 - Ctrl + Enter | Alt + Enter ( To run the code)\n",
    "                             . If you run the code by using any of the above two key combinations the code will run and the cursor will remain in the same cell. \n",
    "                             . Will run the code and will create a new cell as well below the code no matter there was already a cell that was there.\n",
    "                    - if you want to add cell above the selected cell press \"a\"\n",
    "                    - if you want to cell bellow the selected cell press \"b\"\n",
    "                    -if you want to delete a selected cell press \"2 times d\""
   ]
  },
  {
   "cell_type": "markdown",
   "id": "27ca1098",
   "metadata": {},
   "source": [
    "## Cell type"
   ]
  },
  {
   "cell_type": "markdown",
   "id": "e94112b6",
   "metadata": {},
   "source": [
    "1. code cell - where which we write our python code\n",
    "2. Markdown cell- This cell used to create points or notes\n",
    "3. Raw NBConvert- The Raw NBConvert cell type is only intended for special use cases when using the nbconvert command line tool. Basically it allows you to control the formatting in a very specific way when converting from a Notebook to another format.\n",
    "4. Heading- Used to create big font bold headings "
   ]
  },
  {
   "cell_type": "markdown",
   "id": "214f72f5",
   "metadata": {},
   "source": [
    "# suraj honkamble"
   ]
  },
  {
   "cell_type": "code",
   "execution_count": 1,
   "id": "83d6e649",
   "metadata": {},
   "outputs": [
    {
     "ename": "SyntaxError",
     "evalue": "invalid syntax (Temp/ipykernel_14064/3821453345.py, line 1)",
     "output_type": "error",
     "traceback": [
      "\u001b[1;36m  File \u001b[1;32m\"C:\\Users\\User\\AppData\\Local\\Temp/ipykernel_14064/3821453345.py\"\u001b[1;36m, line \u001b[1;32m1\u001b[0m\n\u001b[1;33m    suraj honkamble\u001b[0m\n\u001b[1;37m          ^\u001b[0m\n\u001b[1;31mSyntaxError\u001b[0m\u001b[1;31m:\u001b[0m invalid syntax\n"
     ]
    }
   ],
   "source": [
    "suraj honkamble"
   ]
  },
  {
   "cell_type": "raw",
   "id": "864fb0da",
   "metadata": {},
   "source": [
    "gksdjsdjsdd"
   ]
  },
  {
   "cell_type": "markdown",
   "id": "a5fe61ef",
   "metadata": {},
   "source": [
    "#  suraj\n",
    "## rohan"
   ]
  },
  {
   "cell_type": "code",
   "execution_count": null,
   "id": "1d00eabe",
   "metadata": {},
   "outputs": [],
   "source": []
  }
 ],
 "metadata": {
  "kernelspec": {
   "display_name": "Python 3 (ipykernel)",
   "language": "python",
   "name": "python3"
  },
  "language_info": {
   "codemirror_mode": {
    "name": "ipython",
    "version": 3
   },
   "file_extension": ".py",
   "mimetype": "text/x-python",
   "name": "python",
   "nbconvert_exporter": "python",
   "pygments_lexer": "ipython3",
   "version": "3.9.7"
  }
 },
 "nbformat": 4,
 "nbformat_minor": 5
}
