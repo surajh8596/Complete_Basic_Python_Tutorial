{
 "cells": [
  {
   "cell_type": "markdown",
   "id": "449f0d5e",
   "metadata": {},
   "source": [
    "## Class and Object"
   ]
  },
  {
   "cell_type": "markdown",
   "id": "93ba35e9",
   "metadata": {},
   "source": [
    "### Class\n",
    "    * 1 class may have multiple object"
   ]
  },
  {
   "cell_type": "code",
   "execution_count": 5,
   "id": "12d208f0",
   "metadata": {},
   "outputs": [
    {
     "name": "stdout",
     "output_type": "stream",
     "text": [
      "10\n",
      "10\n"
     ]
    }
   ],
   "source": [
    "class DemoClass:\n",
    "    a=10\n",
    "    \n",
    "demo_object=DemoClass()        ### Object\n",
    "demo_object2=DemoClass()\n",
    "print(demo_object.a)\n",
    "print(demo_object2.a)"
   ]
  },
  {
   "cell_type": "code",
   "execution_count": null,
   "id": "d54ca624",
   "metadata": {},
   "outputs": [],
   "source": []
  },
  {
   "cell_type": "code",
   "execution_count": 4,
   "id": "521994b5",
   "metadata": {},
   "outputs": [
    {
     "name": "stdout",
     "output_type": "stream",
     "text": [
      "10\n",
      "50\n"
     ]
    }
   ],
   "source": [
    "class SimpleClass:\n",
    "    a=10\n",
    "    \n",
    "    def value(self):\n",
    "        print(20+30)\n",
    "        \n",
    "a=SimpleClass()\n",
    "\n",
    "print(a.a)\n",
    "a.value()"
   ]
  },
  {
   "cell_type": "code",
   "execution_count": null,
   "id": "5e4795e7",
   "metadata": {},
   "outputs": [],
   "source": []
  },
  {
   "cell_type": "markdown",
   "id": "0c1a263a",
   "metadata": {},
   "source": [
    "### Method and Constructor\n",
    "    * method have self keyword\n",
    "    * no need to call constructor"
   ]
  },
  {
   "cell_type": "code",
   "execution_count": 6,
   "id": "44add4ff",
   "metadata": {},
   "outputs": [
    {
     "name": "stdout",
     "output_type": "stream",
     "text": [
      "10\n"
     ]
    }
   ],
   "source": [
    "class MyClass:   ### class\n",
    "    a=10\n",
    "    def showvalue(self):    ### method\n",
    "        print(self.a)\n",
    "        \n",
    "obj=MyClass()    ### object\n",
    "\n",
    "obj.showvalue()     ### calling an object"
   ]
  },
  {
   "cell_type": "code",
   "execution_count": null,
   "id": "f10e76d2",
   "metadata": {},
   "outputs": [],
   "source": []
  },
  {
   "cell_type": "markdown",
   "id": "30a08e70",
   "metadata": {},
   "source": [
    "##### When you are creating variable inside method you need to use 'self' keyword\n",
    "see below 2 eg."
   ]
  },
  {
   "cell_type": "code",
   "execution_count": 11,
   "id": "b675f3bf",
   "metadata": {},
   "outputs": [
    {
     "name": "stdout",
     "output_type": "stream",
     "text": [
      "10\n",
      "Welcome Home\n"
     ]
    }
   ],
   "source": [
    "class MyClass:\n",
    "    a=10\n",
    "    def showvalue(self):     ## method\n",
    "        print(self.a)\n",
    "        \n",
    "    def showsent(self):\n",
    "        print(\"Welcome Home\")\n",
    "        \n",
    "obj=MyClass()\n",
    "\n",
    "obj.showvalue()\n",
    "obj.showsent()"
   ]
  },
  {
   "cell_type": "code",
   "execution_count": 12,
   "id": "9299462f",
   "metadata": {},
   "outputs": [
    {
     "name": "stdout",
     "output_type": "stream",
     "text": [
      "10\n",
      "Welcome Home\n",
      "100\n"
     ]
    }
   ],
   "source": [
    "class MyClass:\n",
    "    a=10\n",
    "    def showvalue(self):      ### method\n",
    "        print(self.a)\n",
    "        \n",
    "    def showsent(self):\n",
    "        print(\"Welcome Home\")\n",
    "        self.c=self.a*self.a\n",
    "        print(self.c)\n",
    "        \n",
    "obj=MyClass()\n",
    "\n",
    "obj.showvalue()\n",
    "obj.showsent()"
   ]
  },
  {
   "cell_type": "code",
   "execution_count": null,
   "id": "7e129bb5",
   "metadata": {},
   "outputs": [],
   "source": []
  },
  {
   "cell_type": "markdown",
   "id": "6c800484",
   "metadata": {},
   "source": [
    "##### When you are passing variable as a argument in a method then you no need to use 'self' keyword\n",
    "see bellow eg."
   ]
  },
  {
   "cell_type": "code",
   "execution_count": 9,
   "id": "68924e96",
   "metadata": {},
   "outputs": [
    {
     "name": "stdout",
     "output_type": "stream",
     "text": [
      "10\n",
      "Welcome Home\n",
      "46\n"
     ]
    }
   ],
   "source": [
    "class MyClass:\n",
    "    a=10\n",
    "    def showvalue(self):   ## method\n",
    "        print(self.a)\n",
    "        \n",
    "    def showsent(self, a,b):     ### method\n",
    "        print(\"Welcome Home\")\n",
    "        print(a+b)\n",
    "        \n",
    "obj=MyClass()\n",
    "\n",
    "obj.showvalue()\n",
    "obj.showsent(12,34)"
   ]
  },
  {
   "cell_type": "code",
   "execution_count": null,
   "id": "480b9c3a",
   "metadata": {},
   "outputs": [],
   "source": []
  },
  {
   "cell_type": "code",
   "execution_count": 13,
   "id": "279d45dd",
   "metadata": {},
   "outputs": [
    {
     "name": "stdout",
     "output_type": "stream",
     "text": [
      "Welcome to constructor\n",
      "10\n",
      "Welcome Home\n",
      "46\n"
     ]
    }
   ],
   "source": [
    "class MyClass:\n",
    "    a=10\n",
    "    def __init__(self):    ### constructor\n",
    "        print(\"Welcome to constructor\")\n",
    "    \n",
    "    def showvalue(self):   ## method\n",
    "        print(self.a)\n",
    "        \n",
    "    def showsent(self, a,b):     ### method\n",
    "        print(\"Welcome Home\")\n",
    "        print(a+b)\n",
    "        \n",
    "obj=MyClass()\n",
    "\n",
    "obj.showvalue()\n",
    "obj.showsent(12,34)"
   ]
  },
  {
   "cell_type": "code",
   "execution_count": null,
   "id": "973b9ec7",
   "metadata": {},
   "outputs": [],
   "source": []
  },
  {
   "cell_type": "code",
   "execution_count": null,
   "id": "69320af0",
   "metadata": {},
   "outputs": [],
   "source": []
  },
  {
   "cell_type": "markdown",
   "id": "075f3ca3",
   "metadata": {},
   "source": [
    "## Inheritance in python"
   ]
  },
  {
   "cell_type": "markdown",
   "id": "251b2ad0",
   "metadata": {},
   "source": [
    "### single inheritance"
   ]
  },
  {
   "cell_type": "code",
   "execution_count": 14,
   "id": "7fb74dfc",
   "metadata": {},
   "outputs": [
    {
     "name": "stdout",
     "output_type": "stream",
     "text": [
      "welcome home  A\n",
      "welcome home  B\n"
     ]
    }
   ],
   "source": [
    "class A:\n",
    "    def displayA(self):\n",
    "        print(\"welcome home  A\")\n",
    "        \n",
    "class B(A):\n",
    "    def displayB(self):\n",
    "        print(\"welcome home  B\")\n",
    "        \n",
    "obj=B()\n",
    "\n",
    "obj.displayA()\n",
    "obj.displayB()"
   ]
  },
  {
   "cell_type": "code",
   "execution_count": null,
   "id": "c032f5f0",
   "metadata": {},
   "outputs": [],
   "source": []
  },
  {
   "cell_type": "markdown",
   "id": "ee5fce45",
   "metadata": {},
   "source": [
    "### Multilevel inheritance"
   ]
  },
  {
   "cell_type": "code",
   "execution_count": 17,
   "id": "b5048301",
   "metadata": {},
   "outputs": [
    {
     "name": "stdout",
     "output_type": "stream",
     "text": [
      "welcome home  A\n",
      "welcome home  B\n",
      "welcome home  C\n"
     ]
    }
   ],
   "source": [
    "class A:\n",
    "    def displayA(self):\n",
    "        print(\"welcome home  A\")\n",
    "        \n",
    "class B(A):\n",
    "    def displayB(self):\n",
    "        print(\"welcome home  B\")\n",
    "        \n",
    "class C(B):\n",
    "    def displayC(self):\n",
    "        print(\"welcome home  C\")\n",
    "        \n",
    "obj=C()\n",
    "\n",
    "obj.displayA()\n",
    "obj.displayB()\n",
    "obj.displayC()"
   ]
  },
  {
   "cell_type": "code",
   "execution_count": null,
   "id": "35db2402",
   "metadata": {},
   "outputs": [],
   "source": []
  },
  {
   "cell_type": "markdown",
   "id": "c8bbe0f2",
   "metadata": {},
   "source": [
    "### Multiple Inheritance"
   ]
  },
  {
   "cell_type": "code",
   "execution_count": 18,
   "id": "3abb1be5",
   "metadata": {},
   "outputs": [
    {
     "name": "stdout",
     "output_type": "stream",
     "text": [
      "welcome home  A\n",
      "welcome home  B\n",
      "welcome home  C\n"
     ]
    }
   ],
   "source": [
    "class A:\n",
    "    def displayA(self):\n",
    "        print(\"welcome home  A\")\n",
    "        \n",
    "class B:\n",
    "    def displayB(self):\n",
    "        print(\"welcome home  B\")\n",
    "        \n",
    "class C(A,B):\n",
    "    def displayC(self):\n",
    "        print(\"welcome home  C\")\n",
    "        \n",
    "obj=C()\n",
    "\n",
    "obj.displayA()\n",
    "obj.displayB()\n",
    "obj.displayC()"
   ]
  },
  {
   "cell_type": "code",
   "execution_count": null,
   "id": "1068dc9a",
   "metadata": {},
   "outputs": [],
   "source": []
  },
  {
   "cell_type": "code",
   "execution_count": null,
   "id": "db36be71",
   "metadata": {},
   "outputs": [],
   "source": []
  },
  {
   "cell_type": "markdown",
   "id": "37fa19f2",
   "metadata": {},
   "source": [
    "## Encapsulation--privatizing\n",
    "    * an objects variable should not always be directly accessible.\n",
    "    * the methods can ensure that correct values are set, if an incorrect alue is set then the method can return an error"
   ]
  },
  {
   "cell_type": "markdown",
   "id": "b4a7fd82",
   "metadata": {},
   "source": [
    "### Getter and setter"
   ]
  },
  {
   "cell_type": "code",
   "execution_count": 20,
   "id": "66a50885",
   "metadata": {},
   "outputs": [
    {
     "name": "stdout",
     "output_type": "stream",
     "text": [
      "Suraj\n"
     ]
    }
   ],
   "source": [
    "class Student:\n",
    "    def __init__(self):\n",
    "        self.__name= \"\"    ## private variable\n",
    "        \n",
    "    def getname(self):\n",
    "        return self.__name\n",
    "    \n",
    "    def setname(self,name):\n",
    "        self.__name=name\n",
    "        \n",
    "        \n",
    "obj=Student()\n",
    "\n",
    "obj.setname(\"Suraj\")\n",
    "name=obj.getname()\n",
    "\n",
    "print(name)"
   ]
  },
  {
   "cell_type": "code",
   "execution_count": null,
   "id": "4e2d319a",
   "metadata": {},
   "outputs": [],
   "source": []
  },
  {
   "cell_type": "markdown",
   "id": "b97ce3ea",
   "metadata": {},
   "source": [
    "##### if you create private variable using '__' then you cannot use that variable directly through object thats why it gives you error"
   ]
  },
  {
   "cell_type": "code",
   "execution_count": 21,
   "id": "a0df4cfa",
   "metadata": {},
   "outputs": [
    {
     "ename": "AttributeError",
     "evalue": "'Student' object has no attribute '__name'",
     "output_type": "error",
     "traceback": [
      "\u001b[1;31m---------------------------------------------------------------------------\u001b[0m",
      "\u001b[1;31mAttributeError\u001b[0m                            Traceback (most recent call last)",
      "\u001b[1;32m~\\AppData\\Local\\Temp/ipykernel_15548/2187566421.py\u001b[0m in \u001b[0;36m<module>\u001b[1;34m\u001b[0m\n\u001b[0;32m      3\u001b[0m \u001b[1;33m\u001b[0m\u001b[0m\n\u001b[0;32m      4\u001b[0m \u001b[0mobj\u001b[0m\u001b[1;33m=\u001b[0m\u001b[0mStudent\u001b[0m\u001b[1;33m(\u001b[0m\u001b[1;33m)\u001b[0m\u001b[1;33m\u001b[0m\u001b[1;33m\u001b[0m\u001b[0m\n\u001b[1;32m----> 5\u001b[1;33m \u001b[0mprint\u001b[0m\u001b[1;33m(\u001b[0m\u001b[0mobj\u001b[0m\u001b[1;33m.\u001b[0m\u001b[0m__name\u001b[0m\u001b[1;33m)\u001b[0m\u001b[1;33m\u001b[0m\u001b[1;33m\u001b[0m\u001b[0m\n\u001b[0m",
      "\u001b[1;31mAttributeError\u001b[0m: 'Student' object has no attribute '__name'"
     ]
    }
   ],
   "source": [
    "class Student:\n",
    "    __name=\"Sush\"\n",
    "    \n",
    "obj=Student()\n",
    "print(obj.__name)"
   ]
  },
  {
   "cell_type": "markdown",
   "id": "1d93aa4b",
   "metadata": {},
   "source": [
    "#### to resolve above issue or use private varibale through object create constructor"
   ]
  },
  {
   "cell_type": "code",
   "execution_count": 22,
   "id": "9dde9a74",
   "metadata": {},
   "outputs": [
    {
     "name": "stdout",
     "output_type": "stream",
     "text": [
      "Sush\n"
     ]
    }
   ],
   "source": [
    "class Student:\n",
    "    __name=\"Sush\"\n",
    "    def __init__(self):\n",
    "        print(self.__name)\n",
    "    \n",
    "obj=Student()"
   ]
  },
  {
   "cell_type": "code",
   "execution_count": null,
   "id": "46ef384b",
   "metadata": {},
   "outputs": [],
   "source": []
  },
  {
   "cell_type": "markdown",
   "id": "8e18ec97",
   "metadata": {},
   "source": [
    "#### creating private method"
   ]
  },
  {
   "cell_type": "code",
   "execution_count": 23,
   "id": "a71c985f",
   "metadata": {},
   "outputs": [
    {
     "name": "stdout",
     "output_type": "stream",
     "text": [
      "Sush\n",
      "welcome home\n"
     ]
    }
   ],
   "source": [
    "class Student:\n",
    "    __name=\"Sush\"\n",
    "    def __init__(self):\n",
    "        print(self.__name)\n",
    "        self.__displayinfo()\n",
    "    def __displayinfo(self):\n",
    "        print(\"welcome home\")\n",
    "    \n",
    "obj=Student()"
   ]
  },
  {
   "cell_type": "code",
   "execution_count": null,
   "id": "f98499b0",
   "metadata": {},
   "outputs": [],
   "source": []
  },
  {
   "cell_type": "code",
   "execution_count": null,
   "id": "11794d01",
   "metadata": {},
   "outputs": [],
   "source": []
  },
  {
   "cell_type": "markdown",
   "id": "0b8031f8",
   "metadata": {},
   "source": [
    "## Polymorphism in python\n",
    "    * same function name but dfferent data type\n",
    "    eg. len(list) and len(str)"
   ]
  },
  {
   "cell_type": "markdown",
   "id": "d4c36e15",
   "metadata": {},
   "source": [
    "### Function overloading\n",
    "    * same function but different parameter, means if you not gave any parameter in calling object then it will take default, if you gave any parameter then it will take that parameter"
   ]
  },
  {
   "cell_type": "code",
   "execution_count": 26,
   "id": "39fca338",
   "metadata": {},
   "outputs": [
    {
     "name": "stdout",
     "output_type": "stream",
     "text": [
      "welcome home\n",
      "welcome homeSuraj\n"
     ]
    }
   ],
   "source": [
    "class program:\n",
    "    def displayinfo(self, name=\"\"):\n",
    "        print(\"welcome home\" + name)\n",
    "        \n",
    "obj=program()\n",
    "\n",
    "obj.displayinfo()\n",
    "obj.displayinfo(\"Suraj\")"
   ]
  },
  {
   "cell_type": "code",
   "execution_count": null,
   "id": "d87563f6",
   "metadata": {},
   "outputs": [],
   "source": []
  },
  {
   "cell_type": "markdown",
   "id": "59634352",
   "metadata": {},
   "source": [
    "### Function overriding\n",
    "    * same function with different class"
   ]
  },
  {
   "cell_type": "code",
   "execution_count": 30,
   "id": "9cb80d47",
   "metadata": {},
   "outputs": [
    {
     "name": "stdout",
     "output_type": "stream",
     "text": [
      "welcome python\n"
     ]
    }
   ],
   "source": [
    "class program:\n",
    "    def displayinfo(self):\n",
    "        print(\"welcome home\")\n",
    "        \n",
    "class python(program):\n",
    "    def displayinfo(self, name=\"\"):\n",
    "        print(\"welcome python\")\n",
    "        \n",
    "obj=python()\n",
    "\n",
    "obj.displayinfo()"
   ]
  },
  {
   "cell_type": "markdown",
   "id": "c71ca011",
   "metadata": {},
   "source": [
    "#### use super() to call parent function"
   ]
  },
  {
   "cell_type": "code",
   "execution_count": 32,
   "id": "969d6525",
   "metadata": {},
   "outputs": [
    {
     "name": "stdout",
     "output_type": "stream",
     "text": [
      "welcome home\n",
      "welcome python\n"
     ]
    }
   ],
   "source": [
    "class program:\n",
    "    def displayinfo(self):\n",
    "        print(\"welcome home\")\n",
    "        \n",
    "class python(program):\n",
    "    def displayinfo(self, name=\"\"):\n",
    "        super().displayinfo()      ## use super() to call parent function\n",
    "        print(\"welcome python\")\n",
    "        \n",
    "obj=python()\n",
    "\n",
    "obj.displayinfo()"
   ]
  },
  {
   "cell_type": "code",
   "execution_count": null,
   "id": "208278d1",
   "metadata": {},
   "outputs": [],
   "source": []
  },
  {
   "cell_type": "markdown",
   "id": "e66b44fb",
   "metadata": {},
   "source": [
    "### Method Overloading\n",
    "    * it is concept of polymorphism, comes under oops\n",
    "    * it is worked in same method names and differrent arguments, argument difference depends on number of arguments aand type of arguments"
   ]
  },
  {
   "cell_type": "code",
   "execution_count": 37,
   "id": "f6d99a68",
   "metadata": {},
   "outputs": [
    {
     "name": "stdout",
     "output_type": "stream",
     "text": [
      "nothing\n",
      "Area of Square : 100\n",
      "Area of Square : 200\n"
     ]
    }
   ],
   "source": [
    "class Area:\n",
    "    def find_area(self,a=None,b=None):\n",
    "        if a!=None and b!=None:\n",
    "            print(\"Area of Square :\", a*b)\n",
    "        elif a!=None:\n",
    "            print(\"Area of Square :\", a*a )\n",
    "        else:\n",
    "            print(\"nothing\")\n",
    "            \n",
    "obj1=Area()\n",
    "obj1.find_area()\n",
    "obj1.find_area(10)\n",
    "obj1.find_area(20,10)"
   ]
  },
  {
   "cell_type": "code",
   "execution_count": null,
   "id": "dcf91cae",
   "metadata": {},
   "outputs": [],
   "source": []
  },
  {
   "cell_type": "markdown",
   "id": "3906f92c",
   "metadata": {},
   "source": [
    "### Method overriding\n",
    "    * method having same name with same argument\n",
    "    * it is implemented with inheritance also\n",
    "    * it is mostly used for memory reducing process"
   ]
  },
  {
   "cell_type": "code",
   "execution_count": 38,
   "id": "5314b2f3",
   "metadata": {},
   "outputs": [
    {
     "name": "stdout",
     "output_type": "stream",
     "text": [
      "I am in B\n"
     ]
    }
   ],
   "source": [
    "class A:\n",
    "    def showData(self):\n",
    "        print(\"I am in A\")\n",
    "    \n",
    "class B(A):\n",
    "    def showData(self):\n",
    "        print(\"I am in B\")\n",
    "        \n",
    "obj=B()\n",
    "\n",
    "obj.showData()"
   ]
  },
  {
   "cell_type": "code",
   "execution_count": null,
   "id": "65c57ca4",
   "metadata": {},
   "outputs": [],
   "source": []
  }
 ],
 "metadata": {
  "kernelspec": {
   "display_name": "Python 3 (ipykernel)",
   "language": "python",
   "name": "python3"
  },
  "language_info": {
   "codemirror_mode": {
    "name": "ipython",
    "version": 3
   },
   "file_extension": ".py",
   "mimetype": "text/x-python",
   "name": "python",
   "nbconvert_exporter": "python",
   "pygments_lexer": "ipython3",
   "version": "3.9.7"
  }
 },
 "nbformat": 4,
 "nbformat_minor": 5
}
