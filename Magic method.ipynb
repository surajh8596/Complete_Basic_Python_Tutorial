{
 "cells": [
  {
   "cell_type": "code",
   "execution_count": 1,
   "id": "4f2cfb49",
   "metadata": {},
   "outputs": [
    {
     "name": "stdout",
     "output_type": "stream",
     "text": [
      "3.9.7 (default, Sep 16 2021, 16:59:28) [MSC v.1916 64 bit (AMD64)]\n"
     ]
    }
   ],
   "source": [
    "import sys\n",
    "print(sys.version)"
   ]
  },
  {
   "cell_type": "code",
   "execution_count": 2,
   "id": "f1151e31",
   "metadata": {},
   "outputs": [
    {
     "name": "stdout",
     "output_type": "stream",
     "text": [
      "3.9.7\n"
     ]
    }
   ],
   "source": [
    "from platform import python_version\n",
    "print(python_version())"
   ]
  },
  {
   "cell_type": "code",
   "execution_count": 14,
   "id": "b038df8c",
   "metadata": {},
   "outputs": [],
   "source": [
    "class car():\n",
    "    def __init__(self,name,door,engine):\n",
    "        self.name=name\n",
    "        self.door=door\n",
    "        self.engine=engine\n",
    "    def drive(self):\n",
    "        return \"Not support self drive\""
   ]
  },
  {
   "cell_type": "code",
   "execution_count": 15,
   "id": "a9b8b118",
   "metadata": {},
   "outputs": [],
   "source": [
    "c=car(\"audi\",4,\"petrol\")"
   ]
  },
  {
   "cell_type": "code",
   "execution_count": 16,
   "id": "b2846d34",
   "metadata": {},
   "outputs": [
    {
     "data": {
      "text/plain": [
       "4"
      ]
     },
     "execution_count": 16,
     "metadata": {},
     "output_type": "execute_result"
    }
   ],
   "source": [
    "c.door"
   ]
  },
  {
   "cell_type": "code",
   "execution_count": 17,
   "id": "71694a7f",
   "metadata": {},
   "outputs": [
    {
     "name": "stdout",
     "output_type": "stream",
     "text": [
      "<__main__.car object at 0x000001C28D2DAD90>\n"
     ]
    }
   ],
   "source": [
    "print(c)"
   ]
  },
  {
   "cell_type": "code",
   "execution_count": 23,
   "id": "6aab640b",
   "metadata": {},
   "outputs": [
    {
     "data": {
      "text/plain": [
       "'<__main__.car object at 0x000001C28D2DA430>'"
      ]
     },
     "execution_count": 23,
     "metadata": {},
     "output_type": "execute_result"
    }
   ],
   "source": [
    "c.__str__()"
   ]
  },
  {
   "cell_type": "code",
   "execution_count": 13,
   "id": "aa9fb300",
   "metadata": {},
   "outputs": [
    {
     "data": {
      "text/plain": [
       "['__class__',\n",
       " '__delattr__',\n",
       " '__dict__',\n",
       " '__dir__',\n",
       " '__doc__',\n",
       " '__eq__',\n",
       " '__format__',\n",
       " '__ge__',\n",
       " '__getattribute__',\n",
       " '__gt__',\n",
       " '__hash__',\n",
       " '__init__',\n",
       " '__init_subclass__',\n",
       " '__le__',\n",
       " '__lt__',\n",
       " '__module__',\n",
       " '__ne__',\n",
       " '__new__',\n",
       " '__reduce__',\n",
       " '__reduce_ex__',\n",
       " '__repr__',\n",
       " '__setattr__',\n",
       " '__sizeof__',\n",
       " '__str__',\n",
       " '__subclasshook__',\n",
       " '__weakref__',\n",
       " 'door',\n",
       " 'drive',\n",
       " 'engine',\n",
       " 'name']"
      ]
     },
     "execution_count": 13,
     "metadata": {},
     "output_type": "execute_result"
    }
   ],
   "source": [
    "dir(c)"
   ]
  },
  {
   "cell_type": "code",
   "execution_count": 10,
   "id": "7c414fd7",
   "metadata": {},
   "outputs": [],
   "source": [
    "class car():\n",
    "    def __init__(self,name,door,engine):\n",
    "        self.name=name\n",
    "        self.door=door\n",
    "        self.engine=engine\n",
    "    def __str__(self): #override magic method __str__\n",
    "        return \"Object got initialize\"\n",
    "    def drive(self):\n",
    "        return \"Not support self drive\""
   ]
  },
  {
   "cell_type": "code",
   "execution_count": 11,
   "id": "d5cb2e9e",
   "metadata": {},
   "outputs": [],
   "source": [
    "c=car(\"audi\",4,\"petrol\")"
   ]
  },
  {
   "cell_type": "code",
   "execution_count": 12,
   "id": "6f95f98e",
   "metadata": {},
   "outputs": [
    {
     "name": "stdout",
     "output_type": "stream",
     "text": [
      "Object got initialize\n"
     ]
    }
   ],
   "source": [
    "print(c)"
   ]
  },
  {
   "cell_type": "code",
   "execution_count": null,
   "id": "1c69b252",
   "metadata": {},
   "outputs": [],
   "source": []
  },
  {
   "cell_type": "code",
   "execution_count": 19,
   "id": "bd9aeedd",
   "metadata": {},
   "outputs": [],
   "source": [
    "class car():\n",
    "    def __init__(self,name,door,engine):\n",
    "        self.name=name\n",
    "        self.door=door\n",
    "        self.engine=engine\n",
    "    def drive(self):\n",
    "        return \"Not support self drive\""
   ]
  },
  {
   "cell_type": "code",
   "execution_count": 20,
   "id": "246681ed",
   "metadata": {},
   "outputs": [],
   "source": [
    "c=car(\"BMW\",4,\"Electric\")"
   ]
  },
  {
   "cell_type": "code",
   "execution_count": 22,
   "id": "a979228b",
   "metadata": {},
   "outputs": [
    {
     "data": {
      "text/plain": [
       "32"
      ]
     },
     "execution_count": 22,
     "metadata": {},
     "output_type": "execute_result"
    }
   ],
   "source": [
    "c.__sizeof__()"
   ]
  },
  {
   "cell_type": "code",
   "execution_count": 24,
   "id": "a54836ee",
   "metadata": {},
   "outputs": [],
   "source": [
    "class car():\n",
    "    def __init__(self,name,door,engine):\n",
    "        self.name=name\n",
    "        self.door=door\n",
    "        self.engine=engine\n",
    "    def __sizeof__(self): #override magic method __sizeof__\n",
    "        return 64\n",
    "    def drive(self):\n",
    "        return \"Not support self drive\""
   ]
  },
  {
   "cell_type": "code",
   "execution_count": 26,
   "id": "d779f4cb",
   "metadata": {},
   "outputs": [],
   "source": [
    "c=car(\"Maruti\",4,\"Diesel\")"
   ]
  },
  {
   "cell_type": "code",
   "execution_count": 27,
   "id": "a6a65e46",
   "metadata": {},
   "outputs": [
    {
     "data": {
      "text/plain": [
       "64"
      ]
     },
     "execution_count": 27,
     "metadata": {},
     "output_type": "execute_result"
    }
   ],
   "source": [
    "c.__sizeof__()"
   ]
  },
  {
   "cell_type": "code",
   "execution_count": null,
   "id": "f202714c",
   "metadata": {},
   "outputs": [],
   "source": []
  },
  {
   "cell_type": "code",
   "execution_count": 28,
   "id": "cb95904b",
   "metadata": {},
   "outputs": [],
   "source": [
    "class car():\n",
    "    def __init__(self,name,door,engine):\n",
    "        self.name=name\n",
    "        self.door=door\n",
    "        self.engine=engine\n",
    "    def drive(self):\n",
    "        return \"Not support self drive\""
   ]
  },
  {
   "cell_type": "code",
   "execution_count": 29,
   "id": "abdaecc4",
   "metadata": {},
   "outputs": [],
   "source": [
    "c=car(\"Maruti\",4,\"Diesel\")"
   ]
  },
  {
   "cell_type": "code",
   "execution_count": 31,
   "id": "703c07cc",
   "metadata": {},
   "outputs": [
    {
     "data": {
      "text/plain": [
       "<function object.__new__(*args, **kwargs)>"
      ]
     },
     "execution_count": 31,
     "metadata": {},
     "output_type": "execute_result"
    }
   ],
   "source": [
    "c.__new__"
   ]
  },
  {
   "cell_type": "code",
   "execution_count": 40,
   "id": "dd645398",
   "metadata": {},
   "outputs": [],
   "source": [
    "class car():\n",
    "    def __new__(self,name,door,engine):\n",
    "        return  \"Object getting initialize\"\n",
    "    def __init__(self,name,door,engine):\n",
    "        self.name=name\n",
    "        self.door=door\n",
    "        self.engine=engine\n",
    "    def drive(self):\n",
    "        return \"Not support self drive\""
   ]
  },
  {
   "cell_type": "code",
   "execution_count": 41,
   "id": "501e5e24",
   "metadata": {},
   "outputs": [],
   "source": [
    "c=car(\"Maruti\",4,\"Diesel\")"
   ]
  },
  {
   "cell_type": "code",
   "execution_count": 42,
   "id": "e1c64ff6",
   "metadata": {},
   "outputs": [
    {
     "name": "stdout",
     "output_type": "stream",
     "text": [
      "Object getting initialize\n"
     ]
    }
   ],
   "source": [
    "print(c)"
   ]
  },
  {
   "cell_type": "code",
   "execution_count": null,
   "id": "2d94e2a5",
   "metadata": {},
   "outputs": [],
   "source": []
  }
 ],
 "metadata": {
  "kernelspec": {
   "display_name": "Python 3 (ipykernel)",
   "language": "python",
   "name": "python3"
  },
  "language_info": {
   "codemirror_mode": {
    "name": "ipython",
    "version": 3
   },
   "file_extension": ".py",
   "mimetype": "text/x-python",
   "name": "python",
   "nbconvert_exporter": "python",
   "pygments_lexer": "ipython3",
   "version": "3.9.7"
  }
 },
 "nbformat": 4,
 "nbformat_minor": 5
}
