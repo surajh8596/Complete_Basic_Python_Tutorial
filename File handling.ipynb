{
 "cells": [
  {
   "cell_type": "markdown",
   "id": "5cab3a66",
   "metadata": {},
   "source": [
    "## File handling\n",
    "\n",
    "#### 1. binary file- \n",
    "    * most of the files on our computer system are binary files\n",
    "    * we can open these binary file in normal text editor but cannot read because they are encoded in binary format. for handling such files we need specific type of software.\n",
    "        * document file- pdf, doc, xls etc\n",
    "        * image file- png, jpg, gig, bmp etc\n",
    "        * video file- mp4, 3gp, mkv, avi etc\n",
    "        * audio file- mp3, wav, mka, aac etc\n",
    "        * database file- mbd, accde, frm, sqlite etc\n",
    "        * archive file- zip, rar, iso, 7z etc\n",
    "        * executable file- exe, dll, class etc\n",
    "\n",
    "#### 2. text file- \n",
    "    * these file not have any specific encoding, they can open and read in normal text editor.\n",
    "        * web standards- html, XML, CSS, JSON etc\n",
    "        * source code- c, app, js, py, java etc\n",
    "        * documents- txt, tex, RTF etc\n",
    "        * tabular bars- csv, tsv etc\n",
    "        * configuration- ini, cfg, reg etc"
   ]
  },
  {
   "cell_type": "markdown",
   "id": "1caecc48",
   "metadata": {},
   "source": [
    "### python file handling operation\n",
    "1. open\n",
    "2. read\n",
    "3. write\n",
    "4. close\n",
    "5. rename\n",
    "6. delete"
   ]
  },
  {
   "cell_type": "markdown",
   "id": "866d1cd9",
   "metadata": {},
   "source": [
    "### Mode\n",
    "1. 'r' - read\n",
    "2. 'w' - write or modify\n",
    "3. 'a' - append\n",
    "4. 'r+' - read and write\n",
    "5. 'a+' append write"
   ]
  },
  {
   "cell_type": "markdown",
   "id": "815f28bb",
   "metadata": {},
   "source": [
    "### 3 ways we read the file inpython\n",
    "1. read([n])\n",
    "2. readline([n])  \n",
    "3. readlines()  "
   ]
  },
  {
   "cell_type": "code",
   "execution_count": 1,
   "id": "723b517d",
   "metadata": {},
   "outputs": [],
   "source": [
    "## eg. fo=open('file_ name', 'r')\n",
    "#        print(fo.read())"
   ]
  },
  {
   "cell_type": "code",
   "execution_count": 2,
   "id": "204aa8be",
   "metadata": {},
   "outputs": [],
   "source": [
    "## eg. fo=open('file_ name', 'r')\n",
    "#        print(fo.read([5]))"
   ]
  },
  {
   "cell_type": "code",
   "execution_count": 3,
   "id": "176b550d",
   "metadata": {},
   "outputs": [],
   "source": [
    "## eg. fo=open('file_ name', 'r')\n",
    "#        print(fo.readline())----- read one line at a time"
   ]
  },
  {
   "cell_type": "code",
   "execution_count": 4,
   "id": "e9408ac9",
   "metadata": {},
   "outputs": [],
   "source": [
    "## eg. fo=open('file_ name', 'r')\n",
    "#       for line in fo:\n",
    "#            print(line) --- all line one by one"
   ]
  },
  {
   "cell_type": "markdown",
   "id": "64542c67",
   "metadata": {},
   "source": [
    "### Create and open a file\n",
    "* syntax:::   file_object=open(file_name, 'mode')"
   ]
  },
  {
   "cell_type": "code",
   "execution_count": null,
   "id": "a57ebea3",
   "metadata": {},
   "outputs": [],
   "source": []
  },
  {
   "cell_type": "markdown",
   "id": "695bdf42",
   "metadata": {},
   "source": [
    "### Image file handling"
   ]
  },
  {
   "cell_type": "code",
   "execution_count": 7,
   "id": "0cf95633",
   "metadata": {},
   "outputs": [],
   "source": [
    "from PIL import Image, ImageDraw, ImageFont\n",
    "from IPython.display import display\n",
    "\n",
    "import matplotlib.pyplot as plt\n",
    "%matplotlib inline\n",
    "\n",
    "import numpy as np"
   ]
  },
  {
   "cell_type": "code",
   "execution_count": 8,
   "id": "815f5212",
   "metadata": {},
   "outputs": [],
   "source": [
    "location1 =r'image_name.JPG'\n",
    "location2 =r'image_name.jpg'"
   ]
  },
  {
   "cell_type": "code",
   "execution_count": null,
   "id": "6072d662",
   "metadata": {},
   "outputs": [],
   "source": [
    "im1=Image.open(location1)\n",
    "im2=Image.open(location2)"
   ]
  },
  {
   "cell_type": "markdown",
   "id": "ccdb78bc",
   "metadata": {},
   "source": [
    "### properties of image\n",
    "1. format\n",
    "2. size\n",
    "3. mode"
   ]
  },
  {
   "cell_type": "code",
   "execution_count": null,
   "id": "e0db7e70",
   "metadata": {},
   "outputs": [],
   "source": [
    "im1.format, im1.size, im.mode\n",
    "im2.format, im2.size, im2.mode"
   ]
  },
  {
   "cell_type": "code",
   "execution_count": null,
   "id": "3f8acf73",
   "metadata": {},
   "outputs": [],
   "source": [
    "plt.figure(figsize=(12,5))\n",
    "plt.subplot(121)\n",
    "plt.imshow(im1)\n",
    "\n",
    "plt.subplot(122)\n",
    "plt.imshow(im2)"
   ]
  },
  {
   "cell_type": "code",
   "execution_count": null,
   "id": "bfe941c8",
   "metadata": {},
   "outputs": [],
   "source": [
    "display(im1)\n",
    "display(im2)"
   ]
  },
  {
   "cell_type": "markdown",
   "id": "4d4921a8",
   "metadata": {},
   "source": [
    "### Saving a image"
   ]
  },
  {
   "cell_type": "code",
   "execution_count": null,
   "id": "10d40c97",
   "metadata": {},
   "outputs": [],
   "source": [
    "im1.save('file_name.jpg')"
   ]
  },
  {
   "cell_type": "markdown",
   "id": "cee4ddaf",
   "metadata": {},
   "source": [
    "### Cropping"
   ]
  },
  {
   "cell_type": "code",
   "execution_count": null,
   "id": "10f245ce",
   "metadata": {},
   "outputs": [],
   "source": [
    "box=(100,100,400,400) --(left, upper, left, lower)\n",
    "region=im1.crop(box)\n",
    "plt.imshow(region);"
   ]
  },
  {
   "cell_type": "markdown",
   "id": "5c1b3316",
   "metadata": {},
   "source": [
    "### Copying"
   ]
  },
  {
   "cell_type": "code",
   "execution_count": null,
   "id": "8e0c827d",
   "metadata": {},
   "outputs": [],
   "source": [
    "im1_copy=im1.copy()\n",
    "plt.imshow(im1_copy);"
   ]
  },
  {
   "cell_type": "markdown",
   "id": "96a877ae",
   "metadata": {},
   "source": [
    "### Transposing or rotating image"
   ]
  },
  {
   "cell_type": "code",
   "execution_count": null,
   "id": "cd76e376",
   "metadata": {},
   "outputs": [],
   "source": [
    "out=im1.transpose(image.FLIP_LEFT_RIGHT)\n",
    "out=im1.transpose(image.FLIP_TOP_BOTTOM)\n",
    "out=im1.transpose(image.ROTATE_90)\n",
    "out=im1.transpose(image.ROTATE_180)\n",
    "out=im1.transpose(image.ROTATE_270)\n",
    "plt.showimshow(out);"
   ]
  }
 ],
 "metadata": {
  "kernelspec": {
   "display_name": "Python 3 (ipykernel)",
   "language": "python",
   "name": "python3"
  },
  "language_info": {
   "codemirror_mode": {
    "name": "ipython",
    "version": 3
   },
   "file_extension": ".py",
   "mimetype": "text/x-python",
   "name": "python",
   "nbconvert_exporter": "python",
   "pygments_lexer": "ipython3",
   "version": "3.9.7"
  }
 },
 "nbformat": 4,
 "nbformat_minor": 5
}
