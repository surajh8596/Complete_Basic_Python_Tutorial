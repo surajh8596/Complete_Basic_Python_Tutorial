{
 "cells": [
  {
   "cell_type": "markdown",
   "id": "fd52edc2",
   "metadata": {},
   "source": [
    "## Function\n",
    "     A function is one that contains a group of statements or a block of code to perform a certain task.\n",
    "     The advantages of using functions are:\n",
    "            1. Maintaining the code is an easy way.\n",
    "            2. Code re-usability."
   ]
  },
  {
   "cell_type": "markdown",
   "id": "2849119a",
   "metadata": {},
   "source": [
    "### Types of functions in python:\n",
    "    1. Pre-defined or built-in functions\n",
    "    2. User-defined functions"
   ]
  },
  {
   "cell_type": "markdown",
   "id": "66ce2816",
   "metadata": {},
   "source": [
    "### Predefined or built-in functions\n",
    "    The functions which come installed along with python software are called predefined or built-in functions.\n",
    "    eg. id(), type(), input(), print(), max(), min(), abs(), len() etc."
   ]
  },
  {
   "cell_type": "markdown",
   "id": "24ee0993",
   "metadata": {},
   "source": [
    "### User-defined functions\n",
    "    The functions which are defined by the developer as per the requirement are called user-defined functions."
   ]
  },
  {
   "cell_type": "markdown",
   "id": "99ff2209",
   "metadata": {},
   "source": [
    "### FUNCTION RELATED TERMINOLOGY\n",
    "    1. 'def' keyword - Every function in python should start with the keyword ‘def’. In other words, python can understand the code as part of a function if it contains the ‘def’ keyword only.\n",
    "    \n",
    "    2. Name of the function – Every function should be given a name, which can later be used to call it.\n",
    "    \n",
    "    3. Parenthesis – After the name ‘()’ parentheses are required.\n",
    "    \n",
    "    4. Parameters – The parameters, if any, should be included within the parenthesis.\n",
    "    \n",
    "    5. Colon symbol ‘:’ should be mandatorily placed immediately after closing the parentheses.\n",
    "    \n",
    "    6. Body – All the code that does some operation should go into the body of the function. The body of the function should have an indentation.\n",
    "    \n",
    "     7. Return statement – Return statement should be in the body of the function. It’s not mandatory to have a return statement.\n",
    "    \n",
    "\n",
    "Note: After defining a function we can call the function using its name. While calling a function, we need to pass the parameters if it has any as stated in point 4 above."
   ]
  },
  {
   "cell_type": "markdown",
   "id": "d98c6b92",
   "metadata": {},
   "source": [
    "### How to Create and call a function in Python?\n",
    "    From creating a function to using it, these are the two things that are done.\n",
    "        1.Defining function\n",
    "        2.Calling function"
   ]
  },
  {
   "cell_type": "code",
   "execution_count": null,
   "id": "aa46b7e8",
   "metadata": {},
   "outputs": [],
   "source": [
    "### Defining a function in Python\n",
    "#Syntax to define function in Python\n",
    "    def function_name(arguments):\n",
    "        body of the function to perform operation\n",
    "        return value(if required)"
   ]
  },
  {
   "cell_type": "code",
   "execution_count": 1,
   "id": "f6b9844a",
   "metadata": {},
   "outputs": [],
   "source": [
    "def display():\n",
    "    print(\"welcome to function\")"
   ]
  },
  {
   "cell_type": "code",
   "execution_count": null,
   "id": "5b64dd3d",
   "metadata": {},
   "outputs": [],
   "source": [
    "### Calling a function in Python:\n",
    "function_name()"
   ]
  },
  {
   "cell_type": "code",
   "execution_count": 2,
   "id": "1d20f2fa",
   "metadata": {},
   "outputs": [
    {
     "name": "stdout",
     "output_type": "stream",
     "text": [
      "welcome to function\n"
     ]
    }
   ],
   "source": [
    "display()"
   ]
  },
  {
   "cell_type": "code",
   "execution_count": 3,
   "id": "15a6dd2b",
   "metadata": {},
   "outputs": [
    {
     "name": "stdout",
     "output_type": "stream",
     "text": [
      "welcome to function\n",
      "welcome to function\n",
      "welcome to function\n",
      "welcome to function\n"
     ]
    }
   ],
   "source": [
    "display()\n",
    "display()\n",
    "display()\n",
    "display()"
   ]
  },
  {
   "cell_type": "code",
   "execution_count": 5,
   "id": "da0a2d06",
   "metadata": {},
   "outputs": [],
   "source": [
    "def calculator(a,b):\n",
    "    print(\"Add\", a+b)\n",
    "    print(\"Sub\", a-b)\n",
    "    print(\"Multi\", a*b)\n",
    "    print(\"Div\", a/b)"
   ]
  },
  {
   "cell_type": "code",
   "execution_count": 6,
   "id": "60a0ebc8",
   "metadata": {},
   "outputs": [
    {
     "name": "stdout",
     "output_type": "stream",
     "text": [
      "Add 25\n",
      "Sub 15\n",
      "Multi 100\n",
      "Div 4.0\n"
     ]
    }
   ],
   "source": [
    "calculator(20,5)"
   ]
  },
  {
   "cell_type": "code",
   "execution_count": 8,
   "id": "b5ef19b3",
   "metadata": {},
   "outputs": [
    {
     "name": "stdout",
     "output_type": "stream",
     "text": [
      "Add 150\n",
      "Sub 50\n",
      "Multi 5000\n",
      "Div 2.0\n"
     ]
    }
   ],
   "source": [
    "calculator(100,50)"
   ]
  },
  {
   "cell_type": "markdown",
   "id": "b88d997e",
   "metadata": {},
   "source": [
    "### Types of Arguments:\n",
    "    1.Positional arguments\n",
    "    2.Keyword arguments\n",
    "    3.Default arguments\n",
    "    4.Variable-length arguments\n",
    "    5.keyword variable-length argument"
   ]
  },
  {
   "cell_type": "markdown",
   "id": "847e4662",
   "metadata": {},
   "source": [
    "#### Positional Arguments:\n",
    "    If there are three arguments in the function, then you need to send three arguments while calling the function. "
   ]
  },
  {
   "cell_type": "code",
   "execution_count": 9,
   "id": "e8639af4",
   "metadata": {},
   "outputs": [
    {
     "name": "stdout",
     "output_type": "stream",
     "text": [
      "25\n"
     ]
    }
   ],
   "source": [
    "def sum(a, b):\n",
    "    c = a + b\n",
    "    print(c)\n",
    "    \n",
    "    \n",
    "# call the function\n",
    "x = 10\n",
    "y = 15\n",
    "sum(x, y)            "
   ]
  },
  {
   "cell_type": "code",
   "execution_count": 10,
   "id": "53daab5e",
   "metadata": {},
   "outputs": [
    {
     "name": "stdout",
     "output_type": "stream",
     "text": [
      "90\n"
     ]
    }
   ],
   "source": [
    "def sum(a, b):\n",
    "    c = a + b\n",
    "    print(c)\n",
    "    \n",
    "    \n",
    "# call the function\n",
    "sum(34,56)            "
   ]
  },
  {
   "cell_type": "code",
   "execution_count": 11,
   "id": "169df4c5",
   "metadata": {},
   "outputs": [
    {
     "ename": "TypeError",
     "evalue": "sum() takes 2 positional arguments but 3 were given",
     "output_type": "error",
     "traceback": [
      "\u001b[1;31m---------------------------------------------------------------------------\u001b[0m",
      "\u001b[1;31mTypeError\u001b[0m                                 Traceback (most recent call last)",
      "\u001b[1;32m~\\AppData\\Local\\Temp/ipykernel_8864/293618350.py\u001b[0m in \u001b[0;36m<module>\u001b[1;34m\u001b[0m\n\u001b[0;32m      8\u001b[0m \u001b[0my\u001b[0m \u001b[1;33m=\u001b[0m \u001b[1;36m15\u001b[0m\u001b[1;33m\u001b[0m\u001b[1;33m\u001b[0m\u001b[0m\n\u001b[0;32m      9\u001b[0m \u001b[0mz\u001b[0m \u001b[1;33m=\u001b[0m \u001b[1;36m20\u001b[0m\u001b[1;33m\u001b[0m\u001b[1;33m\u001b[0m\u001b[0m\n\u001b[1;32m---> 10\u001b[1;33m \u001b[0msum\u001b[0m\u001b[1;33m(\u001b[0m\u001b[0mx\u001b[0m\u001b[1;33m,\u001b[0m \u001b[0my\u001b[0m\u001b[1;33m,\u001b[0m \u001b[0mz\u001b[0m\u001b[1;33m)\u001b[0m\u001b[1;33m\u001b[0m\u001b[1;33m\u001b[0m\u001b[0m\n\u001b[0m",
      "\u001b[1;31mTypeError\u001b[0m: sum() takes 2 positional arguments but 3 were given"
     ]
    }
   ],
   "source": [
    "def sum(a, b):\n",
    "    c = a + b\n",
    "    return c\n",
    "    \n",
    "    \n",
    "# call the function\n",
    "x = 10\n",
    "y = 15\n",
    "z = 20\n",
    "sum(x, y, z)"
   ]
  },
  {
   "cell_type": "code",
   "execution_count": 12,
   "id": "abd32842",
   "metadata": {},
   "outputs": [
    {
     "name": "stdout",
     "output_type": "stream",
     "text": [
      "-10\n"
     ]
    }
   ],
   "source": [
    "def sub(x, y):\n",
    "    print(x-y)\n",
    "\n",
    "\n",
    "# calling function\n",
    "sub(10, 20)"
   ]
  },
  {
   "cell_type": "markdown",
   "id": "89cf0811",
   "metadata": {},
   "source": [
    "#### Keyword Arguments:\n",
    "    In the function call, if we send the values using keys then they are called keyword arguments. Here, keys are nothing but the names of the variables."
   ]
  },
  {
   "cell_type": "code",
   "execution_count": 14,
   "id": "028e856a",
   "metadata": {},
   "outputs": [
    {
     "name": "stdout",
     "output_type": "stream",
     "text": [
      "bangles cost is : 20000\n",
      "handbag cost is : 100000\n",
      "shirt cost is : 1200\n"
     ]
    }
   ],
   "source": [
    "def shopping(item, price):\n",
    "    print(item, \"cost is :\" ,price)\n",
    "    \n",
    "\n",
    "shopping(item=\"bangles\", price=20000)\n",
    "shopping(item=\"handbag\", price=100000)\n",
    "shopping(price=1200, item=\"shirt\")"
   ]
  },
  {
   "cell_type": "code",
   "execution_count": 16,
   "id": "daefaf83",
   "metadata": {},
   "outputs": [
    {
     "name": "stdout",
     "output_type": "stream",
     "text": [
      "Emp id is:  1\n",
      "Emp name is:  Babu\n",
      "Emp id is:  2\n",
      "Emp name is:  Chiru\n",
      "Emp id is:  3\n",
      "Emp name is:  Suman\n"
     ]
    }
   ],
   "source": [
    "def details(id, name):\n",
    "    print(\"Emp id is: \",id)\n",
    "    print(\"Emp name is: \",name)\n",
    "    \n",
    "    \n",
    "# calling function\n",
    "details(id=1, name=\"Babu\")\n",
    "details(id=2, name=\"Chiru\")\n",
    "details(name='Suman',id=3)"
   ]
  },
  {
   "cell_type": "markdown",
   "id": "a3723ee5",
   "metadata": {},
   "source": [
    "#### Default Arguments in Python:\n",
    "    In the function definition, while declaring parameters, we can assign some value to the parameters, which are called default values. Such default values will be considered when the function call does not send any data to the parameter."
   ]
  },
  {
   "cell_type": "code",
   "execution_count": 17,
   "id": "a81f5d02",
   "metadata": {},
   "outputs": [
    {
     "name": "stdout",
     "output_type": "stream",
     "text": [
      "5\n"
     ]
    }
   ],
   "source": [
    "def sub(x, y=5):\n",
    "    print(x-y)\n",
    "\n",
    "\n",
    "# calling function\n",
    "sub(10)"
   ]
  },
  {
   "cell_type": "code",
   "execution_count": 18,
   "id": "3c6c7f84",
   "metadata": {},
   "outputs": [
    {
     "name": "stdout",
     "output_type": "stream",
     "text": [
      "2\n"
     ]
    }
   ],
   "source": [
    "sub(10,8)"
   ]
  },
  {
   "cell_type": "code",
   "execution_count": 20,
   "id": "782d2df6",
   "metadata": {},
   "outputs": [
    {
     "name": "stdout",
     "output_type": "stream",
     "text": [
      "pen cost is : 20\n",
      "handbag cost is : 10000\n"
     ]
    }
   ],
   "source": [
    "def cart(item, price=20):\n",
    "    print(item, \"cost is :\" ,price)\n",
    "\n",
    "    \n",
    "cart(item=\"pen\")\n",
    "cart(item=\"handbag\", price=10000)"
   ]
  },
  {
   "cell_type": "markdown",
   "id": "f5ea0a77",
   "metadata": {},
   "source": [
    "#### Variable Length Arguments in Python:\n",
    "    Sometimes, the programmer does not know how many values need to pass to function. In that case, the programmer cannot decide how many arguments to be given in the function definition. Therefore, we use variable-length arguments to accept n number of arguments.\n",
    "    \n",
    "    The variable-length argument is an argument that can accept any number of values. The variable-length argument is written with a ‘*’ (one star) before the variable in the function definition."
   ]
  },
  {
   "cell_type": "code",
   "execution_count": 25,
   "id": "340d4298",
   "metadata": {},
   "outputs": [
    {
     "name": "stdout",
     "output_type": "stream",
     "text": [
      "300\n",
      "48\n",
      "11\n"
     ]
    }
   ],
   "source": [
    "def total_cost(x, *y):\n",
    "    sum=0\n",
    "    for i in y:\n",
    "        sum=sum+i\n",
    "    print(x + sum)\n",
    "    \n",
    "    \n",
    "#calling function\n",
    "total_cost(100, 200) #valid\n",
    "total_cost(2,4,5,6,7,7,8,9) #valid\n",
    "total_cost(11) #valid"
   ]
  },
  {
   "cell_type": "markdown",
   "id": "4e27230e",
   "metadata": {},
   "source": [
    "#### keyword variable-length argument (**variable) in Python:\n",
    "    Just as variable length arguments, there are keyword variable length arguments that are n key-value pairs."
   ]
  },
  {
   "cell_type": "code",
   "execution_count": 27,
   "id": "8411561c",
   "metadata": {},
   "outputs": [
    {
     "name": "stdout",
     "output_type": "stream",
     "text": [
      "a = 10\n",
      "b = 20\n",
      "c = 30\n",
      "id = 100\n",
      "name = Suman\n"
     ]
    }
   ],
   "source": [
    "def m1(**x):\n",
    "    for i, j in x.items():\n",
    "        print(i,\"=\",j)\n",
    "        \n",
    "        \n",
    "m1(a=10, b=20, c=30)\n",
    "m1(id=100, name=\"Suman\")"
   ]
  },
  {
   "cell_type": "code",
   "execution_count": null,
   "id": "a6faca04",
   "metadata": {},
   "outputs": [],
   "source": []
  },
  {
   "cell_type": "code",
   "execution_count": null,
   "id": "36f3affd",
   "metadata": {},
   "outputs": [],
   "source": []
  },
  {
   "cell_type": "markdown",
   "id": "7dd62487",
   "metadata": {},
   "source": [
    "## Employee login process"
   ]
  },
  {
   "cell_type": "code",
   "execution_count": 28,
   "id": "92fce5d1",
   "metadata": {},
   "outputs": [
    {
     "name": "stdout",
     "output_type": "stream",
     "text": [
      "Enter your username: surajh\n",
      "Enter your password: abcdef\n"
     ]
    },
    {
     "data": {
      "text/plain": [
       "True"
      ]
     },
     "execution_count": 28,
     "metadata": {},
     "output_type": "execute_result"
    }
   ],
   "source": [
    "username=input(\"Enter your username: \")\n",
    "password=input(\"Enter your password: \")\n",
    "\n",
    "def has_access(usr,pwd):\n",
    "    if usr=='surajh' and pwd=='abcdef':\n",
    "        return True\n",
    "    else:\n",
    "        return False\n",
    "    \n",
    "\n",
    "has_access(username, password)"
   ]
  },
  {
   "cell_type": "code",
   "execution_count": 29,
   "id": "f919a925",
   "metadata": {},
   "outputs": [
    {
     "name": "stdout",
     "output_type": "stream",
     "text": [
      "access granted\n"
     ]
    }
   ],
   "source": [
    "varified=has_access(username, password)\n",
    "if  varified==True:\n",
    "    print(\"access granted\")\n",
    "else:\n",
    "    print(\"access denied\")"
   ]
  },
  {
   "cell_type": "code",
   "execution_count": 30,
   "id": "2d144dc6",
   "metadata": {
    "scrolled": true
   },
   "outputs": [
    {
     "name": "stdout",
     "output_type": "stream",
     "text": [
      "Hello! I hope you are doing well !\n"
     ]
    }
   ],
   "source": [
    "def greet():\n",
    "    print(\"Hello! I hope you are doing well !\")\n",
    "    \n",
    "    \n",
    "greet()"
   ]
  },
  {
   "cell_type": "code",
   "execution_count": null,
   "id": "26d512a5",
   "metadata": {},
   "outputs": [],
   "source": []
  },
  {
   "cell_type": "code",
   "execution_count": 32,
   "id": "9f6a58a6",
   "metadata": {},
   "outputs": [
    {
     "name": "stdout",
     "output_type": "stream",
     "text": [
      "Enter your username: surajh\n",
      "Enter your password: abjdjf\n",
      "access denied\n",
      "Hello! I hope you are doing well !\n"
     ]
    }
   ],
   "source": [
    "username=input(\"Enter your username: \")\n",
    "password=input(\"Enter your password: \")\n",
    "\n",
    "def has_access(usr,pwd):\n",
    "    if usr=='surajh' and pwd=='abcdef':\n",
    "        return True\n",
    "    else:\n",
    "        return False\n",
    "    \n",
    "has_access(username, password)\n",
    "\n",
    "varified=has_access(username, password)\n",
    "\n",
    "if  varified==True:\n",
    "    print(\"access granted\")\n",
    "else:\n",
    "    print(\"access denied\")\n",
    "    \n",
    "def greet():\n",
    "    print(\"Hello! I hope you are doing well !\")\n",
    "    \n",
    "greet()"
   ]
  },
  {
   "cell_type": "code",
   "execution_count": null,
   "id": "24877d12",
   "metadata": {},
   "outputs": [],
   "source": []
  },
  {
   "cell_type": "markdown",
   "id": "4b978a90",
   "metadata": {},
   "source": [
    "### Ananomoues function\n",
    "    lambda()"
   ]
  },
  {
   "cell_type": "code",
   "execution_count": 33,
   "id": "71932b06",
   "metadata": {},
   "outputs": [
    {
     "data": {
      "text/plain": [
       "3"
      ]
     },
     "execution_count": 33,
     "metadata": {},
     "output_type": "execute_result"
    }
   ],
   "source": [
    "def x(a,b):\n",
    "    return a+b\n",
    "\n",
    "x(1,2)"
   ]
  },
  {
   "cell_type": "code",
   "execution_count": 36,
   "id": "89a916ab",
   "metadata": {},
   "outputs": [
    {
     "data": {
      "text/plain": [
       "3"
      ]
     },
     "execution_count": 36,
     "metadata": {},
     "output_type": "execute_result"
    }
   ],
   "source": [
    "y= lambda a,b : a+b\n",
    "y(1,2)"
   ]
  },
  {
   "cell_type": "code",
   "execution_count": 37,
   "id": "d6b48071",
   "metadata": {},
   "outputs": [
    {
     "data": {
      "text/plain": [
       "24"
      ]
     },
     "execution_count": 37,
     "metadata": {},
     "output_type": "execute_result"
    }
   ],
   "source": [
    "x= lambda a, b, c: a*b*c\n",
    "x(2,3,4)"
   ]
  },
  {
   "cell_type": "markdown",
   "id": "3c88319a",
   "metadata": {},
   "source": [
    "### Map, Filter and Reduce function"
   ]
  },
  {
   "cell_type": "markdown",
   "id": "2ca285f6",
   "metadata": {},
   "source": [
    "#### Map\n",
    "syntax: map(function, sequence)"
   ]
  },
  {
   "cell_type": "code",
   "execution_count": null,
   "id": "2f603c3d",
   "metadata": {},
   "outputs": [],
   "source": [
    "item =[1,2,3,4,5]\n",
    "square=[]\n",
    "\n",
    "for x in item:\n",
    "    square.append(x**2)\n",
    "print(square)"
   ]
  },
  {
   "cell_type": "code",
   "execution_count": null,
   "id": "318b9dbe",
   "metadata": {},
   "outputs": [],
   "source": []
  },
  {
   "cell_type": "code",
   "execution_count": null,
   "id": "e592a1de",
   "metadata": {},
   "outputs": [],
   "source": [
    "def sqr(x):\n",
    "    return x**2"
   ]
  },
  {
   "cell_type": "code",
   "execution_count": null,
   "id": "07745092",
   "metadata": {},
   "outputs": [],
   "source": [
    "item =[1,2,3,4,5]"
   ]
  },
  {
   "cell_type": "code",
   "execution_count": null,
   "id": "342d3607",
   "metadata": {},
   "outputs": [],
   "source": [
    "map(sqr, item)"
   ]
  },
  {
   "cell_type": "code",
   "execution_count": null,
   "id": "4a22b5d5",
   "metadata": {},
   "outputs": [],
   "source": [
    "list(map(sqr, item))"
   ]
  },
  {
   "cell_type": "code",
   "execution_count": null,
   "id": "af2d7cb8",
   "metadata": {},
   "outputs": [],
   "source": []
  },
  {
   "cell_type": "code",
   "execution_count": null,
   "id": "d45947d2",
   "metadata": {},
   "outputs": [],
   "source": [
    "list(map(lambda x:x**2, item))"
   ]
  },
  {
   "cell_type": "code",
   "execution_count": null,
   "id": "b680ca03",
   "metadata": {},
   "outputs": [],
   "source": []
  },
  {
   "cell_type": "code",
   "execution_count": null,
   "id": "c3805fb0",
   "metadata": {},
   "outputs": [],
   "source": [
    "list(map(lambda x:x**2, [2,4,6,8]))"
   ]
  },
  {
   "cell_type": "code",
   "execution_count": null,
   "id": "d1e70450",
   "metadata": {},
   "outputs": [],
   "source": []
  },
  {
   "cell_type": "code",
   "execution_count": null,
   "id": "27dd836a",
   "metadata": {},
   "outputs": [],
   "source": [
    "def to_upper_case(s):\n",
    "    return str(s).upper()"
   ]
  },
  {
   "cell_type": "code",
   "execution_count": null,
   "id": "ab37099a",
   "metadata": {},
   "outputs": [],
   "source": [
    "list(map(to_upper_case, 'abcdefgh'))"
   ]
  },
  {
   "cell_type": "code",
   "execution_count": null,
   "id": "81554f90",
   "metadata": {},
   "outputs": [],
   "source": [
    "list(map(to_upper_case, (1,3,'abs','wed')))"
   ]
  },
  {
   "cell_type": "code",
   "execution_count": null,
   "id": "086bb844",
   "metadata": {},
   "outputs": [],
   "source": [
    "list_number=[1,2,3,4,5]\n",
    "tuple_number=(6,7,8,9,10)\n",
    "\n",
    "map_iterator=list(map(lambda x,y: x*y, list_number, tuple_number))\n",
    "map_iterator"
   ]
  },
  {
   "cell_type": "markdown",
   "id": "021d36e4",
   "metadata": {},
   "source": [
    "#### Filter \n",
    "syntax: filter(function, sequence)"
   ]
  },
  {
   "cell_type": "code",
   "execution_count": null,
   "id": "4c4c613e",
   "metadata": {},
   "outputs": [],
   "source": [
    "r= list(range(-5,5))\n",
    "r"
   ]
  },
  {
   "cell_type": "code",
   "execution_count": null,
   "id": "c20c768a",
   "metadata": {},
   "outputs": [],
   "source": [
    "result=[]\n",
    "for i in r:\n",
    "    if i<0:\n",
    "        result.append(i)\n",
    "print(result)"
   ]
  },
  {
   "cell_type": "code",
   "execution_count": null,
   "id": "c7c8e28a",
   "metadata": {},
   "outputs": [],
   "source": [
    "list(filter(lambda x:x<0, r))"
   ]
  },
  {
   "cell_type": "code",
   "execution_count": null,
   "id": "3015fdd5",
   "metadata": {},
   "outputs": [],
   "source": []
  },
  {
   "cell_type": "code",
   "execution_count": null,
   "id": "f55cb065",
   "metadata": {},
   "outputs": [],
   "source": [
    "sequence=['d','a','t','j','k','o','p','i']\n",
    "\n",
    "def fun(variable):\n",
    "    letters=['a','e','i','o','u']\n",
    "    \n",
    "    if (variable in letters):\n",
    "        return True\n",
    "    else:\n",
    "        return False"
   ]
  },
  {
   "cell_type": "code",
   "execution_count": null,
   "id": "aedde844",
   "metadata": {},
   "outputs": [],
   "source": [
    "filtered=list(filter(fun, sequence))\n",
    "filtered"
   ]
  },
  {
   "cell_type": "code",
   "execution_count": null,
   "id": "26eb2b58",
   "metadata": {},
   "outputs": [],
   "source": []
  },
  {
   "cell_type": "markdown",
   "id": "db88bbb8",
   "metadata": {},
   "source": [
    "#### Reduce\n",
    "syntax: reduce(function, sequence)\n",
    "* import reduce from functool module."
   ]
  },
  {
   "cell_type": "code",
   "execution_count": null,
   "id": "f99b0e27",
   "metadata": {},
   "outputs": [],
   "source": [
    "from functools import reduce"
   ]
  },
  {
   "cell_type": "code",
   "execution_count": null,
   "id": "b1d27f66",
   "metadata": {},
   "outputs": [],
   "source": [
    "num=[1,2,3,4,5,6,7]\n",
    "\n",
    "total=0\n",
    "\n",
    "for i in num:\n",
    "    total=total+i\n",
    "print(total)"
   ]
  },
  {
   "cell_type": "code",
   "execution_count": null,
   "id": "12a644a8",
   "metadata": {},
   "outputs": [],
   "source": []
  },
  {
   "cell_type": "code",
   "execution_count": null,
   "id": "0b08f240",
   "metadata": {},
   "outputs": [],
   "source": [
    "def my_add(a,b):\n",
    "    return a+b"
   ]
  },
  {
   "cell_type": "code",
   "execution_count": null,
   "id": "552e8279",
   "metadata": {},
   "outputs": [],
   "source": [
    "reduce(my_add, num)"
   ]
  },
  {
   "cell_type": "code",
   "execution_count": null,
   "id": "74b237ce",
   "metadata": {},
   "outputs": [],
   "source": [
    "reduce(lambda x,y:x+y, num)"
   ]
  },
  {
   "cell_type": "code",
   "execution_count": null,
   "id": "f9a81e8c",
   "metadata": {},
   "outputs": [],
   "source": []
  }
 ],
 "metadata": {
  "kernelspec": {
   "display_name": "Python 3 (ipykernel)",
   "language": "python",
   "name": "python3"
  },
  "language_info": {
   "codemirror_mode": {
    "name": "ipython",
    "version": 3
   },
   "file_extension": ".py",
   "mimetype": "text/x-python",
   "name": "python",
   "nbconvert_exporter": "python",
   "pygments_lexer": "ipython3",
   "version": "3.9.7"
  }
 },
 "nbformat": 4,
 "nbformat_minor": 5
}
