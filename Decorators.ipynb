{
 "cells": [
  {
   "cell_type": "code",
   "execution_count": 2,
   "id": "02e1d422",
   "metadata": {
    "scrolled": true
   },
   "outputs": [
    {
     "name": "stdout",
     "output_type": "stream",
     "text": [
      "3.9.7 (default, Sep 16 2021, 16:59:28) [MSC v.1916 64 bit (AMD64)]\n"
     ]
    }
   ],
   "source": [
    "import sys\n",
    "print(sys.version)"
   ]
  },
  {
   "cell_type": "markdown",
   "id": "f0af587b",
   "metadata": {},
   "source": [
    "### function copy"
   ]
  },
  {
   "cell_type": "code",
   "execution_count": 1,
   "id": "076f3af6",
   "metadata": {},
   "outputs": [],
   "source": [
    "def welcome():\n",
    "    return \"Welcome to learning\""
   ]
  },
  {
   "cell_type": "code",
   "execution_count": 2,
   "id": "8f991082",
   "metadata": {},
   "outputs": [],
   "source": [
    "w=welcome()"
   ]
  },
  {
   "cell_type": "code",
   "execution_count": 3,
   "id": "937f4785",
   "metadata": {},
   "outputs": [
    {
     "data": {
      "text/plain": [
       "'Welcome to learning'"
      ]
     },
     "execution_count": 3,
     "metadata": {},
     "output_type": "execute_result"
    }
   ],
   "source": [
    "w"
   ]
  },
  {
   "cell_type": "code",
   "execution_count": 5,
   "id": "c68beaa0",
   "metadata": {},
   "outputs": [],
   "source": [
    "del welcome"
   ]
  },
  {
   "cell_type": "code",
   "execution_count": 8,
   "id": "9e8e65f8",
   "metadata": {},
   "outputs": [
    {
     "ename": "NameError",
     "evalue": "name 'welcome' is not defined",
     "output_type": "error",
     "traceback": [
      "\u001b[1;31m---------------------------------------------------------------------------\u001b[0m",
      "\u001b[1;31mNameError\u001b[0m                                 Traceback (most recent call last)",
      "\u001b[1;32m~\\AppData\\Local\\Temp/ipykernel_2988/241228648.py\u001b[0m in \u001b[0;36m<module>\u001b[1;34m\u001b[0m\n\u001b[1;32m----> 1\u001b[1;33m \u001b[0mwelcome\u001b[0m\u001b[1;33m(\u001b[0m\u001b[1;33m)\u001b[0m\u001b[1;33m\u001b[0m\u001b[1;33m\u001b[0m\u001b[0m\n\u001b[0m",
      "\u001b[1;31mNameError\u001b[0m: name 'welcome' is not defined"
     ]
    }
   ],
   "source": [
    "welcome()"
   ]
  },
  {
   "cell_type": "code",
   "execution_count": 9,
   "id": "75d6a341",
   "metadata": {},
   "outputs": [
    {
     "data": {
      "text/plain": [
       "'Welcome to learning'"
      ]
     },
     "execution_count": 9,
     "metadata": {},
     "output_type": "execute_result"
    }
   ],
   "source": [
    "w"
   ]
  },
  {
   "cell_type": "code",
   "execution_count": 7,
   "id": "1fcc5391",
   "metadata": {},
   "outputs": [],
   "source": [
    "# function has copied to variable \"w\" and hence it is still present after deleting the function"
   ]
  },
  {
   "cell_type": "code",
   "execution_count": null,
   "id": "a2fc6950",
   "metadata": {},
   "outputs": [],
   "source": []
  },
  {
   "cell_type": "markdown",
   "id": "13b68f21",
   "metadata": {},
   "source": [
    "### clossure"
   ]
  },
  {
   "cell_type": "code",
   "execution_count": 16,
   "id": "4e62a546",
   "metadata": {},
   "outputs": [],
   "source": [
    "def main_function(msg):\n",
    "    def sub_function():\n",
    "        print(\"welcome to python learning\")\n",
    "        print(msg)\n",
    "        print(\"Happy learning\")\n",
    "    return sub_function()\n",
    "    "
   ]
  },
  {
   "cell_type": "code",
   "execution_count": 17,
   "id": "2b65d54b",
   "metadata": {},
   "outputs": [
    {
     "name": "stdout",
     "output_type": "stream",
     "text": [
      "welcome to python learning\n",
      "Suraj\n",
      "Happy learning\n"
     ]
    }
   ],
   "source": [
    "main_function(\"Suraj\")"
   ]
  },
  {
   "cell_type": "code",
   "execution_count": 18,
   "id": "cd3843ee",
   "metadata": {},
   "outputs": [],
   "source": [
    "def main_function():\n",
    "    msg=\"Suraj\"\n",
    "    def sub_function():\n",
    "        print(\"welcome to python learning\")\n",
    "        print(msg)\n",
    "        print(\"Happy learning\")\n",
    "    return sub_function()\n",
    "    "
   ]
  },
  {
   "cell_type": "code",
   "execution_count": 19,
   "id": "00b6a6af",
   "metadata": {},
   "outputs": [
    {
     "name": "stdout",
     "output_type": "stream",
     "text": [
      "welcome to python learning\n",
      "Suraj\n",
      "Happy learning\n"
     ]
    }
   ],
   "source": [
    "main_function()"
   ]
  },
  {
   "cell_type": "code",
   "execution_count": null,
   "id": "66d867b0",
   "metadata": {},
   "outputs": [],
   "source": []
  },
  {
   "cell_type": "markdown",
   "id": "0ae5672b",
   "metadata": {},
   "source": [
    "### decorator"
   ]
  },
  {
   "cell_type": "code",
   "execution_count": 22,
   "id": "100fdd4d",
   "metadata": {},
   "outputs": [],
   "source": [
    "def main_function(func):\n",
    "    def sub_function():\n",
    "        print(\"welcome to python learning\")\n",
    "        func(\"suraj\")\n",
    "        print(\"Happy learning\")\n",
    "    return sub_function()"
   ]
  },
  {
   "cell_type": "code",
   "execution_count": 23,
   "id": "330ab5f5",
   "metadata": {},
   "outputs": [
    {
     "name": "stdout",
     "output_type": "stream",
     "text": [
      "welcome to python learning\n",
      "suraj\n",
      "Happy learning\n"
     ]
    }
   ],
   "source": [
    "main_function(print)"
   ]
  },
  {
   "cell_type": "code",
   "execution_count": 24,
   "id": "3194b7ec",
   "metadata": {},
   "outputs": [],
   "source": [
    "def main_function(func):\n",
    "    def sub_function():\n",
    "        print(\"welcome to python learning\")\n",
    "        print(func([1,2,3,4,5,6,7,8,9]))\n",
    "        print(\"Happy learning\")\n",
    "    return sub_function()"
   ]
  },
  {
   "cell_type": "code",
   "execution_count": 25,
   "id": "0c2872e8",
   "metadata": {},
   "outputs": [
    {
     "name": "stdout",
     "output_type": "stream",
     "text": [
      "welcome to python learning\n",
      "9\n",
      "Happy learning\n"
     ]
    }
   ],
   "source": [
    "main_function(len)"
   ]
  },
  {
   "cell_type": "code",
   "execution_count": null,
   "id": "c1eb06b9",
   "metadata": {},
   "outputs": [],
   "source": []
  },
  {
   "cell_type": "code",
   "execution_count": 26,
   "id": "aa21d910",
   "metadata": {},
   "outputs": [],
   "source": [
    "def main_function(func):\n",
    "    def sub_function():\n",
    "        print(\"welcome to python learning\")\n",
    "        func()\n",
    "        print(\"Happy learning\")\n",
    "    return sub_function()"
   ]
  },
  {
   "cell_type": "code",
   "execution_count": 27,
   "id": "656719cf",
   "metadata": {},
   "outputs": [],
   "source": [
    "def name():\n",
    "    print(\"hello suraj\")"
   ]
  },
  {
   "cell_type": "code",
   "execution_count": 28,
   "id": "15e19607",
   "metadata": {},
   "outputs": [
    {
     "name": "stdout",
     "output_type": "stream",
     "text": [
      "welcome to python learning\n",
      "hello suraj\n",
      "Happy learning\n"
     ]
    }
   ],
   "source": [
    "main_function(name)"
   ]
  },
  {
   "cell_type": "code",
   "execution_count": null,
   "id": "6a012e8f",
   "metadata": {},
   "outputs": [],
   "source": []
  },
  {
   "cell_type": "code",
   "execution_count": 29,
   "id": "d707ef45",
   "metadata": {},
   "outputs": [],
   "source": [
    "def main_function(func):\n",
    "    def sub_function():\n",
    "        print(\"welcome to python learning\")\n",
    "        func()\n",
    "        print(\"Happy learning\")\n",
    "    return sub_function()"
   ]
  },
  {
   "cell_type": "code",
   "execution_count": 30,
   "id": "6ee06cd1",
   "metadata": {},
   "outputs": [
    {
     "name": "stdout",
     "output_type": "stream",
     "text": [
      "welcome to python learning\n",
      "hello suraj\n",
      "Happy learning\n"
     ]
    }
   ],
   "source": [
    "@main_function\n",
    "def name():\n",
    "    print(\"hello suraj\")"
   ]
  },
  {
   "cell_type": "code",
   "execution_count": null,
   "id": "13ad96d6",
   "metadata": {},
   "outputs": [],
   "source": []
  }
 ],
 "metadata": {
  "kernelspec": {
   "display_name": "Python 3 (ipykernel)",
   "language": "python",
   "name": "python3"
  },
  "language_info": {
   "codemirror_mode": {
    "name": "ipython",
    "version": 3
   },
   "file_extension": ".py",
   "mimetype": "text/x-python",
   "name": "python",
   "nbconvert_exporter": "python",
   "pygments_lexer": "ipython3",
   "version": "3.9.7"
  }
 },
 "nbformat": 4,
 "nbformat_minor": 5
}
