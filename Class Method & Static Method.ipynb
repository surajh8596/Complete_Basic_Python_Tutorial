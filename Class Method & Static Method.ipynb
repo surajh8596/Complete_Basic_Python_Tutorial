{
 "cells": [
  {
   "cell_type": "markdown",
   "id": "d63e97f1",
   "metadata": {},
   "source": [
    "#### Class Method"
   ]
  },
  {
   "cell_type": "code",
   "execution_count": 8,
   "id": "9bc9efd4",
   "metadata": {},
   "outputs": [],
   "source": [
    "class Car:\n",
    "    base_price=100000 #Class Variable\n",
    "    def __init__(self,windows,doors,engine):\n",
    "        self.window=windows\n",
    "        self.door=doors\n",
    "        self.engine_type=engine\n",
    "        \n",
    "    def what_would_base_price(self):\n",
    "        print(\"The base price is {}\".format(self.base_price))\n",
    "        \n",
    "    @classmethod #decorator\n",
    "    def revise_base_price(cls,inflation): #cls reffer to class Car\n",
    "        cls.base_price=cls.base_price+cls.base_price*inflation"
   ]
  },
  {
   "cell_type": "code",
   "execution_count": 9,
   "id": "008c584f",
   "metadata": {},
   "outputs": [],
   "source": [
    "Car.revise_base_price(0.20)"
   ]
  },
  {
   "cell_type": "code",
   "execution_count": 10,
   "id": "a58b8c48",
   "metadata": {},
   "outputs": [
    {
     "data": {
      "text/plain": [
       "120000.0"
      ]
     },
     "execution_count": 10,
     "metadata": {},
     "output_type": "execute_result"
    }
   ],
   "source": [
    "Car.base_price"
   ]
  },
  {
   "cell_type": "raw",
   "id": "c5724c1e",
   "metadata": {},
   "source": [
    "Now the base_price has been updated"
   ]
  },
  {
   "cell_type": "code",
   "execution_count": null,
   "id": "fc4faa26",
   "metadata": {},
   "outputs": [],
   "source": []
  },
  {
   "cell_type": "markdown",
   "id": "292b8c88",
   "metadata": {},
   "source": [
    "#### Static Method"
   ]
  },
  {
   "cell_type": "code",
   "execution_count": 17,
   "id": "eba88df3",
   "metadata": {},
   "outputs": [],
   "source": [
    "import datetime as dt"
   ]
  },
  {
   "cell_type": "code",
   "execution_count": 18,
   "id": "5e79c1fc",
   "metadata": {},
   "outputs": [
    {
     "data": {
      "text/plain": [
       "2022"
      ]
     },
     "execution_count": 18,
     "metadata": {},
     "output_type": "execute_result"
    }
   ],
   "source": [
    "now=dt.datetime.now()\n",
    "now.year"
   ]
  },
  {
   "cell_type": "code",
   "execution_count": 24,
   "id": "6f8b8a06",
   "metadata": {},
   "outputs": [],
   "source": [
    "class Car:\n",
    "    base_price=100000 #Class Variable\n",
    "    def __init__(self,windows,doors,engine):\n",
    "        self.window=windows\n",
    "        self.door=doors\n",
    "        self.engine_type=engine\n",
    "        \n",
    "    def what_would_base_price(self):\n",
    "        print(\"The base price is {}\".format(self.base_price))\n",
    "        \n",
    "    @classmethod #decorator\n",
    "    def revise_base_price(cls,inflation): #cls reffer to class Car\n",
    "        cls.base_price=cls.base_price+cls.base_price*inflation\n",
    "        \n",
    "    @staticmethod\n",
    "    def check_year():\n",
    "        if now.year==2022:\n",
    "            return True\n",
    "        else:\n",
    "            return False"
   ]
  },
  {
   "cell_type": "code",
   "execution_count": 25,
   "id": "4426db34",
   "metadata": {
    "scrolled": true
   },
   "outputs": [
    {
     "data": {
      "text/plain": [
       "True"
      ]
     },
     "execution_count": 25,
     "metadata": {},
     "output_type": "execute_result"
    }
   ],
   "source": [
    "Car.check_year()"
   ]
  },
  {
   "cell_type": "code",
   "execution_count": 26,
   "id": "7fbd4164",
   "metadata": {},
   "outputs": [],
   "source": [
    "car1=Car(4,4,\"Petrol\")"
   ]
  },
  {
   "cell_type": "code",
   "execution_count": 27,
   "id": "16e54e13",
   "metadata": {},
   "outputs": [],
   "source": [
    "if(car1.check_year()):\n",
    "    pass\n",
    "else:\n",
    "    Car.revise_base_price()"
   ]
  },
  {
   "cell_type": "code",
   "execution_count": 30,
   "id": "d587df63",
   "metadata": {
    "scrolled": true
   },
   "outputs": [
    {
     "data": {
      "text/plain": [
       "100000"
      ]
     },
     "execution_count": 30,
     "metadata": {},
     "output_type": "execute_result"
    }
   ],
   "source": [
    "car1.base_price"
   ]
  },
  {
   "cell_type": "raw",
   "id": "78de78a6",
   "metadata": {},
   "source": [
    "static method initialize at the start of program only once."
   ]
  },
  {
   "cell_type": "code",
   "execution_count": null,
   "id": "a675a985",
   "metadata": {},
   "outputs": [],
   "source": []
  }
 ],
 "metadata": {
  "kernelspec": {
   "display_name": "Python 3 (ipykernel)",
   "language": "python",
   "name": "python3"
  },
  "language_info": {
   "codemirror_mode": {
    "name": "ipython",
    "version": 3
   },
   "file_extension": ".py",
   "mimetype": "text/x-python",
   "name": "python",
   "nbconvert_exporter": "python",
   "pygments_lexer": "ipython3",
   "version": "3.9.7"
  }
 },
 "nbformat": 4,
 "nbformat_minor": 5
}
