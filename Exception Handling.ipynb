{
 "cells": [
  {
   "cell_type": "markdown",
   "id": "ea7d9c1f",
   "metadata": {},
   "source": [
    "## Type Of Errors\n",
    "     1. syntax errors- cant handle\n",
    "     2. Run time errors- can handle(exception error)\n",
    "        a. ZeroDivisionError\n",
    "        b. TypeError\n",
    "        c. NameError\n",
    "        d. ValueError\n",
    "        e. IndexError\n",
    "        f. KeyError\n",
    "        g. ModuleNotFoundError\n",
    "        h. ImportError\n",
    "        \n",
    "Note: Python have one more error which occure when we stop the current execution called Interruption error."
   ]
  },
  {
   "cell_type": "code",
   "execution_count": 1,
   "id": "7a0a678b",
   "metadata": {},
   "outputs": [
    {
     "ename": "SyntaxError",
     "evalue": "unexpected EOF while parsing (Temp/ipykernel_17080/865663189.py, line 4)",
     "output_type": "error",
     "traceback": [
      "\u001b[1;36m  File \u001b[1;32m\"C:\\Users\\User\\AppData\\Local\\Temp/ipykernel_17080/865663189.py\"\u001b[1;36m, line \u001b[1;32m4\u001b[0m\n\u001b[1;33m    print(a+b\u001b[0m\n\u001b[1;37m             ^\u001b[0m\n\u001b[1;31mSyntaxError\u001b[0m\u001b[1;31m:\u001b[0m unexpected EOF while parsing\n"
     ]
    }
   ],
   "source": [
    "## SyntaxError\n",
    "a=10 \n",
    "b=20\n",
    "print(a+b"
   ]
  },
  {
   "cell_type": "code",
   "execution_count": 2,
   "id": "95775940",
   "metadata": {},
   "outputs": [
    {
     "ename": "SyntaxError",
     "evalue": "invalid syntax (Temp/ipykernel_17080/1296514853.py, line 2)",
     "output_type": "error",
     "traceback": [
      "\u001b[1;36m  File \u001b[1;32m\"C:\\Users\\User\\AppData\\Local\\Temp/ipykernel_17080/1296514853.py\"\u001b[1;36m, line \u001b[1;32m2\u001b[0m\n\u001b[1;33m    if x>10\u001b[0m\n\u001b[1;37m           ^\u001b[0m\n\u001b[1;31mSyntaxError\u001b[0m\u001b[1;31m:\u001b[0m invalid syntax\n"
     ]
    }
   ],
   "source": [
    "x=20\n",
    "if x>10\n",
    "    print(\"Hello\")"
   ]
  },
  {
   "cell_type": "code",
   "execution_count": 3,
   "id": "10d07c15",
   "metadata": {},
   "outputs": [
    {
     "ename": "ZeroDivisionError",
     "evalue": "division by zero",
     "output_type": "error",
     "traceback": [
      "\u001b[1;31m---------------------------------------------------------------------------\u001b[0m",
      "\u001b[1;31mZeroDivisionError\u001b[0m                         Traceback (most recent call last)",
      "\u001b[1;32m~\\AppData\\Local\\Temp/ipykernel_17080/498543618.py\u001b[0m in \u001b[0;36m<module>\u001b[1;34m\u001b[0m\n\u001b[0;32m      1\u001b[0m \u001b[1;31m## ZeroDivisionError\u001b[0m\u001b[1;33m\u001b[0m\u001b[1;33m\u001b[0m\u001b[0m\n\u001b[0;32m      2\u001b[0m \u001b[1;33m\u001b[0m\u001b[0m\n\u001b[1;32m----> 3\u001b[1;33m \u001b[0mprint\u001b[0m\u001b[1;33m(\u001b[0m\u001b[1;36m10\u001b[0m\u001b[1;33m/\u001b[0m\u001b[1;36m0\u001b[0m\u001b[1;33m)\u001b[0m\u001b[1;33m\u001b[0m\u001b[1;33m\u001b[0m\u001b[0m\n\u001b[0m",
      "\u001b[1;31mZeroDivisionError\u001b[0m: division by zero"
     ]
    }
   ],
   "source": [
    "## ZeroDivisionError\n",
    "\n",
    "print(10/0)"
   ]
  },
  {
   "cell_type": "code",
   "execution_count": 4,
   "id": "571f17b2",
   "metadata": {},
   "outputs": [
    {
     "ename": "TypeError",
     "evalue": "can only concatenate str (not \"int\") to str",
     "output_type": "error",
     "traceback": [
      "\u001b[1;31m---------------------------------------------------------------------------\u001b[0m",
      "\u001b[1;31mTypeError\u001b[0m                                 Traceback (most recent call last)",
      "\u001b[1;32m~\\AppData\\Local\\Temp/ipykernel_17080/2216782310.py\u001b[0m in \u001b[0;36m<module>\u001b[1;34m\u001b[0m\n\u001b[0;32m      1\u001b[0m \u001b[1;31m## TypeError\u001b[0m\u001b[1;33m\u001b[0m\u001b[1;33m\u001b[0m\u001b[0m\n\u001b[0;32m      2\u001b[0m \u001b[1;33m\u001b[0m\u001b[0m\n\u001b[1;32m----> 3\u001b[1;33m \u001b[0mprint\u001b[0m\u001b[1;33m(\u001b[0m\u001b[1;34m'10'\u001b[0m\u001b[1;33m+\u001b[0m\u001b[1;36m10\u001b[0m\u001b[1;33m)\u001b[0m\u001b[1;33m\u001b[0m\u001b[1;33m\u001b[0m\u001b[0m\n\u001b[0m",
      "\u001b[1;31mTypeError\u001b[0m: can only concatenate str (not \"int\") to str"
     ]
    }
   ],
   "source": [
    "## TypeError\n",
    "\n",
    "print('10'+10)"
   ]
  },
  {
   "cell_type": "code",
   "execution_count": 5,
   "id": "65a7fa05",
   "metadata": {},
   "outputs": [
    {
     "ename": "NameError",
     "evalue": "name 'b' is not defined",
     "output_type": "error",
     "traceback": [
      "\u001b[1;31m---------------------------------------------------------------------------\u001b[0m",
      "\u001b[1;31mNameError\u001b[0m                                 Traceback (most recent call last)",
      "\u001b[1;32m~\\AppData\\Local\\Temp/ipykernel_17080/605729801.py\u001b[0m in \u001b[0;36m<module>\u001b[1;34m\u001b[0m\n\u001b[0;32m      1\u001b[0m \u001b[1;31m## NameError\u001b[0m\u001b[1;33m\u001b[0m\u001b[1;33m\u001b[0m\u001b[0m\n\u001b[0;32m      2\u001b[0m \u001b[1;33m\u001b[0m\u001b[0m\n\u001b[1;32m----> 3\u001b[1;33m \u001b[0mprint\u001b[0m\u001b[1;33m(\u001b[0m\u001b[0mb\u001b[0m\u001b[1;33m)\u001b[0m\u001b[1;33m\u001b[0m\u001b[1;33m\u001b[0m\u001b[0m\n\u001b[0m",
      "\u001b[1;31mNameError\u001b[0m: name 'b' is not defined"
     ]
    }
   ],
   "source": [
    "## NameError\n",
    "\n",
    "print(b)"
   ]
  },
  {
   "cell_type": "code",
   "execution_count": 7,
   "id": "05c0456d",
   "metadata": {},
   "outputs": [
    {
     "name": "stdout",
     "output_type": "stream",
     "text": [
      "Enter value: 'hi'\n"
     ]
    },
    {
     "ename": "ValueError",
     "evalue": "invalid literal for int() with base 10: \"'hi'\"",
     "output_type": "error",
     "traceback": [
      "\u001b[1;31m---------------------------------------------------------------------------\u001b[0m",
      "\u001b[1;31mValueError\u001b[0m                                Traceback (most recent call last)",
      "\u001b[1;32m~\\AppData\\Local\\Temp/ipykernel_17080/3321676926.py\u001b[0m in \u001b[0;36m<module>\u001b[1;34m\u001b[0m\n\u001b[0;32m      1\u001b[0m \u001b[1;31m## ValueError\u001b[0m\u001b[1;33m\u001b[0m\u001b[1;33m\u001b[0m\u001b[0m\n\u001b[0;32m      2\u001b[0m \u001b[1;33m\u001b[0m\u001b[0m\n\u001b[1;32m----> 3\u001b[1;33m \u001b[0ma\u001b[0m\u001b[1;33m=\u001b[0m\u001b[0mint\u001b[0m\u001b[1;33m(\u001b[0m\u001b[0minput\u001b[0m\u001b[1;33m(\u001b[0m\u001b[1;34m\"Enter value: \"\u001b[0m\u001b[1;33m)\u001b[0m\u001b[1;33m)\u001b[0m\u001b[1;33m\u001b[0m\u001b[1;33m\u001b[0m\u001b[0m\n\u001b[0m\u001b[0;32m      4\u001b[0m \u001b[0mprint\u001b[0m\u001b[1;33m(\u001b[0m\u001b[0ma\u001b[0m\u001b[1;33m)\u001b[0m\u001b[1;33m\u001b[0m\u001b[1;33m\u001b[0m\u001b[0m\n",
      "\u001b[1;31mValueError\u001b[0m: invalid literal for int() with base 10: \"'hi'\""
     ]
    }
   ],
   "source": [
    "## ValueError\n",
    "\n",
    "a=int(input(\"Enter value: \"))\n",
    "print(a)"
   ]
  },
  {
   "cell_type": "code",
   "execution_count": 8,
   "id": "e4eff1ee",
   "metadata": {},
   "outputs": [
    {
     "ename": "IndexError",
     "evalue": "list index out of range",
     "output_type": "error",
     "traceback": [
      "\u001b[1;31m---------------------------------------------------------------------------\u001b[0m",
      "\u001b[1;31mIndexError\u001b[0m                                Traceback (most recent call last)",
      "\u001b[1;32m~\\AppData\\Local\\Temp/ipykernel_17080/1327141626.py\u001b[0m in \u001b[0;36m<module>\u001b[1;34m\u001b[0m\n\u001b[0;32m      2\u001b[0m \u001b[1;33m\u001b[0m\u001b[0m\n\u001b[0;32m      3\u001b[0m \u001b[0ml\u001b[0m\u001b[1;33m=\u001b[0m\u001b[1;33m[\u001b[0m\u001b[1;36m10\u001b[0m\u001b[1;33m,\u001b[0m\u001b[1;36m20\u001b[0m\u001b[1;33m,\u001b[0m\u001b[1;36m30\u001b[0m\u001b[1;33m,\u001b[0m\u001b[1;36m40\u001b[0m\u001b[1;33m]\u001b[0m\u001b[1;33m\u001b[0m\u001b[1;33m\u001b[0m\u001b[0m\n\u001b[1;32m----> 4\u001b[1;33m \u001b[0ml\u001b[0m\u001b[1;33m[\u001b[0m\u001b[1;36m4\u001b[0m\u001b[1;33m]\u001b[0m\u001b[1;33m\u001b[0m\u001b[1;33m\u001b[0m\u001b[0m\n\u001b[0m",
      "\u001b[1;31mIndexError\u001b[0m: list index out of range"
     ]
    }
   ],
   "source": [
    "## IndexError\n",
    "\n",
    "l=[10,20,30,40]\n",
    "l[4]"
   ]
  },
  {
   "cell_type": "code",
   "execution_count": 9,
   "id": "8fb2fac9",
   "metadata": {},
   "outputs": [
    {
     "ename": "KeyError",
     "evalue": "'place'",
     "output_type": "error",
     "traceback": [
      "\u001b[1;31m---------------------------------------------------------------------------\u001b[0m",
      "\u001b[1;31mKeyError\u001b[0m                                  Traceback (most recent call last)",
      "\u001b[1;32m~\\AppData\\Local\\Temp/ipykernel_17080/1869188325.py\u001b[0m in \u001b[0;36m<module>\u001b[1;34m\u001b[0m\n\u001b[0;32m      2\u001b[0m \u001b[1;33m\u001b[0m\u001b[0m\n\u001b[0;32m      3\u001b[0m \u001b[0md\u001b[0m\u001b[1;33m=\u001b[0m\u001b[1;33m{\u001b[0m\u001b[1;34m'name'\u001b[0m\u001b[1;33m:\u001b[0m\u001b[1;34m'suraj'\u001b[0m\u001b[1;33m,\u001b[0m\u001b[1;34m'age'\u001b[0m\u001b[1;33m:\u001b[0m\u001b[1;36m26\u001b[0m\u001b[1;33m,\u001b[0m\u001b[1;34m'job'\u001b[0m\u001b[1;33m:\u001b[0m\u001b[1;34m'ds'\u001b[0m\u001b[1;33m}\u001b[0m\u001b[1;33m\u001b[0m\u001b[1;33m\u001b[0m\u001b[0m\n\u001b[1;32m----> 4\u001b[1;33m \u001b[0md\u001b[0m\u001b[1;33m[\u001b[0m\u001b[1;34m'place'\u001b[0m\u001b[1;33m]\u001b[0m\u001b[1;33m\u001b[0m\u001b[1;33m\u001b[0m\u001b[0m\n\u001b[0m",
      "\u001b[1;31mKeyError\u001b[0m: 'place'"
     ]
    }
   ],
   "source": [
    "## KeyError\n",
    "\n",
    "d={'name':'suraj','age':26,'job':'ds'}\n",
    "d['place']"
   ]
  },
  {
   "cell_type": "code",
   "execution_count": 10,
   "id": "56ad9956",
   "metadata": {},
   "outputs": [
    {
     "ename": "ModuleNotFoundError",
     "evalue": "No module named 'sdhdh'",
     "output_type": "error",
     "traceback": [
      "\u001b[1;31m---------------------------------------------------------------------------\u001b[0m",
      "\u001b[1;31mModuleNotFoundError\u001b[0m                       Traceback (most recent call last)",
      "\u001b[1;32m~\\AppData\\Local\\Temp/ipykernel_17080/2293256924.py\u001b[0m in \u001b[0;36m<module>\u001b[1;34m\u001b[0m\n\u001b[0;32m      1\u001b[0m \u001b[1;31m## ModuleNotFoundError\u001b[0m\u001b[1;33m\u001b[0m\u001b[1;33m\u001b[0m\u001b[0m\n\u001b[0;32m      2\u001b[0m \u001b[1;33m\u001b[0m\u001b[0m\n\u001b[1;32m----> 3\u001b[1;33m \u001b[1;32mimport\u001b[0m \u001b[0msdhdh\u001b[0m\u001b[1;33m\u001b[0m\u001b[1;33m\u001b[0m\u001b[0m\n\u001b[0m",
      "\u001b[1;31mModuleNotFoundError\u001b[0m: No module named 'sdhdh'"
     ]
    }
   ],
   "source": [
    "## ModuleNotFoundError\n",
    "\n",
    "import sdhdh"
   ]
  },
  {
   "cell_type": "code",
   "execution_count": 11,
   "id": "b9c72217",
   "metadata": {},
   "outputs": [],
   "source": [
    "import math"
   ]
  },
  {
   "cell_type": "code",
   "execution_count": 12,
   "id": "6cd75090",
   "metadata": {},
   "outputs": [
    {
     "data": {
      "text/plain": [
       "['__doc__',\n",
       " '__loader__',\n",
       " '__name__',\n",
       " '__package__',\n",
       " '__spec__',\n",
       " 'acos',\n",
       " 'acosh',\n",
       " 'asin',\n",
       " 'asinh',\n",
       " 'atan',\n",
       " 'atan2',\n",
       " 'atanh',\n",
       " 'ceil',\n",
       " 'comb',\n",
       " 'copysign',\n",
       " 'cos',\n",
       " 'cosh',\n",
       " 'degrees',\n",
       " 'dist',\n",
       " 'e',\n",
       " 'erf',\n",
       " 'erfc',\n",
       " 'exp',\n",
       " 'expm1',\n",
       " 'fabs',\n",
       " 'factorial',\n",
       " 'floor',\n",
       " 'fmod',\n",
       " 'frexp',\n",
       " 'fsum',\n",
       " 'gamma',\n",
       " 'gcd',\n",
       " 'hypot',\n",
       " 'inf',\n",
       " 'isclose',\n",
       " 'isfinite',\n",
       " 'isinf',\n",
       " 'isnan',\n",
       " 'isqrt',\n",
       " 'lcm',\n",
       " 'ldexp',\n",
       " 'lgamma',\n",
       " 'log',\n",
       " 'log10',\n",
       " 'log1p',\n",
       " 'log2',\n",
       " 'modf',\n",
       " 'nan',\n",
       " 'nextafter',\n",
       " 'perm',\n",
       " 'pi',\n",
       " 'pow',\n",
       " 'prod',\n",
       " 'radians',\n",
       " 'remainder',\n",
       " 'sin',\n",
       " 'sinh',\n",
       " 'sqrt',\n",
       " 'tan',\n",
       " 'tanh',\n",
       " 'tau',\n",
       " 'trunc',\n",
       " 'ulp']"
      ]
     },
     "execution_count": 12,
     "metadata": {},
     "output_type": "execute_result"
    }
   ],
   "source": [
    "dir(math)"
   ]
  },
  {
   "cell_type": "code",
   "execution_count": 13,
   "id": "40315c13",
   "metadata": {},
   "outputs": [
    {
     "ename": "ImportError",
     "evalue": "cannot import name 'sum1' from 'math' (unknown location)",
     "output_type": "error",
     "traceback": [
      "\u001b[1;31m---------------------------------------------------------------------------\u001b[0m",
      "\u001b[1;31mImportError\u001b[0m                               Traceback (most recent call last)",
      "\u001b[1;32m~\\AppData\\Local\\Temp/ipykernel_17080/2235786210.py\u001b[0m in \u001b[0;36m<module>\u001b[1;34m\u001b[0m\n\u001b[0;32m      1\u001b[0m \u001b[1;31m## ImportError\u001b[0m\u001b[1;33m\u001b[0m\u001b[1;33m\u001b[0m\u001b[0m\n\u001b[0;32m      2\u001b[0m \u001b[1;33m\u001b[0m\u001b[0m\n\u001b[1;32m----> 3\u001b[1;33m \u001b[1;32mfrom\u001b[0m \u001b[0mmath\u001b[0m \u001b[1;32mimport\u001b[0m \u001b[0msum1\u001b[0m\u001b[1;33m\u001b[0m\u001b[1;33m\u001b[0m\u001b[0m\n\u001b[0m",
      "\u001b[1;31mImportError\u001b[0m: cannot import name 'sum1' from 'math' (unknown location)"
     ]
    }
   ],
   "source": [
    "## ImportError\n",
    "\n",
    "from math import sum1"
   ]
  },
  {
   "cell_type": "code",
   "execution_count": null,
   "id": "5a2a1e24",
   "metadata": {},
   "outputs": [],
   "source": []
  },
  {
   "cell_type": "markdown",
   "id": "6374c1c8",
   "metadata": {},
   "source": [
    "### Exception Handling in Python\n",
    "    This is one of the most important concepts in Python. As a developer, while developing an application, it is your key responsibility to handle the exception.\n",
    "    \n",
    "    Exception handling does not mean repairing or correcting the exception. Instead, it is the process in which we define a way, so that the program doesn’t terminate abnormally due to the exceptions."
   ]
  },
  {
   "cell_type": "markdown",
   "id": "f510f977",
   "metadata": {},
   "source": [
    "### What is an Exception?\n",
    "    An unwanted or unexpected event which disturbs the normal flow of the program is called exception. Whenever an exception occurs, then immediately program will terminate abnormally. In order to get our program executed normally, we need to handle those exceptions on high priority."
   ]
  },
  {
   "cell_type": "markdown",
   "id": "ec52d15d",
   "metadata": {},
   "source": [
    "### How to Handle Exception in Python?\n",
    "    Using try except statements we can handle exception in python.\n",
    "\n",
    "    try block : try is a keyword in python. The code which may or expected to raise an exception, should be written inside the try block.\n",
    "    \n",
    "    except block: except is a keyword in python. The corresponding handling code for the exception, if occured, needs to be written inside the except block."
   ]
  },
  {
   "cell_type": "code",
   "execution_count": null,
   "id": "0dc32cf7",
   "metadata": {},
   "outputs": [],
   "source": [
    "Syntax\n",
    "\n",
    "try:\n",
    "    The code which may raise exception\n",
    "except Exception:\n",
    "    Exception handling code"
   ]
  },
  {
   "cell_type": "code",
   "execution_count": 14,
   "id": "f26e857d",
   "metadata": {},
   "outputs": [
    {
     "name": "stdout",
     "output_type": "stream",
     "text": [
      "30\n"
     ]
    }
   ],
   "source": [
    "try:\n",
    "    print(10+20)\n",
    "except Exception:\n",
    "    print(\"Error Occured\")"
   ]
  },
  {
   "cell_type": "code",
   "execution_count": 15,
   "id": "48a2da79",
   "metadata": {},
   "outputs": [
    {
     "name": "stdout",
     "output_type": "stream",
     "text": [
      "Error Occured\n"
     ]
    }
   ],
   "source": [
    "try:\n",
    "    print(10+'hi')\n",
    "except Exception:\n",
    "    print(\"Error Occured\")"
   ]
  },
  {
   "cell_type": "code",
   "execution_count": 16,
   "id": "c1477ede",
   "metadata": {},
   "outputs": [
    {
     "name": "stdout",
     "output_type": "stream",
     "text": [
      "One\n",
      "Two\n",
      "5.0\n",
      "Four\n",
      "Five\n"
     ]
    }
   ],
   "source": [
    "print('One')\n",
    "print('Two')\n",
    "try:\n",
    "    print(10/2)\n",
    "except Exception:\n",
    "    print(\"Error Occured\")\n",
    "print('Four')\n",
    "print('Five')"
   ]
  },
  {
   "cell_type": "code",
   "execution_count": 17,
   "id": "ba9bbc25",
   "metadata": {},
   "outputs": [
    {
     "name": "stdout",
     "output_type": "stream",
     "text": [
      "One\n",
      "Two\n",
      "Error Occured\n",
      "Four\n",
      "Five\n"
     ]
    }
   ],
   "source": [
    "print('One')\n",
    "print('Two')\n",
    "try:\n",
    "    print(10/0)\n",
    "except Exception:\n",
    "    print(\"Error Occured\")\n",
    "print('Four')\n",
    "print('Five')"
   ]
  },
  {
   "cell_type": "code",
   "execution_count": 18,
   "id": "b77dceea",
   "metadata": {},
   "outputs": [
    {
     "name": "stdout",
     "output_type": "stream",
     "text": [
      "One\n",
      "Two\n",
      "Error Occured and error is division by zero\n",
      "Four\n",
      "Five\n"
     ]
    }
   ],
   "source": [
    "print('One')\n",
    "print('Two')\n",
    "try:\n",
    "    print(10/0)\n",
    "except Exception as e:\n",
    "    print(\"Error Occured and error is\", e)\n",
    "print('Four')\n",
    "print('Five')"
   ]
  },
  {
   "cell_type": "code",
   "execution_count": 20,
   "id": "be83b60f",
   "metadata": {},
   "outputs": [
    {
     "name": "stdout",
     "output_type": "stream",
     "text": [
      "Error is: division by zero\n"
     ]
    }
   ],
   "source": [
    "try:\n",
    "    print(10/0)\n",
    "except ZeroDivisionError as z:\n",
    "    print(\"Error is:\", z)"
   ]
  },
  {
   "cell_type": "code",
   "execution_count": 21,
   "id": "6273f62e",
   "metadata": {},
   "outputs": [
    {
     "name": "stdout",
     "output_type": "stream",
     "text": [
      "Enter First Number: 20\n",
      "Enter Second Number: 10\n",
      "2.0\n"
     ]
    }
   ],
   "source": [
    "try:\n",
    "    x=int(input(\"Enter First Number: \"))\n",
    "    y=int(input(\"Enter Second Number: \"))\n",
    "    print(x/y)\n",
    "except ZeroDivisionError:\n",
    "    print(\"Can't Divide with Zero\")\n",
    "except ValueError:\n",
    "    print(\"please provide int value only\")"
   ]
  },
  {
   "cell_type": "code",
   "execution_count": 22,
   "id": "53bd2927",
   "metadata": {},
   "outputs": [
    {
     "name": "stdout",
     "output_type": "stream",
     "text": [
      "Enter First Number: 20\n",
      "Enter Second Number: 0\n",
      "Can't Divide with Zero\n"
     ]
    }
   ],
   "source": [
    "try:\n",
    "    x=int(input(\"Enter First Number: \"))\n",
    "    y=int(input(\"Enter Second Number: \"))\n",
    "    print(x/y)\n",
    "except ZeroDivisionError:\n",
    "    print(\"Can't Divide with Zero\")\n",
    "except ValueError:\n",
    "    print(\"please provide int value only\")"
   ]
  },
  {
   "cell_type": "code",
   "execution_count": 23,
   "id": "08bdb3a0",
   "metadata": {},
   "outputs": [
    {
     "name": "stdout",
     "output_type": "stream",
     "text": [
      "Enter First Number: 20\n",
      "Enter Second Number: 'hi'\n",
      "please provide int value only\n"
     ]
    }
   ],
   "source": [
    "try:\n",
    "    x=int(input(\"Enter First Number: \"))\n",
    "    y=int(input(\"Enter Second Number: \"))\n",
    "    print(x/y)\n",
    "except ZeroDivisionError:\n",
    "    print(\"Can't Divide with Zero\")\n",
    "except ValueError:\n",
    "    print(\"please provide int value only\")"
   ]
  },
  {
   "cell_type": "code",
   "execution_count": 24,
   "id": "f8b36b65",
   "metadata": {},
   "outputs": [
    {
     "name": "stdout",
     "output_type": "stream",
     "text": [
      "Enter First Number: 20\n",
      "Enter Second Number: 0\n",
      "Error is:  division by zero\n"
     ]
    }
   ],
   "source": [
    "try:\n",
    "    x=int(input(\"Enter First Number: \"))\n",
    "    y=int(input(\"Enter Second Number: \"))\n",
    "    print(x/y)\n",
    "except (ZeroDivisionError,ValueError) as e:\n",
    "    print(\"Error is: \", e)"
   ]
  },
  {
   "cell_type": "code",
   "execution_count": 25,
   "id": "070f4c70",
   "metadata": {},
   "outputs": [
    {
     "name": "stdout",
     "output_type": "stream",
     "text": [
      "Enter First Number: 20/'hi'\n",
      "Error is:  invalid literal for int() with base 10: \"20/'hi'\"\n"
     ]
    }
   ],
   "source": [
    "try:\n",
    "    x=int(input(\"Enter First Number: \"))\n",
    "    y=int(input(\"Enter Second Number: \"))\n",
    "    print(x/y)\n",
    "except (ZeroDivisionError,ValueError) as e:\n",
    "    print(\"Error is: \", e)"
   ]
  },
  {
   "cell_type": "code",
   "execution_count": 26,
   "id": "1db21784",
   "metadata": {},
   "outputs": [
    {
     "name": "stdout",
     "output_type": "stream",
     "text": [
      "Enter First Number: 10\n",
      "Enter Second Number: 5\n",
      "2.0\n"
     ]
    }
   ],
   "source": [
    "try:\n",
    "    x=int(input(\"Enter First Number: \"))\n",
    "    y=int(input(\"Enter Second Number: \"))\n",
    "    print(x/y)\n",
    "except ZeroDivisionError:\n",
    "    print(\"ZeroDivisionError: Can't divide with zero\")\n",
    "except:\n",
    "    print(\"Default Except: Please provide valid input only\")"
   ]
  },
  {
   "cell_type": "code",
   "execution_count": 27,
   "id": "07764539",
   "metadata": {},
   "outputs": [
    {
     "name": "stdout",
     "output_type": "stream",
     "text": [
      "Enter First Number: 20\n",
      "Enter Second Number: 0\n",
      "ZeroDivisionError: Can't divide with zero\n"
     ]
    }
   ],
   "source": [
    "try:\n",
    "    x=int(input(\"Enter First Number: \"))\n",
    "    y=int(input(\"Enter Second Number: \"))\n",
    "    print(x/y)\n",
    "except ZeroDivisionError:\n",
    "    print(\"ZeroDivisionError: Can't divide with zero\")\n",
    "except:\n",
    "    print(\"Default Except: Please provide valid input only\")"
   ]
  },
  {
   "cell_type": "code",
   "execution_count": 31,
   "id": "67c87293",
   "metadata": {},
   "outputs": [
    {
     "name": "stdout",
     "output_type": "stream",
     "text": [
      "Enter First Number: 20\n",
      "Enter Second Number: 'hi'\n",
      "Default Except: Please provide valid input only\n"
     ]
    }
   ],
   "source": [
    "try:\n",
    "    x=int(input(\"Enter First Number: \"))\n",
    "    y=int(input(\"Enter Second Number: \"))\n",
    "    print(x/y)\n",
    "except ZeroDivisionError:\n",
    "    print(\"ZeroDivisionError: Can't divide with zero\")\n",
    "except:\n",
    "    print(\"Default Except: Please provide valid input only\")"
   ]
  },
  {
   "cell_type": "code",
   "execution_count": 34,
   "id": "89b472f9",
   "metadata": {},
   "outputs": [
    {
     "name": "stdout",
     "output_type": "stream",
     "text": [
      "Enter First Number: 20\n",
      "Enter Second Number: 5\n",
      "4.0\n",
      "I will execute every time\n"
     ]
    }
   ],
   "source": [
    "try:\n",
    "    x=int(input(\"Enter First Number: \"))\n",
    "    y=int(input(\"Enter Second Number: \"))\n",
    "    print(x/y)\n",
    "except Exception as e:\n",
    "    print(\"Error is\",e)\n",
    "finally:\n",
    "    print(\"I will execute every time\")"
   ]
  },
  {
   "cell_type": "code",
   "execution_count": 35,
   "id": "bb11eece",
   "metadata": {},
   "outputs": [
    {
     "name": "stdout",
     "output_type": "stream",
     "text": [
      "Enter First Number: 20\n",
      "Enter Second Number: 0\n",
      "Error is division by zero\n",
      "I will execute every time\n"
     ]
    }
   ],
   "source": [
    "try:\n",
    "    x=int(input(\"Enter First Number: \"))\n",
    "    y=int(input(\"Enter Second Number: \"))\n",
    "    print(x/y)\n",
    "except Exception as e:\n",
    "    print(\"Error is\",e)\n",
    "finally:\n",
    "    print(\"I will execute every time\")"
   ]
  },
  {
   "cell_type": "code",
   "execution_count": 37,
   "id": "cbf507f5",
   "metadata": {},
   "outputs": [
    {
     "name": "stdout",
     "output_type": "stream",
     "text": [
      "Enter First Number: 30\n",
      "Enter Second Number: 0\n",
      "Error is name 'z' is not defined\n",
      "I will execute every time\n"
     ]
    }
   ],
   "source": [
    "try:\n",
    "    x=int(input(\"Enter First Number: \"))\n",
    "    y=int(input(\"Enter Second Number: \"))\n",
    "    print(x/z/y)\n",
    "except Exception as e:\n",
    "    print(\"Error is\",e)\n",
    "finally:\n",
    "    print(\"I will execute every time\")"
   ]
  },
  {
   "cell_type": "code",
   "execution_count": null,
   "id": "7acd8b34",
   "metadata": {},
   "outputs": [],
   "source": []
  }
 ],
 "metadata": {
  "kernelspec": {
   "display_name": "Python 3 (ipykernel)",
   "language": "python",
   "name": "python3"
  },
  "language_info": {
   "codemirror_mode": {
    "name": "ipython",
    "version": 3
   },
   "file_extension": ".py",
   "mimetype": "text/x-python",
   "name": "python",
   "nbconvert_exporter": "python",
   "pygments_lexer": "ipython3",
   "version": "3.9.7"
  }
 },
 "nbformat": 4,
 "nbformat_minor": 5
}
