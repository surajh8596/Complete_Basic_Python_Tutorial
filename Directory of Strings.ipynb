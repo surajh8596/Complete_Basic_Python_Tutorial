{
 "cells": [
  {
   "cell_type": "markdown",
   "id": "599fb684",
   "metadata": {},
   "source": [
    "* 1) How to create simple and multiline strings and check weather a string can change after creation or not?\n",
    "* 2) For given string \"HELLO WORLD\" extract the following\n",
    "    *    a. HELLO\n",
    "    *    b. WORLD\n",
    "    *    C. DLROW OLLEH\n",
    "    *    D. LLO RLD\n",
    "* 3) For the following strings determine which contains only alphabet, only digits, alphanumeric, which are in lower case, which are in upper case. and aslo check weather the string str3 starts or ends with word \"Now\".\n",
    "    *    str1- \"Welcome\"\n",
    "    *    str2- \"Hello World\"\n",
    "    *    str3- \"Now is the best time ever\"\n",
    "    *    str4- \"500017\"\n",
    "    *    str5- \"IPhone 12\"\n",
    "* 4) Accept the sentence from user and convert it to title case?\n",
    "* 5) Write a program that reads an integer from user, then your program should display weather that integer is even or odd?\n",
    "* 6) Create a program thats reads a letter of the alphabet from the user. If user enters a, e, i, o, u then your program should * display \"entered letter is vowel\", otherwise display \"entered letter is consonant\".\n",
    "* 7) Length of a month varies from 28 to 31 days. Create a program that reads the name of a month from user, then your program should display the number of days in that month. display 28 or 29 days for February so that the leap year is addressed.\n",
    "* 8) A triangle can be classified based on its sides as Equilateral, Isoscele or Scalene. Accept 3 inputs from user and display type of triangle?\n",
    "* 9) Accept year from user and check weather the year entered by the user is leap year or not?\n",
    "* 10) Write a program that computes real roots of a quadratic function. Your program should begin by prompting the user for the values of a, b and c. Then it should display a message indicating the number of real roots, along with the values of real root(if any)."
   ]
  },
  {
   "cell_type": "code",
   "execution_count": 9,
   "id": "19de6b9e",
   "metadata": {},
   "outputs": [
    {
     "name": "stdout",
     "output_type": "stream",
     "text": [
      "simple string is Ranju\n",
      "simple string is My name is Ranju\n",
      "multiline string is \n",
      "hello!!!\n",
      "my name is Ranjita\n",
      "i am from belgaum\n",
      "karnataka\n"
     ]
    }
   ],
   "source": [
    "# 1) How to create simple and multiline strings and check weather a string can change after creation or not?\n",
    "s1='Ranju'\n",
    "s2='My name is Ranju'\n",
    "s3='''\n",
    "hello!!!\n",
    "my name is Ranjita\n",
    "i am from belgaum\n",
    "karnataka'''\n",
    "print(\"simple string is\", s1)\n",
    "print(\"simple string is\", s2)\n",
    "print(\"multiline string is\", s3)"
   ]
  },
  {
   "cell_type": "code",
   "execution_count": 2,
   "id": "658dc809",
   "metadata": {},
   "outputs": [
    {
     "name": "stdout",
     "output_type": "stream",
     "text": [
      "Ranju\n"
     ]
    },
    {
     "ename": "TypeError",
     "evalue": "'str' object does not support item assignment",
     "output_type": "error",
     "traceback": [
      "\u001b[1;31m---------------------------------------------------------------------------\u001b[0m",
      "\u001b[1;31mTypeError\u001b[0m                                 Traceback (most recent call last)",
      "\u001b[1;32m~\\AppData\\Local\\Temp/ipykernel_5708/1230267397.py\u001b[0m in \u001b[0;36m<module>\u001b[1;34m\u001b[0m\n\u001b[0;32m      2\u001b[0m \u001b[0ms1\u001b[0m\u001b[1;33m=\u001b[0m\u001b[1;34m'Ranju'\u001b[0m\u001b[1;33m\u001b[0m\u001b[1;33m\u001b[0m\u001b[0m\n\u001b[0;32m      3\u001b[0m \u001b[0mprint\u001b[0m\u001b[1;33m(\u001b[0m\u001b[0ms1\u001b[0m\u001b[1;33m)\u001b[0m\u001b[1;33m\u001b[0m\u001b[1;33m\u001b[0m\u001b[0m\n\u001b[1;32m----> 4\u001b[1;33m \u001b[0ms1\u001b[0m\u001b[1;33m[\u001b[0m\u001b[1;36m0\u001b[0m\u001b[1;33m]\u001b[0m\u001b[1;33m=\u001b[0m\u001b[1;34m's'\u001b[0m\u001b[1;33m\u001b[0m\u001b[1;33m\u001b[0m\u001b[0m\n\u001b[0m",
      "\u001b[1;31mTypeError\u001b[0m: 'str' object does not support item assignment"
     ]
    }
   ],
   "source": [
    "# check weather a string can change after creation or not?\n",
    "s1='Ranju'\n",
    "print(s1)\n",
    "s1[0]='s'"
   ]
  },
  {
   "cell_type": "code",
   "execution_count": 13,
   "id": "7ecbb983",
   "metadata": {},
   "outputs": [
    {
     "name": "stdout",
     "output_type": "stream",
     "text": [
      "H W\n",
      "o o\n",
      "llo rld\n",
      "!dlroW olleH\n",
      "World\n",
      "Hello\n"
     ]
    }
   ],
   "source": [
    "# 2) For given string \"HELLO WORLD\" extract the following\n",
    "    #    a. H W\n",
    "    #    b. o o\n",
    "    #    c. llo rld\n",
    "    #    d. !dlroW olleH\n",
    "    #    e. World\n",
    "    #    f. Hello\n",
    "s=\"Hello World!\"\n",
    "print(s[0],s[6])\n",
    "print(s[4],s[7])\n",
    "print(s[2:5],s[8:-1])\n",
    "print(s[::-1])\n",
    "print(s[6:-1])\n",
    "print(s[0:5])"
   ]
  },
  {
   "cell_type": "code",
   "execution_count": null,
   "id": "22c8dae5",
   "metadata": {},
   "outputs": [],
   "source": [
    "# 3) For the following strings determine which contains only alphabet, only digits, alphanumeric, which are in lower case, which are in upper case. and aslo check weather the string str3 starts or ends with word \"Now\".\n",
    "    #    str1- \"Welcome\"\n",
    "    #    str2- \"Hello World\"\n",
    "    #    str3- \"Now is the best time ever\"\n",
    "    #    str4- \"500017\"\n",
    "    #    str5- \"IPhone 12\""
   ]
  },
  {
   "cell_type": "code",
   "execution_count": 21,
   "id": "de0c4d64",
   "metadata": {},
   "outputs": [
    {
     "data": {
      "text/plain": [
       "True"
      ]
     },
     "execution_count": 21,
     "metadata": {},
     "output_type": "execute_result"
    }
   ],
   "source": [
    "s=\"Welcome\"\n",
    "s.isalpha()"
   ]
  },
  {
   "cell_type": "code",
   "execution_count": 16,
   "id": "364ac377",
   "metadata": {},
   "outputs": [
    {
     "data": {
      "text/plain": [
       "False"
      ]
     },
     "execution_count": 16,
     "metadata": {},
     "output_type": "execute_result"
    }
   ],
   "source": [
    "s.isdigit()"
   ]
  },
  {
   "cell_type": "code",
   "execution_count": 20,
   "id": "740aa7cc",
   "metadata": {},
   "outputs": [
    {
     "data": {
      "text/plain": [
       "True"
      ]
     },
     "execution_count": 20,
     "metadata": {},
     "output_type": "execute_result"
    }
   ],
   "source": [
    "s.isalnum()"
   ]
  },
  {
   "cell_type": "code",
   "execution_count": 22,
   "id": "9eed3a8f",
   "metadata": {},
   "outputs": [
    {
     "data": {
      "text/plain": [
       "False"
      ]
     },
     "execution_count": 22,
     "metadata": {},
     "output_type": "execute_result"
    }
   ],
   "source": [
    "s.islower()"
   ]
  },
  {
   "cell_type": "code",
   "execution_count": 23,
   "id": "6268ab1b",
   "metadata": {},
   "outputs": [
    {
     "data": {
      "text/plain": [
       "False"
      ]
     },
     "execution_count": 23,
     "metadata": {},
     "output_type": "execute_result"
    }
   ],
   "source": [
    "s.isupper()"
   ]
  },
  {
   "cell_type": "code",
   "execution_count": 25,
   "id": "e09876fb",
   "metadata": {},
   "outputs": [
    {
     "data": {
      "text/plain": [
       "False"
      ]
     },
     "execution_count": 25,
     "metadata": {},
     "output_type": "execute_result"
    }
   ],
   "source": [
    "s=\"Iphone 12\"\n",
    "s.isalnum()"
   ]
  },
  {
   "cell_type": "code",
   "execution_count": 26,
   "id": "732413fe",
   "metadata": {},
   "outputs": [
    {
     "data": {
      "text/plain": [
       "False"
      ]
     },
     "execution_count": 26,
     "metadata": {},
     "output_type": "execute_result"
    }
   ],
   "source": [
    "s=\"Now is the best time ever\"\n",
    "s.isalpha()"
   ]
  },
  {
   "cell_type": "code",
   "execution_count": 27,
   "id": "5a403ef7",
   "metadata": {},
   "outputs": [
    {
     "data": {
      "text/plain": [
       "False"
      ]
     },
     "execution_count": 27,
     "metadata": {},
     "output_type": "execute_result"
    }
   ],
   "source": [
    "s.isdigit()"
   ]
  },
  {
   "cell_type": "code",
   "execution_count": 28,
   "id": "ed70ee62",
   "metadata": {},
   "outputs": [
    {
     "data": {
      "text/plain": [
       "False"
      ]
     },
     "execution_count": 28,
     "metadata": {},
     "output_type": "execute_result"
    }
   ],
   "source": [
    "s.isalnum()"
   ]
  },
  {
   "cell_type": "code",
   "execution_count": 29,
   "id": "594f6e57",
   "metadata": {},
   "outputs": [
    {
     "data": {
      "text/plain": [
       "True"
      ]
     },
     "execution_count": 29,
     "metadata": {},
     "output_type": "execute_result"
    }
   ],
   "source": [
    "s.startswith('Now')"
   ]
  },
  {
   "cell_type": "code",
   "execution_count": 30,
   "id": "db479b27",
   "metadata": {},
   "outputs": [
    {
     "data": {
      "text/plain": [
       "False"
      ]
     },
     "execution_count": 30,
     "metadata": {},
     "output_type": "execute_result"
    }
   ],
   "source": [
    "s.endswith('Now')"
   ]
  },
  {
   "cell_type": "code",
   "execution_count": null,
   "id": "e28b269c",
   "metadata": {},
   "outputs": [],
   "source": [
    "import math"
   ]
  },
  {
   "cell_type": "code",
   "execution_count": 32,
   "id": "d6d6f3f8",
   "metadata": {},
   "outputs": [
    {
     "name": "stdout",
     "output_type": "stream",
     "text": [
      "Insert coefficient a: 6\n",
      "Insert coefficient b: 11\n",
      "Insert coefficient c: -35\n",
      "The function has two distinct real roots: 60.0 and -126.0\n"
     ]
    }
   ],
   "source": [
    "#  10) Write a program that computes real roots of a quadratic function. Your program should begin by prompting the user for the values of a, b and c. Then it should display a message indicating the number of real roots, along with the values of real root(if any).\n",
    " \n",
    "#The term b2-4ac is known as the discriminant of a quadratic equation. The discriminant tells the nature of the roots.\n",
    "\n",
    "#If the discriminant is greater than 0, the roots are real and different.\n",
    "#If the discriminant is equal to 0, the roots are real and equal.\n",
    "#If the discriminant is less than 0, the roots are complex and different.\n",
    "\n",
    "a = float(input(\"Insert coefficient a: \"))\n",
    "b = float(input(\"Insert coefficient b: \"))\n",
    "c = float(input(\"Insert coefficient c: \"))\n",
    " \n",
    "discriminant = b**2 - 4 * a * c\n",
    " \n",
    "if discriminant >= 0:\n",
    "    x_1=(-b+math.sqrt(discriminant))/2*a\n",
    "    x_2=(-b-math.sqrt(discriminant))/2*a\n",
    "else:\n",
    "    x_1= complex((-b/(2*a)),math.sqrt(-discriminant)/(2*a))\n",
    "    x_2= complex((-b/(2*a)),-math.sqrt(-discriminant)/(2*a))\n",
    " \n",
    "\n",
    "if discriminant > 0:\n",
    "    print(\"The function has two distinct real roots: {} and {}\".format(x_1,x_2))\n",
    "elif discriminant == 0:\n",
    "    print(\"The function has one double root: \", x_1)\n",
    "else:\n",
    "    print(\"The function has two complex (conjugate) roots: {}  and {}\".format(x_1,x_2))"
   ]
  },
  {
   "cell_type": "code",
   "execution_count": null,
   "id": "53240b46",
   "metadata": {},
   "outputs": [],
   "source": []
  },
  {
   "cell_type": "code",
   "execution_count": null,
   "id": "915f2545",
   "metadata": {},
   "outputs": [],
   "source": []
  },
  {
   "cell_type": "code",
   "execution_count": null,
   "id": "6fd5c44f",
   "metadata": {},
   "outputs": [],
   "source": []
  },
  {
   "cell_type": "code",
   "execution_count": null,
   "id": "66cbc204",
   "metadata": {},
   "outputs": [],
   "source": []
  },
  {
   "cell_type": "code",
   "execution_count": null,
   "id": "147b628a",
   "metadata": {},
   "outputs": [],
   "source": []
  },
  {
   "cell_type": "code",
   "execution_count": 4,
   "id": "50ba27f7",
   "metadata": {
    "scrolled": true
   },
   "outputs": [
    {
     "data": {
      "text/plain": [
       "['__add__',\n",
       " '__class__',\n",
       " '__contains__',\n",
       " '__delattr__',\n",
       " '__dir__',\n",
       " '__doc__',\n",
       " '__eq__',\n",
       " '__format__',\n",
       " '__ge__',\n",
       " '__getattribute__',\n",
       " '__getitem__',\n",
       " '__getnewargs__',\n",
       " '__gt__',\n",
       " '__hash__',\n",
       " '__init__',\n",
       " '__init_subclass__',\n",
       " '__iter__',\n",
       " '__le__',\n",
       " '__len__',\n",
       " '__lt__',\n",
       " '__mod__',\n",
       " '__mul__',\n",
       " '__ne__',\n",
       " '__new__',\n",
       " '__reduce__',\n",
       " '__reduce_ex__',\n",
       " '__repr__',\n",
       " '__rmod__',\n",
       " '__rmul__',\n",
       " '__setattr__',\n",
       " '__sizeof__',\n",
       " '__str__',\n",
       " '__subclasshook__',\n",
       " 'capitalize',\n",
       " 'casefold',\n",
       " 'center',\n",
       " 'count',\n",
       " 'encode',\n",
       " 'endswith',\n",
       " 'expandtabs',\n",
       " 'find',\n",
       " 'format',\n",
       " 'format_map',\n",
       " 'index',\n",
       " 'isalnum',\n",
       " 'isalpha',\n",
       " 'isascii',\n",
       " 'isdecimal',\n",
       " 'isdigit',\n",
       " 'isidentifier',\n",
       " 'islower',\n",
       " 'isnumeric',\n",
       " 'isprintable',\n",
       " 'isspace',\n",
       " 'istitle',\n",
       " 'isupper',\n",
       " 'join',\n",
       " 'ljust',\n",
       " 'lower',\n",
       " 'lstrip',\n",
       " 'maketrans',\n",
       " 'partition',\n",
       " 'removeprefix',\n",
       " 'removesuffix',\n",
       " 'replace',\n",
       " 'rfind',\n",
       " 'rindex',\n",
       " 'rjust',\n",
       " 'rpartition',\n",
       " 'rsplit',\n",
       " 'rstrip',\n",
       " 'split',\n",
       " 'splitlines',\n",
       " 'startswith',\n",
       " 'strip',\n",
       " 'swapcase',\n",
       " 'title',\n",
       " 'translate',\n",
       " 'upper',\n",
       " 'zfill']"
      ]
     },
     "execution_count": 4,
     "metadata": {},
     "output_type": "execute_result"
    }
   ],
   "source": [
    "dir(str)"
   ]
  },
  {
   "cell_type": "markdown",
   "id": "3c405e5a",
   "metadata": {},
   "source": [
    "### capitalize()"
   ]
  },
  {
   "cell_type": "code",
   "execution_count": 5,
   "id": "ade2684b",
   "metadata": {},
   "outputs": [
    {
     "data": {
      "text/plain": [
       "'Suraj'"
      ]
     },
     "execution_count": 5,
     "metadata": {},
     "output_type": "execute_result"
    }
   ],
   "source": [
    "s=\"suraj\"\n",
    "s.capitalize()"
   ]
  },
  {
   "cell_type": "code",
   "execution_count": 6,
   "id": "ec96ad57",
   "metadata": {},
   "outputs": [
    {
     "data": {
      "text/plain": [
       "'I am suraj'"
      ]
     },
     "execution_count": 6,
     "metadata": {},
     "output_type": "execute_result"
    }
   ],
   "source": [
    "s=\"i am suraj\"\n",
    "s.capitalize()"
   ]
  },
  {
   "cell_type": "markdown",
   "id": "d8defc72",
   "metadata": {},
   "source": [
    "### casefold()"
   ]
  },
  {
   "cell_type": "code",
   "execution_count": 7,
   "id": "d497ac32",
   "metadata": {},
   "outputs": [
    {
     "data": {
      "text/plain": [
       "'suraj'"
      ]
     },
     "execution_count": 7,
     "metadata": {},
     "output_type": "execute_result"
    }
   ],
   "source": [
    "s=\"SURAJ\"\n",
    "s.casefold()"
   ]
  },
  {
   "cell_type": "code",
   "execution_count": 8,
   "id": "bab67ffb",
   "metadata": {},
   "outputs": [
    {
     "data": {
      "text/plain": [
       "'my name is suraj'"
      ]
     },
     "execution_count": 8,
     "metadata": {},
     "output_type": "execute_result"
    }
   ],
   "source": [
    "s=\"My Name Is Suraj\"\n",
    "s.casefold()"
   ]
  },
  {
   "cell_type": "markdown",
   "id": "b2a8a6a7",
   "metadata": {},
   "source": [
    "### center()"
   ]
  },
  {
   "cell_type": "code",
   "execution_count": 10,
   "id": "357d3c85",
   "metadata": {},
   "outputs": [
    {
     "name": "stdout",
     "output_type": "stream",
     "text": [
      "suraj\n"
     ]
    }
   ],
   "source": [
    "s=\"suraj\"\n",
    "s1=s.center(5)\n",
    "print(s1)"
   ]
  },
  {
   "cell_type": "code",
   "execution_count": 15,
   "id": "e51afa5f",
   "metadata": {},
   "outputs": [
    {
     "data": {
      "text/plain": [
       "'00My Name Is Suraj00'"
      ]
     },
     "execution_count": 15,
     "metadata": {},
     "output_type": "execute_result"
    }
   ],
   "source": [
    "s=\"My Name Is Suraj\"\n",
    "s1=s.center(20, '0')\n",
    "s1"
   ]
  },
  {
   "cell_type": "code",
   "execution_count": 14,
   "id": "ab2276fb",
   "metadata": {},
   "outputs": [
    {
     "data": {
      "text/plain": [
       "16"
      ]
     },
     "execution_count": 14,
     "metadata": {},
     "output_type": "execute_result"
    }
   ],
   "source": [
    "len(s)"
   ]
  },
  {
   "cell_type": "markdown",
   "id": "54e8cf45",
   "metadata": {},
   "source": [
    "### count()"
   ]
  },
  {
   "cell_type": "code",
   "execution_count": 73,
   "id": "ef72c4d1",
   "metadata": {},
   "outputs": [
    {
     "data": {
      "text/plain": [
       "2"
      ]
     },
     "execution_count": 73,
     "metadata": {},
     "output_type": "execute_result"
    }
   ],
   "source": [
    "s=\"My Name Is Suraj\"\n",
    "s.count('a')"
   ]
  },
  {
   "cell_type": "markdown",
   "id": "67e49b38",
   "metadata": {},
   "source": [
    "### encode()"
   ]
  },
  {
   "cell_type": "code",
   "execution_count": 16,
   "id": "c6065a42",
   "metadata": {},
   "outputs": [
    {
     "data": {
      "text/plain": [
       "b'1234Ab'"
      ]
     },
     "execution_count": 16,
     "metadata": {},
     "output_type": "execute_result"
    }
   ],
   "source": [
    "s=\"1234Ab\"\n",
    "s.encode()"
   ]
  },
  {
   "cell_type": "markdown",
   "id": "82b25710",
   "metadata": {},
   "source": [
    "### endswith()"
   ]
  },
  {
   "cell_type": "code",
   "execution_count": 17,
   "id": "eb39a4a1",
   "metadata": {
    "scrolled": true
   },
   "outputs": [
    {
     "data": {
      "text/plain": [
       "True"
      ]
     },
     "execution_count": 17,
     "metadata": {},
     "output_type": "execute_result"
    }
   ],
   "source": [
    "s='the time is now'\n",
    "s.endswith('now')"
   ]
  },
  {
   "cell_type": "code",
   "execution_count": 18,
   "id": "9845af44",
   "metadata": {},
   "outputs": [
    {
     "data": {
      "text/plain": [
       "False"
      ]
     },
     "execution_count": 18,
     "metadata": {},
     "output_type": "execute_result"
    }
   ],
   "source": [
    "s.endswith('is')"
   ]
  },
  {
   "cell_type": "markdown",
   "id": "520db08a",
   "metadata": {},
   "source": [
    "### startswith()"
   ]
  },
  {
   "cell_type": "code",
   "execution_count": 19,
   "id": "535766f9",
   "metadata": {},
   "outputs": [
    {
     "data": {
      "text/plain": [
       "True"
      ]
     },
     "execution_count": 19,
     "metadata": {},
     "output_type": "execute_result"
    }
   ],
   "source": [
    "s='the time is now'\n",
    "s.startswith('the')"
   ]
  },
  {
   "cell_type": "code",
   "execution_count": 20,
   "id": "bbc11cb0",
   "metadata": {},
   "outputs": [
    {
     "data": {
      "text/plain": [
       "False"
      ]
     },
     "execution_count": 20,
     "metadata": {},
     "output_type": "execute_result"
    }
   ],
   "source": [
    "s.startswith('time')"
   ]
  },
  {
   "cell_type": "markdown",
   "id": "61066996",
   "metadata": {},
   "source": [
    "### expandtabs()"
   ]
  },
  {
   "cell_type": "code",
   "execution_count": 27,
   "id": "3e21a5d1",
   "metadata": {},
   "outputs": [
    {
     "name": "stdout",
     "output_type": "stream",
     "text": [
      "S\tU\tR\tA\tJ\n",
      "S       U       R       A       J\n",
      "SURAJ\n",
      "S U R A J\n",
      "S   U   R   A   J\n",
      "S         U         R         A         J\n"
     ]
    }
   ],
   "source": [
    "txt = \"S\\tU\\tR\\tA\\tJ\"\n",
    "print(txt)\n",
    "print(txt.expandtabs())\n",
    "print(txt.expandtabs(-1))\n",
    "print(txt.expandtabs(2))\n",
    "print(txt.expandtabs(4))\n",
    "print(txt.expandtabs(10))"
   ]
  },
  {
   "cell_type": "markdown",
   "id": "7c85581a",
   "metadata": {},
   "source": [
    "### find()"
   ]
  },
  {
   "cell_type": "code",
   "execution_count": 28,
   "id": "ac709556",
   "metadata": {},
   "outputs": [
    {
     "data": {
      "text/plain": [
       "3"
      ]
     },
     "execution_count": 28,
     "metadata": {},
     "output_type": "execute_result"
    }
   ],
   "source": [
    "s='suraj is a good man and he is hard working human'\n",
    "s.find('a')"
   ]
  },
  {
   "cell_type": "code",
   "execution_count": 29,
   "id": "da32b458",
   "metadata": {},
   "outputs": [
    {
     "data": {
      "text/plain": [
       "4"
      ]
     },
     "execution_count": 29,
     "metadata": {},
     "output_type": "execute_result"
    }
   ],
   "source": [
    "s[5:-1].find('a')"
   ]
  },
  {
   "cell_type": "code",
   "execution_count": 30,
   "id": "dc444671",
   "metadata": {},
   "outputs": [
    {
     "data": {
      "text/plain": [
       "6"
      ]
     },
     "execution_count": 30,
     "metadata": {},
     "output_type": "execute_result"
    }
   ],
   "source": [
    "s.find('is')"
   ]
  },
  {
   "cell_type": "code",
   "execution_count": 32,
   "id": "ad40b976",
   "metadata": {},
   "outputs": [
    {
     "data": {
      "text/plain": [
       "17"
      ]
     },
     "execution_count": 32,
     "metadata": {},
     "output_type": "execute_result"
    }
   ],
   "source": [
    "s[10:-1].find('is')"
   ]
  },
  {
   "cell_type": "markdown",
   "id": "4c34d201",
   "metadata": {},
   "source": [
    "### rfind()"
   ]
  },
  {
   "cell_type": "code",
   "execution_count": null,
   "id": "bccb4273",
   "metadata": {},
   "outputs": [],
   "source": [
    "#Syntax string.rfind(value, start, end)"
   ]
  },
  {
   "cell_type": "code",
   "execution_count": 35,
   "id": "e1f20ad1",
   "metadata": {},
   "outputs": [
    {
     "data": {
      "text/plain": [
       "35"
      ]
     },
     "execution_count": 35,
     "metadata": {},
     "output_type": "execute_result"
    }
   ],
   "source": [
    "s='suraj is a good man and he is hard working human'\n",
    "s.rfind('working')"
   ]
  },
  {
   "cell_type": "code",
   "execution_count": 36,
   "id": "4b32000b",
   "metadata": {},
   "outputs": [
    {
     "data": {
      "text/plain": [
       "27"
      ]
     },
     "execution_count": 36,
     "metadata": {},
     "output_type": "execute_result"
    }
   ],
   "source": [
    "s='suraj is a good man and he is hard working human'\n",
    "s.rfind('is', 10, -1)"
   ]
  },
  {
   "cell_type": "markdown",
   "id": "4a6a1bf1",
   "metadata": {},
   "source": [
    "### format()"
   ]
  },
  {
   "cell_type": "code",
   "execution_count": 38,
   "id": "edeb8206",
   "metadata": {},
   "outputs": [
    {
     "name": "stdout",
     "output_type": "stream",
     "text": [
      "Enter his/her age : 20\n",
      "the age of the user   and he is adult 20\n"
     ]
    }
   ],
   "source": [
    "x=int(input(\"Enter his/her age : \"))\n",
    "print(\"the age of the user   and he is adult\", x)"
   ]
  },
  {
   "cell_type": "code",
   "execution_count": 39,
   "id": "5e395bce",
   "metadata": {},
   "outputs": [
    {
     "name": "stdout",
     "output_type": "stream",
     "text": [
      "Enter his/her age : 20\n",
      "the age of the user 20  and he is adult\n"
     ]
    }
   ],
   "source": [
    "x=int(input(\"Enter his/her age : \"))\n",
    "print(\"the age of the user {}  and he is adult\".format(x))"
   ]
  },
  {
   "cell_type": "code",
   "execution_count": 40,
   "id": "52ceffb8",
   "metadata": {},
   "outputs": [
    {
     "name": "stdout",
     "output_type": "stream",
     "text": [
      "my name is suraj and i am 26 years old\n"
     ]
    }
   ],
   "source": [
    "print(\"my name is {} and i am {} years old\".format('suraj',26))"
   ]
  },
  {
   "cell_type": "code",
   "execution_count": 41,
   "id": "3610f7a2",
   "metadata": {},
   "outputs": [
    {
     "name": "stdout",
     "output_type": "stream",
     "text": [
      "my name is suraj and i am 26 years old\n"
     ]
    }
   ],
   "source": [
    "print(\"my name is {0} and i am {1} years old\".format('suraj',26))"
   ]
  },
  {
   "cell_type": "code",
   "execution_count": 42,
   "id": "062c0b41",
   "metadata": {},
   "outputs": [
    {
     "name": "stdout",
     "output_type": "stream",
     "text": [
      "my name is 26 and i am suraj years old\n"
     ]
    }
   ],
   "source": [
    "print(\"my name is {1} and i am {0} years old\".format('suraj',26))"
   ]
  },
  {
   "cell_type": "markdown",
   "id": "4f1e527f",
   "metadata": {},
   "source": [
    "### format_map()"
   ]
  },
  {
   "cell_type": "code",
   "execution_count": 43,
   "id": "6743f99a",
   "metadata": {},
   "outputs": [
    {
     "name": "stdout",
     "output_type": "stream",
     "text": [
      "John's last name is Wick\n"
     ]
    }
   ],
   "source": [
    "a = {'x':'John', 'y':'Wick'}\n",
    "print(\"{x}'s last name is {y}\".format_map(a))"
   ]
  },
  {
   "cell_type": "code",
   "execution_count": 44,
   "id": "1949cc05",
   "metadata": {},
   "outputs": [
    {
     "name": "stdout",
     "output_type": "stream",
     "text": [
      "geeksforgeeks good\n"
     ]
    }
   ],
   "source": [
    "a = {'x':\"geeksforgeeks\", 'y':'good'}\n",
    "print('{x} {y}'.format_map(a))"
   ]
  },
  {
   "cell_type": "code",
   "execution_count": 46,
   "id": "64d6a5a4",
   "metadata": {},
   "outputs": [
    {
     "name": "stdout",
     "output_type": "stream",
     "text": [
      "Suraj is an Engineer and he is 26 years old.\n",
      "Sushmita is an Doctor and she is 24 years old.\n"
     ]
    }
   ],
   "source": [
    "profession = { 'name':['Suraj', 'Sushmita'],\n",
    "               'profession':['Engineer', 'Doctor'],\n",
    "               'age':[26, 24] }\n",
    "                       \n",
    "print('{name[0]} is an {profession[0]} and he'\n",
    "      ' is {age[0]} years old.'.format_map(profession))\n",
    "        \n",
    "print('{name[1]} is an {profession[1]} and she'\n",
    "      ' is {age[1]} years old.'.format_map(profession))"
   ]
  },
  {
   "cell_type": "markdown",
   "id": "6202ec15",
   "metadata": {},
   "source": [
    "### index()"
   ]
  },
  {
   "cell_type": "code",
   "execution_count": 48,
   "id": "9a140652",
   "metadata": {},
   "outputs": [
    {
     "data": {
      "text/plain": [
       "4"
      ]
     },
     "execution_count": 48,
     "metadata": {},
     "output_type": "execute_result"
    }
   ],
   "source": [
    "s='suraj'\n",
    "s.index('j')"
   ]
  },
  {
   "cell_type": "code",
   "execution_count": 49,
   "id": "4dd18a23",
   "metadata": {},
   "outputs": [
    {
     "data": {
      "text/plain": [
       "6"
      ]
     },
     "execution_count": 49,
     "metadata": {},
     "output_type": "execute_result"
    }
   ],
   "source": [
    "s='suraj is a good man and he is hard working human'\n",
    "s.index('is')"
   ]
  },
  {
   "cell_type": "markdown",
   "id": "a16be794",
   "metadata": {},
   "source": [
    "### rindex()"
   ]
  },
  {
   "cell_type": "code",
   "execution_count": 51,
   "id": "ba87538e",
   "metadata": {},
   "outputs": [
    {
     "data": {
      "text/plain": [
       "27"
      ]
     },
     "execution_count": 51,
     "metadata": {},
     "output_type": "execute_result"
    }
   ],
   "source": [
    "s='suraj is a good man and he is hard working human'\n",
    "s.rindex('is')"
   ]
  },
  {
   "cell_type": "code",
   "execution_count": 194,
   "id": "63e5d3cd",
   "metadata": {},
   "outputs": [
    {
     "data": {
      "text/plain": [
       "6"
      ]
     },
     "execution_count": 194,
     "metadata": {},
     "output_type": "execute_result"
    }
   ],
   "source": [
    "s='suraj is a good man and he is hard working human'\n",
    "s[:10].rindex('is')"
   ]
  },
  {
   "cell_type": "markdown",
   "id": "abceb4ab",
   "metadata": {},
   "source": [
    "### isalpha()"
   ]
  },
  {
   "cell_type": "code",
   "execution_count": 52,
   "id": "e3a9d440",
   "metadata": {},
   "outputs": [
    {
     "data": {
      "text/plain": [
       "True"
      ]
     },
     "execution_count": 52,
     "metadata": {},
     "output_type": "execute_result"
    }
   ],
   "source": [
    "s='suraj'\n",
    "s.isalpha()"
   ]
  },
  {
   "cell_type": "code",
   "execution_count": 53,
   "id": "7e12a98e",
   "metadata": {},
   "outputs": [
    {
     "data": {
      "text/plain": [
       "False"
      ]
     },
     "execution_count": 53,
     "metadata": {},
     "output_type": "execute_result"
    }
   ],
   "source": [
    "s='123as'\n",
    "s.isalpha()"
   ]
  },
  {
   "cell_type": "code",
   "execution_count": 54,
   "id": "147287b2",
   "metadata": {},
   "outputs": [
    {
     "data": {
      "text/plain": [
       "False"
      ]
     },
     "execution_count": 54,
     "metadata": {},
     "output_type": "execute_result"
    }
   ],
   "source": [
    "s=\"good man\"\n",
    "s.isalpha()"
   ]
  },
  {
   "cell_type": "markdown",
   "id": "2e2f594a",
   "metadata": {},
   "source": [
    "### isdigit()"
   ]
  },
  {
   "cell_type": "code",
   "execution_count": 59,
   "id": "149d6202",
   "metadata": {},
   "outputs": [
    {
     "data": {
      "text/plain": [
       "False"
      ]
     },
     "execution_count": 59,
     "metadata": {},
     "output_type": "execute_result"
    }
   ],
   "source": [
    "s= \"Now 233\"\n",
    "s.isdigit()"
   ]
  },
  {
   "cell_type": "code",
   "execution_count": 60,
   "id": "b45c0147",
   "metadata": {},
   "outputs": [
    {
     "data": {
      "text/plain": [
       "False"
      ]
     },
     "execution_count": 60,
     "metadata": {},
     "output_type": "execute_result"
    }
   ],
   "source": [
    "s='123 456'\n",
    "s.isdigit()"
   ]
  },
  {
   "cell_type": "code",
   "execution_count": 56,
   "id": "13d61a6d",
   "metadata": {},
   "outputs": [
    {
     "data": {
      "text/plain": [
       "False"
      ]
     },
     "execution_count": 56,
     "metadata": {},
     "output_type": "execute_result"
    }
   ],
   "source": [
    "s='12356fg'\n",
    "s.isdigit()"
   ]
  },
  {
   "cell_type": "code",
   "execution_count": 57,
   "id": "e95b3416",
   "metadata": {},
   "outputs": [
    {
     "data": {
      "text/plain": [
       "True"
      ]
     },
     "execution_count": 57,
     "metadata": {},
     "output_type": "execute_result"
    }
   ],
   "source": [
    "s='123'\n",
    "s.isdigit()"
   ]
  },
  {
   "cell_type": "markdown",
   "id": "31194a25",
   "metadata": {},
   "source": [
    "### isalnum()"
   ]
  },
  {
   "cell_type": "code",
   "execution_count": 61,
   "id": "90004262",
   "metadata": {},
   "outputs": [
    {
     "data": {
      "text/plain": [
       "True"
      ]
     },
     "execution_count": 61,
     "metadata": {},
     "output_type": "execute_result"
    }
   ],
   "source": [
    "s='123as'\n",
    "s.isalnum()"
   ]
  },
  {
   "cell_type": "code",
   "execution_count": 62,
   "id": "674e388b",
   "metadata": {},
   "outputs": [
    {
     "data": {
      "text/plain": [
       "True"
      ]
     },
     "execution_count": 62,
     "metadata": {},
     "output_type": "execute_result"
    }
   ],
   "source": [
    "s='123'\n",
    "s.isalnum()"
   ]
  },
  {
   "cell_type": "code",
   "execution_count": 63,
   "id": "0e4fde50",
   "metadata": {},
   "outputs": [
    {
     "data": {
      "text/plain": [
       "False"
      ]
     },
     "execution_count": 63,
     "metadata": {},
     "output_type": "execute_result"
    }
   ],
   "source": [
    "s='234 hfg'\n",
    "s.isalnum()"
   ]
  },
  {
   "cell_type": "markdown",
   "id": "4527d4fd",
   "metadata": {},
   "source": [
    "### isdecimal()"
   ]
  },
  {
   "cell_type": "code",
   "execution_count": 64,
   "id": "308368d0",
   "metadata": {},
   "outputs": [
    {
     "data": {
      "text/plain": [
       "False"
      ]
     },
     "execution_count": 64,
     "metadata": {},
     "output_type": "execute_result"
    }
   ],
   "source": [
    "s='1 5'\n",
    "s.isdecimal()"
   ]
  },
  {
   "cell_type": "code",
   "execution_count": 66,
   "id": "8ba1ef8d",
   "metadata": {},
   "outputs": [
    {
     "data": {
      "text/plain": [
       "False"
      ]
     },
     "execution_count": 66,
     "metadata": {},
     "output_type": "execute_result"
    }
   ],
   "source": [
    "s='122.3'\n",
    "s.isdecimal()"
   ]
  },
  {
   "cell_type": "code",
   "execution_count": 65,
   "id": "27028c8b",
   "metadata": {},
   "outputs": [
    {
     "data": {
      "text/plain": [
       "True"
      ]
     },
     "execution_count": 65,
     "metadata": {},
     "output_type": "execute_result"
    }
   ],
   "source": [
    "s='18237'\n",
    "s.isdecimal()"
   ]
  },
  {
   "cell_type": "markdown",
   "id": "69bc2944",
   "metadata": {},
   "source": [
    "### isnumeric()"
   ]
  },
  {
   "cell_type": "code",
   "execution_count": 69,
   "id": "aae6686d",
   "metadata": {},
   "outputs": [
    {
     "data": {
      "text/plain": [
       "True"
      ]
     },
     "execution_count": 69,
     "metadata": {},
     "output_type": "execute_result"
    }
   ],
   "source": [
    "s='234'\n",
    "s.isnumeric()"
   ]
  },
  {
   "cell_type": "code",
   "execution_count": 114,
   "id": "715d5849",
   "metadata": {},
   "outputs": [
    {
     "data": {
      "text/plain": [
       "False"
      ]
     },
     "execution_count": 114,
     "metadata": {},
     "output_type": "execute_result"
    }
   ],
   "source": [
    "s= \"this2009\";  \n",
    "s.isnumeric()"
   ]
  },
  {
   "cell_type": "code",
   "execution_count": 70,
   "id": "c5289591",
   "metadata": {},
   "outputs": [
    {
     "data": {
      "text/plain": [
       "False"
      ]
     },
     "execution_count": 70,
     "metadata": {},
     "output_type": "execute_result"
    }
   ],
   "source": [
    "s = \"2344 3434\";\n",
    "s.isnumeric()"
   ]
  },
  {
   "cell_type": "markdown",
   "id": "beb5c57a",
   "metadata": {},
   "source": [
    "### isascii()"
   ]
  },
  {
   "cell_type": "code",
   "execution_count": 71,
   "id": "01a3ac43",
   "metadata": {},
   "outputs": [
    {
     "data": {
      "text/plain": [
       "True"
      ]
     },
     "execution_count": 71,
     "metadata": {},
     "output_type": "execute_result"
    }
   ],
   "source": [
    "s='a'\n",
    "s.isascii()"
   ]
  },
  {
   "cell_type": "code",
   "execution_count": 72,
   "id": "547b6aa4",
   "metadata": {},
   "outputs": [
    {
     "data": {
      "text/plain": [
       "False"
      ]
     },
     "execution_count": 72,
     "metadata": {},
     "output_type": "execute_result"
    }
   ],
   "source": [
    "s= 'ß'\n",
    "s.isascii()"
   ]
  },
  {
   "cell_type": "code",
   "execution_count": 74,
   "id": "c55d8bcd",
   "metadata": {},
   "outputs": [
    {
     "data": {
      "text/plain": [
       "True"
      ]
     },
     "execution_count": 74,
     "metadata": {},
     "output_type": "execute_result"
    }
   ],
   "source": [
    "s='@#$'\n",
    "s.isascii()"
   ]
  },
  {
   "cell_type": "markdown",
   "id": "33d854f9",
   "metadata": {},
   "source": [
    "### isidentifier()"
   ]
  },
  {
   "cell_type": "code",
   "execution_count": null,
   "id": "bd5f8bee",
   "metadata": {},
   "outputs": [],
   "source": [
    "a=34\n",
    "a_b=10\n",
    "ab_=10"
   ]
  },
  {
   "cell_type": "code",
   "execution_count": 75,
   "id": "8f7169aa",
   "metadata": {},
   "outputs": [
    {
     "data": {
      "text/plain": [
       "True"
      ]
     },
     "execution_count": 75,
     "metadata": {},
     "output_type": "execute_result"
    }
   ],
   "source": [
    "s='a'\n",
    "s.isidentifier()"
   ]
  },
  {
   "cell_type": "code",
   "execution_count": 77,
   "id": "8f3f9666",
   "metadata": {},
   "outputs": [
    {
     "data": {
      "text/plain": [
       "True"
      ]
     },
     "execution_count": 77,
     "metadata": {},
     "output_type": "execute_result"
    }
   ],
   "source": [
    "s='a_b'\n",
    "s.isidentifier()"
   ]
  },
  {
   "cell_type": "code",
   "execution_count": 78,
   "id": "c8cff455",
   "metadata": {},
   "outputs": [
    {
     "data": {
      "text/plain": [
       "True"
      ]
     },
     "execution_count": 78,
     "metadata": {},
     "output_type": "execute_result"
    }
   ],
   "source": [
    "s='ab_'\n",
    "s.isidentifier()"
   ]
  },
  {
   "cell_type": "code",
   "execution_count": 79,
   "id": "2f0438f1",
   "metadata": {},
   "outputs": [
    {
     "data": {
      "text/plain": [
       "False"
      ]
     },
     "execution_count": 79,
     "metadata": {},
     "output_type": "execute_result"
    }
   ],
   "source": [
    "s='ab&c'\n",
    "s.isidentifier()"
   ]
  },
  {
   "cell_type": "code",
   "execution_count": 80,
   "id": "f0ddb694",
   "metadata": {},
   "outputs": [
    {
     "data": {
      "text/plain": [
       "False"
      ]
     },
     "execution_count": 80,
     "metadata": {},
     "output_type": "execute_result"
    }
   ],
   "source": [
    "s='6abc'\n",
    "s.isidentifier()"
   ]
  },
  {
   "cell_type": "code",
   "execution_count": 81,
   "id": "959d0182",
   "metadata": {},
   "outputs": [
    {
     "data": {
      "text/plain": [
       "True"
      ]
     },
     "execution_count": 81,
     "metadata": {},
     "output_type": "execute_result"
    }
   ],
   "source": [
    "s='_abc'\n",
    "s.isidentifier()"
   ]
  },
  {
   "cell_type": "markdown",
   "id": "922caf4e",
   "metadata": {},
   "source": [
    "### isspace()"
   ]
  },
  {
   "cell_type": "code",
   "execution_count": 82,
   "id": "003fc4e1",
   "metadata": {},
   "outputs": [
    {
     "data": {
      "text/plain": [
       "False"
      ]
     },
     "execution_count": 82,
     "metadata": {},
     "output_type": "execute_result"
    }
   ],
   "source": [
    "s='suraj'\n",
    "s.isspace()"
   ]
  },
  {
   "cell_type": "code",
   "execution_count": 83,
   "id": "f0e6fa9c",
   "metadata": {},
   "outputs": [
    {
     "data": {
      "text/plain": [
       "True"
      ]
     },
     "execution_count": 83,
     "metadata": {},
     "output_type": "execute_result"
    }
   ],
   "source": [
    "s=' '\n",
    "s.isspace()"
   ]
  },
  {
   "cell_type": "code",
   "execution_count": 84,
   "id": "bb1a2086",
   "metadata": {},
   "outputs": [
    {
     "data": {
      "text/plain": [
       "False"
      ]
     },
     "execution_count": 84,
     "metadata": {},
     "output_type": "execute_result"
    }
   ],
   "source": [
    "s='suraj hello'\n",
    "s.isspace()"
   ]
  },
  {
   "cell_type": "markdown",
   "id": "0f352d59",
   "metadata": {},
   "source": [
    "### isprintable()"
   ]
  },
  {
   "cell_type": "code",
   "execution_count": 85,
   "id": "a04337f0",
   "metadata": {},
   "outputs": [
    {
     "data": {
      "text/plain": [
       "True"
      ]
     },
     "execution_count": 85,
     "metadata": {},
     "output_type": "execute_result"
    }
   ],
   "source": [
    "s = \"Hell0\"\n",
    "s.isprintable()"
   ]
  },
  {
   "cell_type": "code",
   "execution_count": 86,
   "id": "ad2b5485",
   "metadata": {},
   "outputs": [
    {
     "data": {
      "text/plain": [
       "True"
      ]
     },
     "execution_count": 86,
     "metadata": {},
     "output_type": "execute_result"
    }
   ],
   "source": [
    "s= \"!@#$%^&*(\"\n",
    "s.isprintable()"
   ]
  },
  {
   "cell_type": "code",
   "execution_count": 87,
   "id": "2e2e3c9a",
   "metadata": {},
   "outputs": [
    {
     "data": {
      "text/plain": [
       "True"
      ]
     },
     "execution_count": 87,
     "metadata": {},
     "output_type": "execute_result"
    }
   ],
   "source": [
    "s = \"Hello Boy \"\n",
    "s.isprintable()"
   ]
  },
  {
   "cell_type": "code",
   "execution_count": 88,
   "id": "80d5d46f",
   "metadata": {},
   "outputs": [
    {
     "data": {
      "text/plain": [
       "False"
      ]
     },
     "execution_count": 88,
     "metadata": {},
     "output_type": "execute_result"
    }
   ],
   "source": [
    "s=\"Yes \\n No\"\n",
    "s.isprintable()"
   ]
  },
  {
   "cell_type": "code",
   "execution_count": 92,
   "id": "4b6d8e70",
   "metadata": {},
   "outputs": [
    {
     "data": {
      "text/plain": [
       "False"
      ]
     },
     "execution_count": 92,
     "metadata": {},
     "output_type": "execute_result"
    }
   ],
   "source": [
    "s='''Yes \\n No'''\n",
    "s.isprintable()"
   ]
  },
  {
   "cell_type": "code",
   "execution_count": 93,
   "id": "3ddded9f",
   "metadata": {},
   "outputs": [
    {
     "data": {
      "text/plain": [
       "True"
      ]
     },
     "execution_count": 93,
     "metadata": {},
     "output_type": "execute_result"
    }
   ],
   "source": [
    "s= \"1234 !@#@!%^ abcd\"\n",
    "s.isprintable()"
   ]
  },
  {
   "cell_type": "markdown",
   "id": "ae09f1ee",
   "metadata": {},
   "source": [
    "### islower()"
   ]
  },
  {
   "cell_type": "code",
   "execution_count": 2,
   "id": "779daf5b",
   "metadata": {},
   "outputs": [
    {
     "data": {
      "text/plain": [
       "False"
      ]
     },
     "execution_count": 2,
     "metadata": {},
     "output_type": "execute_result"
    }
   ],
   "source": [
    "s='Suraj'\n",
    "s.islower()"
   ]
  },
  {
   "cell_type": "code",
   "execution_count": 1,
   "id": "b3d91b0e",
   "metadata": {},
   "outputs": [
    {
     "data": {
      "text/plain": [
       "True"
      ]
     },
     "execution_count": 1,
     "metadata": {},
     "output_type": "execute_result"
    }
   ],
   "source": [
    "s='suraj is wise man'\n",
    "s.islower()"
   ]
  },
  {
   "cell_type": "code",
   "execution_count": 137,
   "id": "c8d1addf",
   "metadata": {},
   "outputs": [
    {
     "data": {
      "text/plain": [
       "False"
      ]
     },
     "execution_count": 137,
     "metadata": {},
     "output_type": "execute_result"
    }
   ],
   "source": [
    "s='Suraj is a wise man'\n",
    "s.islower()"
   ]
  },
  {
   "cell_type": "markdown",
   "id": "573b828e",
   "metadata": {},
   "source": [
    "### lower()"
   ]
  },
  {
   "cell_type": "code",
   "execution_count": 3,
   "id": "d1032c34",
   "metadata": {},
   "outputs": [
    {
     "data": {
      "text/plain": [
       "'suraj is good'"
      ]
     },
     "execution_count": 3,
     "metadata": {},
     "output_type": "execute_result"
    }
   ],
   "source": [
    "s='Suraj IS Good'\n",
    "s.lower()"
   ]
  },
  {
   "cell_type": "markdown",
   "id": "fcaa0010",
   "metadata": {},
   "source": [
    "### isupper()"
   ]
  },
  {
   "cell_type": "code",
   "execution_count": 4,
   "id": "f41a174a",
   "metadata": {},
   "outputs": [
    {
     "data": {
      "text/plain": [
       "False"
      ]
     },
     "execution_count": 4,
     "metadata": {},
     "output_type": "execute_result"
    }
   ],
   "source": [
    "s='Suraj is a wise man'\n",
    "s.isupper()"
   ]
  },
  {
   "cell_type": "code",
   "execution_count": 5,
   "id": "cbfa8ee6",
   "metadata": {},
   "outputs": [
    {
     "data": {
      "text/plain": [
       "True"
      ]
     },
     "execution_count": 5,
     "metadata": {},
     "output_type": "execute_result"
    }
   ],
   "source": [
    "s='SURAJ IS A WISE MAN'\n",
    "s.isupper()"
   ]
  },
  {
   "cell_type": "markdown",
   "id": "62d5d7ac",
   "metadata": {},
   "source": [
    "### upper()"
   ]
  },
  {
   "cell_type": "code",
   "execution_count": 6,
   "id": "851fb6c6",
   "metadata": {},
   "outputs": [
    {
     "data": {
      "text/plain": [
       "'SURAJ IS A WISE MAN'"
      ]
     },
     "execution_count": 6,
     "metadata": {},
     "output_type": "execute_result"
    }
   ],
   "source": [
    "s='Suraj is a wise man'\n",
    "s.upper()"
   ]
  },
  {
   "cell_type": "markdown",
   "id": "3252f38d",
   "metadata": {},
   "source": [
    "### swapcase()"
   ]
  },
  {
   "cell_type": "code",
   "execution_count": 7,
   "id": "82ffd673",
   "metadata": {},
   "outputs": [
    {
     "data": {
      "text/plain": [
       "'sURAJ iS A wISE mAN'"
      ]
     },
     "execution_count": 7,
     "metadata": {},
     "output_type": "execute_result"
    }
   ],
   "source": [
    "s='Suraj Is a Wise Man'\n",
    "s.swapcase()"
   ]
  },
  {
   "cell_type": "markdown",
   "id": "711db310",
   "metadata": {},
   "source": [
    "### istitle()"
   ]
  },
  {
   "cell_type": "code",
   "execution_count": 8,
   "id": "cb0ecb4f",
   "metadata": {},
   "outputs": [
    {
     "data": {
      "text/plain": [
       "False"
      ]
     },
     "execution_count": 8,
     "metadata": {},
     "output_type": "execute_result"
    }
   ],
   "source": [
    "s='my name is suraj'\n",
    "s.istitle()"
   ]
  },
  {
   "cell_type": "code",
   "execution_count": 9,
   "id": "9c58f66b",
   "metadata": {},
   "outputs": [
    {
     "data": {
      "text/plain": [
       "True"
      ]
     },
     "execution_count": 9,
     "metadata": {},
     "output_type": "execute_result"
    }
   ],
   "source": [
    "s='My Name Is Suraj'\n",
    "s.istitle()"
   ]
  },
  {
   "cell_type": "markdown",
   "id": "5fda7b18",
   "metadata": {},
   "source": [
    "### title()"
   ]
  },
  {
   "cell_type": "code",
   "execution_count": 10,
   "id": "8f2c608e",
   "metadata": {},
   "outputs": [
    {
     "data": {
      "text/plain": [
       "'My Name Is Suraj'"
      ]
     },
     "execution_count": 10,
     "metadata": {},
     "output_type": "execute_result"
    }
   ],
   "source": [
    "s='my name is suraj'\n",
    "s.title()"
   ]
  },
  {
   "cell_type": "markdown",
   "id": "f8b06ee9",
   "metadata": {},
   "source": [
    "### join()"
   ]
  },
  {
   "cell_type": "code",
   "execution_count": 15,
   "id": "2fcf4cb0",
   "metadata": {},
   "outputs": [
    {
     "name": "stdout",
     "output_type": "stream",
     "text": [
      "i am suraj\n"
     ]
    }
   ],
   "source": [
    "t = (\"i\", \"am\", \"suraj\")\n",
    "\n",
    "x = \" \".join(t)\n",
    "\n",
    "print(x)"
   ]
  },
  {
   "cell_type": "code",
   "execution_count": 16,
   "id": "3c9a0c8a",
   "metadata": {},
   "outputs": [
    {
     "name": "stdout",
     "output_type": "stream",
     "text": [
      "i   a m   s u r a j\n"
     ]
    }
   ],
   "source": [
    "s='i am suraj'\n",
    "t=\" \".join(s)\n",
    "print(t)"
   ]
  },
  {
   "cell_type": "code",
   "execution_count": 19,
   "id": "a1fab372",
   "metadata": {},
   "outputs": [
    {
     "name": "stdout",
     "output_type": "stream",
     "text": [
      "nameTESTcountry\n"
     ]
    }
   ],
   "source": [
    "s = {\"name\": \"John\", \"country\": \"Norway\"}\n",
    "t = \"TEST\"\n",
    "\n",
    "x = t.join(s)\n",
    "\n",
    "print(x)"
   ]
  },
  {
   "cell_type": "markdown",
   "id": "f91de4d0",
   "metadata": {},
   "source": [
    "### zfll()"
   ]
  },
  {
   "cell_type": "code",
   "execution_count": 23,
   "id": "126e1c4c",
   "metadata": {},
   "outputs": [
    {
     "name": "stdout",
     "output_type": "stream",
     "text": [
      "Original string: Python programming\n",
      "New string: 0000000Python programming\n",
      "New string: 00Python programming\n"
     ]
    }
   ],
   "source": [
    "txt = 'Python programming'\n",
    "print('Original string:', txt)\n",
    "\n",
    "print('New string:', txt.zfill(25))\n",
    "print('New string:', txt.zfill(20))"
   ]
  },
  {
   "cell_type": "code",
   "execution_count": 21,
   "id": "780168b1",
   "metadata": {},
   "outputs": [
    {
     "data": {
      "text/plain": [
       "18"
      ]
     },
     "execution_count": 21,
     "metadata": {},
     "output_type": "execute_result"
    }
   ],
   "source": [
    "len(txt)"
   ]
  },
  {
   "cell_type": "markdown",
   "id": "f5be8a6b",
   "metadata": {},
   "source": [
    "### ljust()"
   ]
  },
  {
   "cell_type": "code",
   "execution_count": 29,
   "id": "bf3ade85",
   "metadata": {
    "scrolled": true
   },
   "outputs": [
    {
     "data": {
      "text/plain": [
       "'hello suraj!!!@@'"
      ]
     },
     "execution_count": 29,
     "metadata": {},
     "output_type": "execute_result"
    }
   ],
   "source": [
    "#Syntax str.ljust(width,fllchar)\n",
    "s = \"hello suraj!!!\"\n",
    "s.ljust(16,'@')"
   ]
  },
  {
   "cell_type": "markdown",
   "id": "3b2b8966",
   "metadata": {},
   "source": [
    "### rjust()"
   ]
  },
  {
   "cell_type": "code",
   "execution_count": 32,
   "id": "117c4c02",
   "metadata": {},
   "outputs": [
    {
     "data": {
      "text/plain": [
       "'hhhhhhhello suraj!!!'"
      ]
     },
     "execution_count": 32,
     "metadata": {},
     "output_type": "execute_result"
    }
   ],
   "source": [
    "s = \"hello suraj!!!\"\n",
    "s.rjust(20,'h')"
   ]
  },
  {
   "cell_type": "markdown",
   "id": "feecc97c",
   "metadata": {},
   "source": [
    "### strip()"
   ]
  },
  {
   "cell_type": "code",
   "execution_count": 37,
   "id": "13737e8c",
   "metadata": {},
   "outputs": [
    {
     "data": {
      "text/plain": [
       "'hello suraj'"
      ]
     },
     "execution_count": 37,
     "metadata": {},
     "output_type": "execute_result"
    }
   ],
   "source": [
    "#Syntax str.strip(chars)\n",
    "s = \"hello suraj!!!\"\n",
    "s.strip('!')"
   ]
  },
  {
   "cell_type": "markdown",
   "id": "9fc53a16",
   "metadata": {},
   "source": [
    "###  lstrip"
   ]
  },
  {
   "cell_type": "code",
   "execution_count": 46,
   "id": "058111f8",
   "metadata": {},
   "outputs": [
    {
     "name": "stdout",
     "output_type": "stream",
     "text": [
      "Help on method_descriptor:\n",
      "\n",
      "lstrip(self, chars=None, /)\n",
      "    Return a copy of the string with leading whitespace removed.\n",
      "    \n",
      "    If chars is given and not None, remove characters in chars instead.\n",
      "\n"
     ]
    }
   ],
   "source": [
    "help(str.lstrip)"
   ]
  },
  {
   "cell_type": "code",
   "execution_count": 53,
   "id": "e0dc1fde",
   "metadata": {},
   "outputs": [
    {
     "data": {
      "text/plain": [
       "'hello suraj!'"
      ]
     },
     "execution_count": 53,
     "metadata": {},
     "output_type": "execute_result"
    }
   ],
   "source": [
    "#Syntax str.lstrip(chars)\n",
    "s = \"hello suraj!\"\n",
    "s.lstrip('!')"
   ]
  },
  {
   "cell_type": "code",
   "execution_count": 54,
   "id": "713665b1",
   "metadata": {},
   "outputs": [
    {
     "name": "stdout",
     "output_type": "stream",
     "text": [
      "this is string example....wow!!!\n"
     ]
    }
   ],
   "source": [
    "str = \"this is string example....wow!!!\"\n",
    "print(str.lstrip())"
   ]
  },
  {
   "cell_type": "code",
   "execution_count": 55,
   "id": "c373e409",
   "metadata": {},
   "outputs": [
    {
     "name": "stdout",
     "output_type": "stream",
     "text": [
      "this is string example....wow!!!8888888\n"
     ]
    }
   ],
   "source": [
    "str = \"88888888this is string example....wow!!!8888888\";\n",
    "print(str.lstrip('8'))"
   ]
  },
  {
   "cell_type": "markdown",
   "id": "66c94ae0",
   "metadata": {},
   "source": [
    "### rstrip()"
   ]
  },
  {
   "cell_type": "code",
   "execution_count": 195,
   "id": "9e1b8aed",
   "metadata": {},
   "outputs": [
    {
     "name": "stdout",
     "output_type": "stream",
     "text": [
      "this is string example....wow!!!\n",
      "88888888this is string example....wow!!!\n"
     ]
    }
   ],
   "source": [
    "str = \"this is string example....wow!!!\";\n",
    "print(str.rstrip())"
   ]
  },
  {
   "cell_type": "code",
   "execution_count": 56,
   "id": "1a15643f",
   "metadata": {},
   "outputs": [
    {
     "name": "stdout",
     "output_type": "stream",
     "text": [
      "88888888this is string example....wow!!!\n"
     ]
    }
   ],
   "source": [
    "str = \"88888888this is string example....wow!!!8888888\";\n",
    "print(str.rstrip('8'))"
   ]
  },
  {
   "cell_type": "markdown",
   "id": "cb74f6a4",
   "metadata": {},
   "source": [
    "### translate()"
   ]
  },
  {
   "cell_type": "code",
   "execution_count": 60,
   "id": "3bb0e542",
   "metadata": {},
   "outputs": [
    {
     "name": "stdout",
     "output_type": "stream",
     "text": [
      "Hello Zam!\n"
     ]
    }
   ],
   "source": [
    "d= {83:  90}\n",
    "txt = \"Hello Sam!\"\n",
    "print(txt.translate(d))"
   ]
  },
  {
   "cell_type": "markdown",
   "id": "b4dede2c",
   "metadata": {},
   "source": [
    "### maketrans()"
   ]
  },
  {
   "cell_type": "code",
   "execution_count": 171,
   "id": "8a846a7c",
   "metadata": {},
   "outputs": [
    {
     "name": "stdout",
     "output_type": "stream",
     "text": [
      "{104: 71, 101: 105, 108: 108, 111: 115}\n"
     ]
    }
   ],
   "source": [
    "str1=\"hello\"\n",
    "str2=\"Girls\"\n",
    "str_var=\"Hello\"\n",
    "print(str_var.maketrans(str1, str2))"
   ]
  },
  {
   "cell_type": "code",
   "execution_count": 172,
   "id": "1e7e0a86",
   "metadata": {},
   "outputs": [
    {
     "name": "stdout",
     "output_type": "stream",
     "text": [
      "Hills\n"
     ]
    }
   ],
   "source": [
    "str1 = \"hello\"\n",
    "str2 = \"girls\"\n",
    "\n",
    "str_var = \"Hello\"    #can be any string\n",
    "x = str_var.maketrans(str1, str2)\n",
    "# translate the string\n",
    "print(str_var.translate(x))"
   ]
  },
  {
   "cell_type": "code",
   "execution_count": 173,
   "id": "707eb6b1",
   "metadata": {},
   "outputs": [
    {
     "name": "stdout",
     "output_type": "stream",
     "text": [
      "{97: '219', 98: '211', 99: '229'}\n"
     ]
    }
   ],
   "source": [
    "dict = {\"a\": \"219\", \"b\": \"211\", \"c\": \"229\"}\n",
    "string = \"kgb\"\n",
    "print(string.maketrans(dict))"
   ]
  },
  {
   "cell_type": "markdown",
   "id": "f39ea7ba",
   "metadata": {},
   "source": [
    "### partition()"
   ]
  },
  {
   "cell_type": "code",
   "execution_count": 61,
   "id": "11bedead",
   "metadata": {},
   "outputs": [
    {
     "name": "stdout",
     "output_type": "stream",
     "text": [
      "Help on built-in function partition:\n",
      "\n",
      "partition(sep, /) method of builtins.str instance\n",
      "    Partition the string into three parts using the given separator.\n",
      "    \n",
      "    This will search for the separator in the string.  If the separator is found,\n",
      "    returns a 3-tuple containing the part before the separator, the separator\n",
      "    itself, and the part after it.\n",
      "    \n",
      "    If the separator is not found, returns a 3-tuple containing the original string\n",
      "    and two empty strings.\n",
      "\n"
     ]
    }
   ],
   "source": [
    "help(str.partition)"
   ]
  },
  {
   "cell_type": "code",
   "execution_count": 62,
   "id": "38c67847",
   "metadata": {
    "scrolled": true
   },
   "outputs": [
    {
     "name": "stdout",
     "output_type": "stream",
     "text": [
      "('I am a ', 'coding', ' lover!')\n",
      "('World of science is ', 'magic', '!')\n"
     ]
    }
   ],
   "source": [
    "str1 = \"I am a coding lover!\"\n",
    "str2 = \"World of science is magic!\"\n",
    "\n",
    "print(str1.partition('coding'))\n",
    "print(str2.partition('magic'))"
   ]
  },
  {
   "cell_type": "markdown",
   "id": "71de1a91",
   "metadata": {},
   "source": [
    "### rpartition()"
   ]
  },
  {
   "cell_type": "code",
   "execution_count": 64,
   "id": "29f9066a",
   "metadata": {},
   "outputs": [
    {
     "name": "stdout",
     "output_type": "stream",
     "text": [
      "('', 'I', ' am a coding lover!')\n",
      "('World ', 'of', ' science is magic!')\n"
     ]
    }
   ],
   "source": [
    "str1 = \"I am a coding lover!\"\n",
    "str2 = \"World of science is magic!\"\n",
    "\n",
    "print(str1.rpartition('I'))\n",
    "print(str2.rpartition('of'))"
   ]
  },
  {
   "cell_type": "markdown",
   "id": "a88b4a1c",
   "metadata": {},
   "source": [
    "### removesuffix()"
   ]
  },
  {
   "cell_type": "code",
   "execution_count": 66,
   "id": "ee585e73",
   "metadata": {},
   "outputs": [
    {
     "data": {
      "text/plain": [
       "'Computer'"
      ]
     },
     "execution_count": 66,
     "metadata": {},
     "output_type": "execute_result"
    }
   ],
   "source": [
    "s= 'ComputerScience'\n",
    "s.removesuffix('Science')"
   ]
  },
  {
   "cell_type": "markdown",
   "id": "a0af139f",
   "metadata": {},
   "source": [
    "### removeprefix()"
   ]
  },
  {
   "cell_type": "code",
   "execution_count": 67,
   "id": "4dfd4b1b",
   "metadata": {},
   "outputs": [
    {
     "data": {
      "text/plain": [
       "'Science'"
      ]
     },
     "execution_count": 67,
     "metadata": {},
     "output_type": "execute_result"
    }
   ],
   "source": [
    "s= 'ComputerScience'\n",
    "s.removeprefix('Computer')"
   ]
  },
  {
   "cell_type": "markdown",
   "id": "4993abe2",
   "metadata": {},
   "source": [
    "### replace()"
   ]
  },
  {
   "cell_type": "code",
   "execution_count": 68,
   "id": "44365648",
   "metadata": {},
   "outputs": [
    {
     "name": "stdout",
     "output_type": "stream",
     "text": [
      "I like apples\n"
     ]
    }
   ],
   "source": [
    "s = \"I like bananas\"\n",
    "x = s.replace(\"bananas\", \"apples\")\n",
    "print(x)"
   ]
  },
  {
   "cell_type": "code",
   "execution_count": 70,
   "id": "80c2a9b6",
   "metadata": {},
   "outputs": [
    {
     "name": "stdout",
     "output_type": "stream",
     "text": [
      "three three was a race horse, two two was three too.\n"
     ]
    }
   ],
   "source": [
    "s = \"one one was a race horse, two two was one too.\"\n",
    "x = s.replace(\"one\", \"three\", 3)\n",
    "print(x)"
   ]
  },
  {
   "cell_type": "markdown",
   "id": "e03062e4",
   "metadata": {},
   "source": [
    "### split()"
   ]
  },
  {
   "cell_type": "code",
   "execution_count": 71,
   "id": "acc67b27",
   "metadata": {},
   "outputs": [
    {
     "data": {
      "text/plain": [
       "['suraj', 'is', 'a', 'gentle', 'and', 'humble', 'man']"
      ]
     },
     "execution_count": 71,
     "metadata": {},
     "output_type": "execute_result"
    }
   ],
   "source": [
    "s=\"suraj is a gentle and humble man\"\n",
    "s.split()"
   ]
  },
  {
   "cell_type": "markdown",
   "id": "ed49fc6b",
   "metadata": {},
   "source": [
    "### rsplit()"
   ]
  },
  {
   "cell_type": "code",
   "execution_count": 72,
   "id": "67505a54",
   "metadata": {},
   "outputs": [
    {
     "data": {
      "text/plain": [
       "['suraj', 'is', 'a', 'gentle', 'and', 'humble', 'man']"
      ]
     },
     "execution_count": 72,
     "metadata": {},
     "output_type": "execute_result"
    }
   ],
   "source": [
    "s=\"suraj is a gentle and humble man\"\n",
    "s.rsplit()"
   ]
  },
  {
   "cell_type": "code",
   "execution_count": 73,
   "id": "29dbc069",
   "metadata": {},
   "outputs": [
    {
     "data": {
      "text/plain": [
       "['suraj is a', 'gentle', 'and', 'humble', 'man']"
      ]
     },
     "execution_count": 73,
     "metadata": {},
     "output_type": "execute_result"
    }
   ],
   "source": [
    "s=\"suraj is a gentle and humble man\"\n",
    "s.rsplit(\" \",4)"
   ]
  },
  {
   "cell_type": "markdown",
   "id": "61080ed9",
   "metadata": {},
   "source": [
    "### splitlines()"
   ]
  },
  {
   "cell_type": "code",
   "execution_count": 75,
   "id": "09eedd00",
   "metadata": {},
   "outputs": [
    {
     "data": {
      "text/plain": [
       "['Java', 'Pyt', 'hon', 'Android']"
      ]
     },
     "execution_count": 75,
     "metadata": {},
     "output_type": "execute_result"
    }
   ],
   "source": [
    "s = 'Java\\nPython\\nAndroid'\n",
    "s.splitlines()"
   ]
  },
  {
   "cell_type": "code",
   "execution_count": 76,
   "id": "e2b8b88e",
   "metadata": {},
   "outputs": [
    {
     "data": {
      "text/plain": [
       "['Java\\n', 'Pyt\\n', 'hon\\n', 'Android']"
      ]
     },
     "execution_count": 76,
     "metadata": {},
     "output_type": "execute_result"
    }
   ],
   "source": [
    "s.splitlines(keepends=True)"
   ]
  },
  {
   "cell_type": "code",
   "execution_count": null,
   "id": "ef09adf2",
   "metadata": {},
   "outputs": [],
   "source": []
  }
 ],
 "metadata": {
  "kernelspec": {
   "display_name": "Python 3 (ipykernel)",
   "language": "python",
   "name": "python3"
  },
  "language_info": {
   "codemirror_mode": {
    "name": "ipython",
    "version": 3
   },
   "file_extension": ".py",
   "mimetype": "text/x-python",
   "name": "python",
   "nbconvert_exporter": "python",
   "pygments_lexer": "ipython3",
   "version": "3.9.7"
  }
 },
 "nbformat": 4,
 "nbformat_minor": 5
}
