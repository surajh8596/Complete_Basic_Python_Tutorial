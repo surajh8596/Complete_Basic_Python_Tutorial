{
 "cells": [
  {
   "cell_type": "markdown",
   "id": "83945f41",
   "metadata": {},
   "source": [
    "eval():\n",
    "* evaluate python expression which is written as string."
   ]
  },
  {
   "cell_type": "code",
   "execution_count": 2,
   "id": "eb469f80",
   "metadata": {},
   "outputs": [
    {
     "data": {
      "text/plain": [
       "10"
      ]
     },
     "execution_count": 2,
     "metadata": {},
     "output_type": "execute_result"
    }
   ],
   "source": [
    "eval(\"5+5\")"
   ]
  },
  {
   "cell_type": "code",
   "execution_count": 3,
   "id": "acc32c09",
   "metadata": {},
   "outputs": [
    {
     "name": "stdout",
     "output_type": "stream",
     "text": [
      "Enter Expression : 8+27/3+1\n"
     ]
    },
    {
     "data": {
      "text/plain": [
       "18.0"
      ]
     },
     "execution_count": 3,
     "metadata": {},
     "output_type": "execute_result"
    }
   ],
   "source": [
    "eval(input(\"Enter Expression : \"))"
   ]
  },
  {
   "cell_type": "code",
   "execution_count": 4,
   "id": "5f29406c",
   "metadata": {},
   "outputs": [
    {
     "name": "stdout",
     "output_type": "stream",
     "text": [
      "Enter Expression : sum([2,3,4,5,6])\n"
     ]
    },
    {
     "data": {
      "text/plain": [
       "20"
      ]
     },
     "execution_count": 4,
     "metadata": {},
     "output_type": "execute_result"
    }
   ],
   "source": [
    "eval(input(\"Enter Expression : \"))"
   ]
  },
  {
   "cell_type": "code",
   "execution_count": 6,
   "id": "2f608f16",
   "metadata": {},
   "outputs": [
    {
     "name": "stdout",
     "output_type": "stream",
     "text": [
      "Enter Expression : len([1,2,3,4,5,6])\n"
     ]
    },
    {
     "data": {
      "text/plain": [
       "6"
      ]
     },
     "execution_count": 6,
     "metadata": {},
     "output_type": "execute_result"
    }
   ],
   "source": [
    "eval(input(\"Enter Expression : \"))"
   ]
  },
  {
   "cell_type": "code",
   "execution_count": 7,
   "id": "939c8bd7",
   "metadata": {},
   "outputs": [
    {
     "data": {
      "text/plain": [
       "1000"
      ]
     },
     "execution_count": 7,
     "metadata": {},
     "output_type": "execute_result"
    }
   ],
   "source": [
    "def cube(num):\n",
    "    return num*num*num\n",
    "\n",
    "eval(\"cube(10)\")"
   ]
  },
  {
   "cell_type": "markdown",
   "id": "c0c4751d",
   "metadata": {},
   "source": [
    "eval() function parameters:\n",
    "1. source- python Expression\n",
    "2. global- variable\n",
    "3. local- variable"
   ]
  },
  {
   "cell_type": "code",
   "execution_count": 9,
   "id": "85f0b220",
   "metadata": {},
   "outputs": [
    {
     "data": {
      "text/plain": [
       "18"
      ]
     },
     "execution_count": 9,
     "metadata": {},
     "output_type": "execute_result"
    }
   ],
   "source": [
    "##global\n",
    "#here x is global\n",
    "eval(\"x**2+2*x+10\", {\"x\":2})"
   ]
  },
  {
   "cell_type": "code",
   "execution_count": 10,
   "id": "165a5fae",
   "metadata": {},
   "outputs": [
    {
     "data": {
      "text/plain": [
       "25"
      ]
     },
     "execution_count": 10,
     "metadata": {},
     "output_type": "execute_result"
    }
   ],
   "source": [
    "##global\n",
    "#here x is global\n",
    "x=3\n",
    "eval(\"x**2+2*x+10\", {\"x\":x})"
   ]
  },
  {
   "cell_type": "code",
   "execution_count": 12,
   "id": "299e7a83",
   "metadata": {},
   "outputs": [
    {
     "data": {
      "text/plain": [
       "13"
      ]
     },
     "execution_count": 12,
     "metadata": {},
     "output_type": "execute_result"
    }
   ],
   "source": [
    "##global\n",
    "#here x,y is global\n",
    "x=3\n",
    "y=2\n",
    "eval(\"x**2+y**2\", {\"x\":x, \"y\":y})"
   ]
  },
  {
   "cell_type": "code",
   "execution_count": 13,
   "id": "7e6aeb90",
   "metadata": {},
   "outputs": [
    {
     "data": {
      "text/plain": [
       "6"
      ]
     },
     "execution_count": 13,
     "metadata": {},
     "output_type": "execute_result"
    }
   ],
   "source": [
    "##global\n",
    "#here x,y,z is global\n",
    "x=3\n",
    "y=2\n",
    "z=1\n",
    "eval(\"x+y+z\")"
   ]
  },
  {
   "cell_type": "code",
   "execution_count": 14,
   "id": "df77784d",
   "metadata": {},
   "outputs": [
    {
     "data": {
      "text/plain": [
       "600"
      ]
     },
     "execution_count": 14,
     "metadata": {},
     "output_type": "execute_result"
    }
   ],
   "source": [
    "##global\n",
    "#here x,y,z is global\n",
    "eval(\"x+y+z\",{\"x\":100,\"y\":200,\"z\":300})"
   ]
  },
  {
   "cell_type": "code",
   "execution_count": null,
   "id": "3d67663b",
   "metadata": {},
   "outputs": [],
   "source": []
  }
 ],
 "metadata": {
  "kernelspec": {
   "display_name": "Python 3 (ipykernel)",
   "language": "python",
   "name": "python3"
  },
  "language_info": {
   "codemirror_mode": {
    "name": "ipython",
    "version": 3
   },
   "file_extension": ".py",
   "mimetype": "text/x-python",
   "name": "python",
   "nbconvert_exporter": "python",
   "pygments_lexer": "ipython3",
   "version": "3.9.7"
  }
 },
 "nbformat": 4,
 "nbformat_minor": 5
}
