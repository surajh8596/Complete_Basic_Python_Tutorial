{
 "cells": [
  {
   "cell_type": "markdown",
   "id": "5b2fba91",
   "metadata": {},
   "source": [
    "### Class and Object\n",
    "    1. class\n",
    "        a. atrubutes --> variables\n",
    "        b. behavior --> methods --> functions\n",
    "     \n",
    "    2. Objects\n",
    "        a. 1 class have multiple objects"
   ]
  },
  {
   "cell_type": "code",
   "execution_count": 8,
   "id": "49c5f321",
   "metadata": {},
   "outputs": [
    {
     "name": "stdout",
     "output_type": "stream",
     "text": [
      "i5, 4GB, 1TB\n",
      "i5, 4GB, 1TB\n",
      "i5, 4GB, 1TB\n"
     ]
    }
   ],
   "source": [
    "class Computer:\n",
    "    \n",
    "    def config(self):   ### method\n",
    "        print(\"i5, 4GB, 1TB\")\n",
    "\n",
    "\n",
    "comp1=Computer()  ### object\n",
    "\n",
    "comp1.config()    ### 1st way to call\n",
    "\n",
    "Computer.config(comp1)  ### 2nd way to call\n",
    "\n",
    "comp2=Computer()\n",
    "\n",
    "comp2.config()"
   ]
  },
  {
   "cell_type": "code",
   "execution_count": null,
   "id": "71e0cbeb",
   "metadata": {},
   "outputs": [],
   "source": []
  },
  {
   "cell_type": "markdown",
   "id": "9d7b2909",
   "metadata": {},
   "source": [
    "###  (--init--) method in python\n",
    "    - no need to call __init__, it is automatically called"
   ]
  },
  {
   "cell_type": "code",
   "execution_count": 10,
   "id": "67bae32a",
   "metadata": {},
   "outputs": [
    {
     "name": "stdout",
     "output_type": "stream",
     "text": [
      "in init\n",
      "in init\n",
      "i5, 4GB, 1TB\n",
      "i5, 4GB, 1TB\n"
     ]
    }
   ],
   "source": [
    "class Computer:\n",
    "    \n",
    "    def __init__(self):\n",
    "        print(\"in init\")\n",
    "    \n",
    "    def config(self):   ### method\n",
    "        print(\"i5, 4GB, 1TB\")\n",
    "\n",
    "\n",
    "comp1=Computer()  ### object\n",
    "comp2=Computer()\n",
    "\n",
    "comp1.config()    ### way to call\n",
    "comp2.config()    ### way to call\n"
   ]
  },
  {
   "cell_type": "markdown",
   "id": "ff3a9b8c",
   "metadata": {},
   "source": [
    "##### passing argument in --init-- method"
   ]
  },
  {
   "cell_type": "code",
   "execution_count": 15,
   "id": "3726e4f1",
   "metadata": {},
   "outputs": [
    {
     "name": "stdout",
     "output_type": "stream",
     "text": [
      "Config is  i5 4\n",
      "Config is  i3 3\n"
     ]
    }
   ],
   "source": [
    "class Computer:\n",
    "    \n",
    "    def __init__(self, cpu, ram):\n",
    "        self.cpu=cpu\n",
    "        self.ram=ram\n",
    "    \n",
    "    def config(self):   ### method\n",
    "        print(\"Config is \", self.cpu, self.ram)\n",
    "\n",
    "\n",
    "comp1=Computer('i5', 4)  ### object\n",
    "comp2=Computer('i3', 3)\n",
    "\n",
    "comp1.config()    ### way to call\n",
    "comp2.config()    ### way to call\n"
   ]
  },
  {
   "cell_type": "code",
   "execution_count": null,
   "id": "9289f353",
   "metadata": {},
   "outputs": [],
   "source": []
  },
  {
   "cell_type": "markdown",
   "id": "b9a64d71",
   "metadata": {},
   "source": [
    "### Constructor, Self and Comparing objects in python"
   ]
  },
  {
   "cell_type": "code",
   "execution_count": 18,
   "id": "e680fb70",
   "metadata": {},
   "outputs": [
    {
     "name": "stdout",
     "output_type": "stream",
     "text": [
      "1835456539856\n",
      "1835456538512\n"
     ]
    }
   ],
   "source": [
    "class Computer:\n",
    "    pass\n",
    "    \n",
    "c1=Computer()\n",
    "c2=Computer()\n",
    "\n",
    "print(id(c1))\n",
    "print(id(c2))"
   ]
  },
  {
   "cell_type": "code",
   "execution_count": 21,
   "id": "422a3af9",
   "metadata": {},
   "outputs": [
    {
     "name": "stdout",
     "output_type": "stream",
     "text": [
      "Rangita\n",
      "Suraj\n"
     ]
    }
   ],
   "source": [
    "class Computer:\n",
    "    def __init__(self):\n",
    "        self.name='Suraj'\n",
    "        self.age=26\n",
    "    \n",
    "c1=Computer()\n",
    "c2=Computer()\n",
    "\n",
    "c1.name='Rangita'\n",
    "\n",
    "print(c1.name)\n",
    "print(c2.name)"
   ]
  },
  {
   "cell_type": "code",
   "execution_count": 23,
   "id": "277e5746",
   "metadata": {},
   "outputs": [
    {
     "name": "stdout",
     "output_type": "stream",
     "text": [
      "Rangita\n",
      "Suraj\n"
     ]
    }
   ],
   "source": [
    "class Computer:\n",
    "    def __init__(self):\n",
    "        self.name='Suraj'\n",
    "        self.age=26\n",
    "        \n",
    "    def Update(self):\n",
    "        self.age=27\n",
    "    \n",
    "c1=Computer()\n",
    "c2=Computer()\n",
    "\n",
    "c1.Update()\n",
    "\n",
    "c1.name='Rangita'\n",
    "\n",
    "print(c1.name)\n",
    "print(c2.name)"
   ]
  },
  {
   "cell_type": "markdown",
   "id": "e40f2def",
   "metadata": {},
   "source": [
    "#### compare objects"
   ]
  },
  {
   "cell_type": "code",
   "execution_count": 26,
   "id": "2f338d52",
   "metadata": {},
   "outputs": [
    {
     "name": "stdout",
     "output_type": "stream",
     "text": [
      "They are same\n"
     ]
    }
   ],
   "source": [
    "class Computer:\n",
    "    def __init__(self):\n",
    "        self.name='Suraj'\n",
    "        self.age=26\n",
    "        \n",
    "    def Update(self):\n",
    "        self.age=27\n",
    "        \n",
    "    def compare(self,other):\n",
    "        if self.age==other.age:\n",
    "            return True\n",
    "        else:\n",
    "            return False\n",
    "    \n",
    "c1=Computer()\n",
    "c2=Computer()\n",
    "\n",
    "if c1.compare(c2):\n",
    "    print(\"They are same\")\n",
    "else:\n",
    "    print(\"They are different\")"
   ]
  },
  {
   "cell_type": "code",
   "execution_count": null,
   "id": "484afd81",
   "metadata": {},
   "outputs": [],
   "source": []
  },
  {
   "cell_type": "markdown",
   "id": "4f179aa9",
   "metadata": {},
   "source": [
    "## Type of variable\n",
    "    1. instance\n",
    "    2. static or class variable"
   ]
  },
  {
   "cell_type": "code",
   "execution_count": 31,
   "id": "509566d1",
   "metadata": {},
   "outputs": [
    {
     "name": "stdout",
     "output_type": "stream",
     "text": [
      "10 MG\n",
      "10 MG\n"
     ]
    }
   ],
   "source": [
    "class Car:\n",
    "    def __init__(self):\n",
    "        self.mil=10\n",
    "        self.com='MG'\n",
    "        \n",
    "c1=Car()\n",
    "c2=Car()\n",
    "\n",
    "print(c1.mil, c1.com)\n",
    "print(c2.mil, c2.com)"
   ]
  },
  {
   "cell_type": "code",
   "execution_count": 32,
   "id": "a792df1b",
   "metadata": {},
   "outputs": [
    {
     "name": "stdout",
     "output_type": "stream",
     "text": [
      "20 MG\n",
      "10 MG\n"
     ]
    }
   ],
   "source": [
    "class Car:\n",
    "    def __init__(self):\n",
    "        self.mil=10\n",
    "        self.com='MG'\n",
    "        \n",
    "c1=Car()\n",
    "c2=Car()\n",
    "\n",
    "c1.mil=20\n",
    "\n",
    "print(c1.mil, c1.com)\n",
    "print(c2.mil, c2.com)"
   ]
  },
  {
   "cell_type": "code",
   "execution_count": 33,
   "id": "ddf1e065",
   "metadata": {},
   "outputs": [
    {
     "name": "stdout",
     "output_type": "stream",
     "text": [
      "10 MG 4\n",
      "10 MG 4\n"
     ]
    }
   ],
   "source": [
    "class Car:\n",
    "    wheels=4  ### class variable\n",
    "    \n",
    "    def __init__(self):\n",
    "        self.mil=10   ### instance variable\n",
    "        self.com='MG'  ### instance variable\n",
    "        \n",
    "c1=Car()\n",
    "c2=Car()\n",
    "\n",
    "print(c1.mil, c1.com, c1.wheels)\n",
    "print(c2.mil, c2.com, c2.wheels)"
   ]
  },
  {
   "cell_type": "code",
   "execution_count": 35,
   "id": "589f71eb",
   "metadata": {},
   "outputs": [
    {
     "name": "stdout",
     "output_type": "stream",
     "text": [
      "10 MG 8\n",
      "10 MG 8\n"
     ]
    }
   ],
   "source": [
    "class Car:\n",
    "    wheels=4  ### class variable\n",
    "    \n",
    "    def __init__(self):\n",
    "        self.mil=10   ### instance variable\n",
    "        self.com='MG'  ### instance variable\n",
    "        \n",
    "c1=Car()\n",
    "c2=Car()\n",
    "\n",
    "Car.wheels=8\n",
    "\n",
    "print(c1.mil, c1.com, c1.wheels)\n",
    "print(c2.mil, c2.com, c2.wheels)"
   ]
  },
  {
   "cell_type": "code",
   "execution_count": null,
   "id": "6a9eb7a4",
   "metadata": {},
   "outputs": [],
   "source": []
  },
  {
   "cell_type": "markdown",
   "id": "ab4ebcbb",
   "metadata": {},
   "source": [
    "### Type of methods\n",
    "    1. instance method\n",
    "        a. accessor methods- use to fetch the value\n",
    "        b. mutator method- use to modify the value\n",
    "    2. class method\n",
    "    3. static method-- nothing to do with class"
   ]
  },
  {
   "cell_type": "code",
   "execution_count": 38,
   "id": "8ce53c0c",
   "metadata": {},
   "outputs": [
    {
     "name": "stdout",
     "output_type": "stream",
     "text": [
      "33.333333333333336\n",
      "34.0\n"
     ]
    }
   ],
   "source": [
    "class Student:\n",
    "    \n",
    "    school='delhi university'\n",
    "    \n",
    "    def __init__(self, m1, m2, m3):\n",
    "        self.m1=m1\n",
    "        self.m2=m2\n",
    "        self.m3=m3\n",
    "        \n",
    "    def avg(self):\n",
    "        return (self.m1+self.m2+self.m3)/3\n",
    "        \n",
    "s1=Student(32,34,34)\n",
    "s2=Student(34,33,35)\n",
    "\n",
    "print(s1.avg())\n",
    "print(s2.avg())"
   ]
  },
  {
   "cell_type": "code",
   "execution_count": 40,
   "id": "05215196",
   "metadata": {},
   "outputs": [
    {
     "name": "stdout",
     "output_type": "stream",
     "text": [
      "33.333333333333336\n"
     ]
    }
   ],
   "source": [
    "class Student:\n",
    "    \n",
    "    school='delhi university'\n",
    "    \n",
    "    def __init__(self, m1, m2, m3):\n",
    "        self.m1=m1\n",
    "        self.m2=m2\n",
    "        self.m3=m3\n",
    "        \n",
    "    def avg(self):\n",
    "        return (self.m1+self.m2+self.m3)/3\n",
    "    \n",
    "    def get(self):\n",
    "        return self.m1\n",
    "    \n",
    "    def set(self):\n",
    "        self.m1=35\n",
    "    \n",
    "s1=Student(32,34,34)\n",
    "s2=Student(34,33,35)\n",
    "\n",
    "print(s1.avg())"
   ]
  },
  {
   "cell_type": "code",
   "execution_count": null,
   "id": "3105e5e5",
   "metadata": {},
   "outputs": [],
   "source": []
  },
  {
   "cell_type": "code",
   "execution_count": 41,
   "id": "d2cb848e",
   "metadata": {},
   "outputs": [
    {
     "name": "stdout",
     "output_type": "stream",
     "text": [
      "33.333333333333336\n",
      "delhi university\n"
     ]
    }
   ],
   "source": [
    "class Student:\n",
    "    \n",
    "    school='delhi university'\n",
    "    \n",
    "    def __init__(self, m1, m2, m3):\n",
    "        self.m1=m1\n",
    "        self.m2=m2\n",
    "        self.m3=m3\n",
    "        \n",
    "    def avg(self):\n",
    "        return (self.m1+self.m2+self.m3)/3\n",
    "    \n",
    "    @classmethod\n",
    "    def info(cls):\n",
    "        return cls.school\n",
    "        \n",
    "s1=Student(32,34,34)\n",
    "s2=Student(34,33,35)\n",
    "\n",
    "print(s1.avg())\n",
    "print(Student.info())"
   ]
  },
  {
   "cell_type": "code",
   "execution_count": 47,
   "id": "5272c81f",
   "metadata": {},
   "outputs": [
    {
     "name": "stdout",
     "output_type": "stream",
     "text": [
      "33.333333333333336\n",
      "delhi university\n",
      "this is student class ....\n"
     ]
    }
   ],
   "source": [
    "class Student:\n",
    "    \n",
    "    school='delhi university'\n",
    "    \n",
    "    def __init__(self, m1, m2, m3):\n",
    "        self.m1=m1\n",
    "        self.m2=m2\n",
    "        self.m3=m3\n",
    "        \n",
    "    def avg(self):\n",
    "        return (self.m1+self.m2+self.m3)/3\n",
    "    \n",
    "    @classmethod\n",
    "    def getschool(cls):\n",
    "        return cls.school\n",
    "    \n",
    "    @staticmethod\n",
    "    def info():\n",
    "        print(\"this is student class ....\")\n",
    "        \n",
    "s1=Student(32,34,34)\n",
    "s2=Student(34,33,35)\n",
    "\n",
    "print(s1.avg())\n",
    "print(Student.getschool())\n",
    "Student.info()"
   ]
  },
  {
   "cell_type": "code",
   "execution_count": null,
   "id": "ccac378b",
   "metadata": {},
   "outputs": [],
   "source": []
  },
  {
   "cell_type": "markdown",
   "id": "ba37e05e",
   "metadata": {},
   "source": [
    "### Inner class- nested class"
   ]
  },
  {
   "cell_type": "code",
   "execution_count": 55,
   "id": "49ce70f4",
   "metadata": {},
   "outputs": [
    {
     "name": "stdout",
     "output_type": "stream",
     "text": [
      "suraj 12\n",
      "suman 13\n",
      "1835457348848\n",
      "1835457349424\n"
     ]
    }
   ],
   "source": [
    "class Student:\n",
    "    \n",
    "    def __init__(self,name,rollno):\n",
    "        self.name=name\n",
    "        self.rollno=rollno\n",
    "        self.lap=self.Laptop()   ### defn variable inside constructor\n",
    "        \n",
    "    def show(self):\n",
    "        print(self.name, self.rollno)\n",
    "        \n",
    "    class Laptop:     ### inner class\n",
    "        \n",
    "        def __init__(self):\n",
    "            self.brand='HP'\n",
    "            self.cpu='i5'\n",
    "            self.ram=8\n",
    "        \n",
    "        \n",
    "s1=Student(\"suraj\",12)\n",
    "s2=Student(\"suman\",13)\n",
    "\n",
    "s1.show()\n",
    "s2.show()\n",
    "\n",
    "s1.lap.brand\n",
    "\n",
    "l1=s1.lap\n",
    "l2=s2.lap\n",
    "\n",
    "print(id(s1.lap))\n",
    "print(id(s2.lap))"
   ]
  },
  {
   "cell_type": "code",
   "execution_count": 58,
   "id": "32230b87",
   "metadata": {},
   "outputs": [
    {
     "name": "stdout",
     "output_type": "stream",
     "text": [
      "suraj 12\n",
      "suman 13\n",
      "HP i5 8\n",
      "HP i5 8\n"
     ]
    }
   ],
   "source": [
    "class Student:\n",
    "    \n",
    "    def __init__(self,name,rollno):\n",
    "        self.name=name\n",
    "        self.rollno=rollno\n",
    "        self.lap=self.Laptop()   ### defn variable inside constructor\n",
    "        \n",
    "    def show(self):\n",
    "        print(self.name, self.rollno)\n",
    "        \n",
    "    class Laptop:     ### inner class\n",
    "        \n",
    "        def __init__(self):\n",
    "            self.brand='HP'\n",
    "            self.cpu='i5'\n",
    "            self.ram=8\n",
    "            \n",
    "        def show(self):\n",
    "            print(self.brand,self.cpu,self.ram)\n",
    "        \n",
    "        \n",
    "s1=Student(\"suraj\",12)\n",
    "s2=Student(\"suman\",13)\n",
    "\n",
    "s1.show()\n",
    "s2.show()\n",
    "\n",
    "s1.lap.brand\n",
    "\n",
    "l1=Student.Laptop()\n",
    "l2=Student.Laptop()\n",
    "\n",
    "l1.show()\n",
    "l2.show()\n"
   ]
  },
  {
   "cell_type": "code",
   "execution_count": null,
   "id": "bc2585f8",
   "metadata": {},
   "outputs": [],
   "source": []
  },
  {
   "cell_type": "markdown",
   "id": "28cd9cf6",
   "metadata": {},
   "source": [
    "### Inheritance in python"
   ]
  },
  {
   "cell_type": "markdown",
   "id": "6ef52b0f",
   "metadata": {},
   "source": [
    "#### single level"
   ]
  },
  {
   "cell_type": "code",
   "execution_count": null,
   "id": "765187ae",
   "metadata": {},
   "outputs": [],
   "source": [
    "class A:\n",
    "    def feature1(self):\n",
    "        print(\"feature 1 is working\")\n",
    "    def feature2(self):\n",
    "        print(\"feature 2 is working\")\n",
    "        \n",
    "class B(A):\n",
    "    def feature3(self):\n",
    "        print(\"feature 3 is working\")\n",
    "    def feature4(self):\n",
    "        print(\"feature 4 is working\")\n",
    "        \n",
    "        \n",
    "a1=A()\n",
    "\n",
    "a1.feature1()\n",
    "a2.feature2()\n",
    "\n",
    "b=B()\n",
    "\n",
    "b1.feature1()\n",
    "b2.feature2()\n",
    "b3.feature3()\n",
    "b4.feature4()"
   ]
  },
  {
   "cell_type": "markdown",
   "id": "0a3aa082",
   "metadata": {},
   "source": [
    "#### multilevel"
   ]
  },
  {
   "cell_type": "code",
   "execution_count": 61,
   "id": "a68b1ca6",
   "metadata": {},
   "outputs": [
    {
     "name": "stdout",
     "output_type": "stream",
     "text": [
      "feature 1 is working\n",
      "feature 2 is working\n",
      "feature 1 is working\n",
      "feature 2 is working\n",
      "feature 3 is working\n",
      "feature 4 is working\n",
      "feature 1 is working\n",
      "feature 2 is working\n",
      "feature 3 is working\n",
      "feature 4 is working\n",
      "feature 5 is working\n",
      "feature 6 is working\n"
     ]
    }
   ],
   "source": [
    "class A:\n",
    "    def feature1(self):\n",
    "        print(\"feature 1 is working\")\n",
    "    def feature2(self):\n",
    "        print(\"feature 2 is working\")\n",
    "        \n",
    "class B(A):\n",
    "    def feature3(self):\n",
    "        print(\"feature 3 is working\")\n",
    "    def feature4(self):\n",
    "        print(\"feature 4 is working\")\n",
    "        \n",
    "class C(B):\n",
    "    def feature5(self):\n",
    "        print(\"feature 5 is working\")\n",
    "    def feature6(self):\n",
    "        print(\"feature 6 is working\")\n",
    "        \n",
    "        \n",
    "a=A()\n",
    "\n",
    "a.feature1()\n",
    "a.feature2()\n",
    "\n",
    "b=B()\n",
    "\n",
    "b.feature1()\n",
    "b.feature2()\n",
    "b.feature3()\n",
    "b.feature4()\n",
    "\n",
    "c=C()\n",
    "\n",
    "c.feature1()\n",
    "c.feature2()\n",
    "c.feature3()\n",
    "c.feature4()\n",
    "c.feature5()\n",
    "c.feature6()"
   ]
  },
  {
   "cell_type": "markdown",
   "id": "fe94bfb6",
   "metadata": {},
   "source": [
    "#### multiple"
   ]
  },
  {
   "cell_type": "code",
   "execution_count": 63,
   "id": "a0f7bab6",
   "metadata": {},
   "outputs": [
    {
     "name": "stdout",
     "output_type": "stream",
     "text": [
      "feature 1 is working\n",
      "feature 2 is working\n",
      "feature 3 is working\n",
      "feature 4 is working\n",
      "feature 1 is working\n",
      "feature 2 is working\n",
      "feature 3 is working\n",
      "feature 4 is working\n",
      "feature 5 is working\n",
      "feature 6 is working\n"
     ]
    }
   ],
   "source": [
    "class A:\n",
    "    def feature1(self):\n",
    "        print(\"feature 1 is working\")\n",
    "    def feature2(self):\n",
    "        print(\"feature 2 is working\")\n",
    "        \n",
    "class B:\n",
    "    def feature3(self):\n",
    "        print(\"feature 3 is working\")\n",
    "    def feature4(self):\n",
    "        print(\"feature 4 is working\")\n",
    "        \n",
    "class C(A,B):\n",
    "    def feature5(self):\n",
    "        print(\"feature 5 is working\")\n",
    "    def feature6(self):\n",
    "        print(\"feature 6 is working\")\n",
    "        \n",
    "a=A()\n",
    "\n",
    "a.feature1()\n",
    "a.feature2()\n",
    "\n",
    "b=B()\n",
    "\n",
    "b.feature3()\n",
    "b.feature4()\n",
    "\n",
    "c=C()\n",
    "\n",
    "c.feature1()\n",
    "c.feature2()\n",
    "c.feature3()\n",
    "c.feature4()\n",
    "c.feature5()\n",
    "c.feature6()"
   ]
  },
  {
   "cell_type": "code",
   "execution_count": null,
   "id": "06230049",
   "metadata": {},
   "outputs": [],
   "source": []
  },
  {
   "cell_type": "markdown",
   "id": "8bf144d6",
   "metadata": {},
   "source": [
    "### constructors in inheritance"
   ]
  },
  {
   "cell_type": "code",
   "execution_count": 64,
   "id": "86e3e30a",
   "metadata": {},
   "outputs": [
    {
     "name": "stdout",
     "output_type": "stream",
     "text": [
      "in A init\n",
      "in A init\n"
     ]
    }
   ],
   "source": [
    "class A:\n",
    "    \n",
    "    def __init__(self):\n",
    "        print(\"in A init\")\n",
    "        \n",
    "    def feature1(self):\n",
    "        print(\"feature 1 is working\")\n",
    "    def feature2(self):\n",
    "        print(\"feature 2 is working\")\n",
    "        \n",
    "class B(A):\n",
    "    def feature3(self):\n",
    "        print(\"feature 3 is working\")\n",
    "    def feature4(self):\n",
    "        print(\"feature 4 is working\")\n",
    "        \n",
    "a=A()\n",
    "\n",
    "b=B()"
   ]
  },
  {
   "cell_type": "code",
   "execution_count": 67,
   "id": "c6e0fe9a",
   "metadata": {},
   "outputs": [
    {
     "name": "stdout",
     "output_type": "stream",
     "text": [
      "in A init\n",
      "in B init\n"
     ]
    }
   ],
   "source": [
    "class A:\n",
    "    \n",
    "    def __init__(self):\n",
    "        print(\"in A init\")\n",
    "        \n",
    "    def feature1(self):\n",
    "        print(\"feature 1 is working\")\n",
    "    def feature2(self):\n",
    "        print(\"feature 2 is working\")\n",
    "        \n",
    "class B(A):\n",
    "    \n",
    "    def __init__(self):\n",
    "        print(\"in B init\")\n",
    "        \n",
    "    def feature3(self):\n",
    "        print(\"feature 3 is working\")\n",
    "    def feature4(self):\n",
    "        print(\"feature 4 is working\")\n",
    "        \n",
    "a=A()\n",
    "\n",
    "b=B()"
   ]
  },
  {
   "cell_type": "code",
   "execution_count": 68,
   "id": "515924f5",
   "metadata": {},
   "outputs": [
    {
     "name": "stdout",
     "output_type": "stream",
     "text": [
      "in A init\n",
      "in A init\n",
      "in B init\n"
     ]
    }
   ],
   "source": [
    "class A:\n",
    "    \n",
    "    def __init__(self):\n",
    "        print(\"in A init\")\n",
    "        \n",
    "    def feature1(self):\n",
    "        print(\"feature 1 is working\")\n",
    "    def feature2(self):\n",
    "        print(\"feature 2 is working\")\n",
    "        \n",
    "class B(A):\n",
    "    \n",
    "    def __init__(self):\n",
    "        super().__init__()\n",
    "        print(\"in B init\")\n",
    "        \n",
    "    def feature3(self):\n",
    "        print(\"feature 3 is working\")\n",
    "    def feature4(self):\n",
    "        print(\"feature 4 is working\")\n",
    "        \n",
    "a=A()\n",
    "\n",
    "b=B()"
   ]
  },
  {
   "cell_type": "code",
   "execution_count": 69,
   "id": "7a4dd122",
   "metadata": {},
   "outputs": [
    {
     "name": "stdout",
     "output_type": "stream",
     "text": [
      "in C init\n"
     ]
    }
   ],
   "source": [
    "class A:\n",
    "    \n",
    "    def __init__(self):\n",
    "        print(\"in A init\")\n",
    "        \n",
    "    def feature1(self):\n",
    "        print(\"feature 1 is working\")\n",
    "    def feature2(self):\n",
    "        print(\"feature 2 is working\")\n",
    "        \n",
    "class B:\n",
    "    \n",
    "    def __init__(self):\n",
    "        print(\"in B init\")\n",
    "        \n",
    "    def feature3(self):\n",
    "        print(\"feature 3 is working\")\n",
    "    def feature4(self):\n",
    "        print(\"feature 4 is working\")\n",
    "        \n",
    "class C(A,B):\n",
    "    \n",
    "    def __init__(self):\n",
    "        print(\"in C init\")\n",
    "        \n",
    "    def feature5(self):\n",
    "        print(\"feature 5 is working\")\n",
    "    def feature6(self):\n",
    "        print(\"feature 6 is working\")\n",
    "        \n",
    "c=C()"
   ]
  },
  {
   "cell_type": "code",
   "execution_count": 70,
   "id": "f154bd54",
   "metadata": {},
   "outputs": [
    {
     "name": "stdout",
     "output_type": "stream",
     "text": [
      "in A init\n",
      "in C init\n"
     ]
    }
   ],
   "source": [
    "class A:\n",
    "    \n",
    "    def __init__(self):\n",
    "        print(\"in A init\")\n",
    "        \n",
    "    def feature1(self):\n",
    "        print(\"feature 1 is working\")\n",
    "    def feature2(self):\n",
    "        print(\"feature 2 is working\")\n",
    "        \n",
    "class B:\n",
    "    \n",
    "    def __init__(self):\n",
    "        print(\"in B init\")\n",
    "        \n",
    "    def feature3(self):\n",
    "        print(\"feature 3 is working\")\n",
    "    def feature4(self):\n",
    "        print(\"feature 4 is working\")\n",
    "        \n",
    "class C(A,B):\n",
    "    \n",
    "    def __init__(self):\n",
    "        super().__init__()\n",
    "        print(\"in C init\")\n",
    "        \n",
    "    def feature5(self):\n",
    "        print(\"feature 5 is working\")\n",
    "    def feature6(self):\n",
    "        print(\"feature 6 is working\")\n",
    "        \n",
    "c=C()"
   ]
  },
  {
   "cell_type": "code",
   "execution_count": null,
   "id": "11abfb3b",
   "metadata": {},
   "outputs": [],
   "source": []
  },
  {
   "cell_type": "code",
   "execution_count": 71,
   "id": "b7290a72",
   "metadata": {},
   "outputs": [
    {
     "name": "stdout",
     "output_type": "stream",
     "text": [
      "in A init\n",
      "in C init\n",
      "feature 1-A is working\n"
     ]
    }
   ],
   "source": [
    "class A:\n",
    "    \n",
    "    def __init__(self):\n",
    "        print(\"in A init\")\n",
    "        \n",
    "    def feature1(self):\n",
    "        print(\"feature 1-A is working\")\n",
    "    def feature2(self):\n",
    "        print(\"feature 2 is working\")\n",
    "        \n",
    "class B:\n",
    "    \n",
    "    def __init__(self):\n",
    "        print(\"in B init\")\n",
    "        \n",
    "    def feature3(self):\n",
    "        print(\"feature 1-B is working\")\n",
    "    def feature4(self):\n",
    "        print(\"feature 4 is working\")\n",
    "        \n",
    "class C(A,B):\n",
    "    \n",
    "    def __init__(self):\n",
    "        super().__init__()\n",
    "        print(\"in C init\")\n",
    "        \n",
    "    def feature5(self):\n",
    "        print(\"feature 5 is working\")\n",
    "    def feature6(self):\n",
    "        print(\"feature 6 is working\")\n",
    "        \n",
    "a=C()\n",
    "a.feature1()"
   ]
  },
  {
   "cell_type": "code",
   "execution_count": 72,
   "id": "f9d4e23b",
   "metadata": {},
   "outputs": [
    {
     "name": "stdout",
     "output_type": "stream",
     "text": [
      "in A init\n",
      "in C init\n",
      "feature 2 is working\n"
     ]
    }
   ],
   "source": [
    "class A:\n",
    "    \n",
    "    def __init__(self):\n",
    "        print(\"in A init\")\n",
    "        \n",
    "    def feature1(self):\n",
    "        print(\"feature 1 is working\")\n",
    "    def feature2(self):\n",
    "        print(\"feature 2 is working\")\n",
    "        \n",
    "class B:\n",
    "    \n",
    "    def __init__(self):\n",
    "        print(\"in B init\")\n",
    "        \n",
    "    def feature3(self):\n",
    "        print(\"feature 3 is working\")\n",
    "    def feature4(self):\n",
    "        print(\"feature 4 is working\")\n",
    "        \n",
    "class C(A,B):\n",
    "    \n",
    "    def __init__(self):\n",
    "        super().__init__()\n",
    "        print(\"in C init\")\n",
    "        \n",
    "    def feature5(self):\n",
    "        print(\"feature 5 is working\")\n",
    "    def feature6(self):\n",
    "        print(\"feature 6 is working\")\n",
    "        \n",
    "    def feat(self):\n",
    "        super().feature2()\n",
    "        \n",
    "c=C()\n",
    "c.feat()"
   ]
  },
  {
   "cell_type": "code",
   "execution_count": null,
   "id": "3d8d4a2d",
   "metadata": {},
   "outputs": [],
   "source": []
  },
  {
   "cell_type": "markdown",
   "id": "350c341c",
   "metadata": {},
   "source": [
    "## Polymorphism\n",
    "    * object have many forms\n",
    "    * followinf 4 ways we can do polymorphism"
   ]
  },
  {
   "cell_type": "markdown",
   "id": "61d8cecd",
   "metadata": {},
   "source": [
    "### Duck typing"
   ]
  },
  {
   "cell_type": "code",
   "execution_count": 81,
   "id": "c2d0fe3c",
   "metadata": {},
   "outputs": [
    {
     "name": "stdout",
     "output_type": "stream",
     "text": [
      "Compiling\n",
      "Running\n"
     ]
    }
   ],
   "source": [
    "class jupyter:\n",
    "    def execute(self):\n",
    "        print(\"Compiling\")\n",
    "        print(\"Running\")\n",
    "\n",
    "class Laptop:\n",
    "    \n",
    "    def code(self, IDE):\n",
    "        IDE.execute()\n",
    "        \n",
    "IDE=jupyter()\n",
    "\n",
    "lap1=Laptop()\n",
    "\n",
    "lap1.code(IDE)"
   ]
  },
  {
   "cell_type": "code",
   "execution_count": 82,
   "id": "2a376834",
   "metadata": {},
   "outputs": [
    {
     "name": "stdout",
     "output_type": "stream",
     "text": [
      "Spell check\n",
      "Convention check\n",
      "Compiling\n",
      "Running\n"
     ]
    }
   ],
   "source": [
    "class jupyter:\n",
    "    def execute(self):\n",
    "        print(\"Compiling\")\n",
    "        print(\"Running\")\n",
    "        \n",
    "class MyEditor:\n",
    "    def execute(self):\n",
    "        print(\"Spell check\")\n",
    "        print(\"Convention check\")\n",
    "        print(\"Compiling\")\n",
    "        print(\"Running\")\n",
    "        \n",
    "\n",
    "class Laptop:\n",
    "    \n",
    "    def code(self, IDE):\n",
    "        IDE.execute()\n",
    "        \n",
    "IDE=MyEditor()\n",
    "\n",
    "lap1=Laptop()\n",
    "\n",
    "lap1.code(IDE)"
   ]
  },
  {
   "cell_type": "code",
   "execution_count": null,
   "id": "a61df603",
   "metadata": {},
   "outputs": [],
   "source": []
  },
  {
   "cell_type": "markdown",
   "id": "67e5930c",
   "metadata": {},
   "source": [
    "### Operator overloading"
   ]
  },
  {
   "cell_type": "code",
   "execution_count": 3,
   "id": "5854dadb",
   "metadata": {},
   "outputs": [
    {
     "name": "stdout",
     "output_type": "stream",
     "text": [
      "11\n",
      "11\n"
     ]
    }
   ],
   "source": [
    "a=5\n",
    "b=6\n",
    "print(a+b)\n",
    "print(int.__add__(a,b))"
   ]
  },
  {
   "cell_type": "code",
   "execution_count": 5,
   "id": "de477da3",
   "metadata": {},
   "outputs": [
    {
     "name": "stdout",
     "output_type": "stream",
     "text": [
      "surajsush\n",
      "surajsush\n"
     ]
    }
   ],
   "source": [
    "a='suraj'\n",
    "b='sush'\n",
    "print(a+b)\n",
    "print(str.__add__(a,b))"
   ]
  },
  {
   "cell_type": "code",
   "execution_count": 16,
   "id": "1990da4a",
   "metadata": {},
   "outputs": [
    {
     "name": "stdout",
     "output_type": "stream",
     "text": [
      "110\n",
      "120\n"
     ]
    }
   ],
   "source": [
    "class Student:\n",
    "    def __init__(self,m1,m2):\n",
    "        self.m1=m1\n",
    "        self.m2=m2\n",
    "        \n",
    "    def __add__(self,other):\n",
    "        m1=self.m1+other.m1\n",
    "        m2=self.m2+other.m2\n",
    "        s3=Student(m1,m2)\n",
    "        \n",
    "        return s3\n",
    "        \n",
    "s1=Student(50,60)\n",
    "s2=Student(60,60)\n",
    "\n",
    "s3=s1 + s2\n",
    "\n",
    "print(s3.m1)\n",
    "print(s3.m2)"
   ]
  },
  {
   "cell_type": "code",
   "execution_count": 18,
   "id": "725a1f8a",
   "metadata": {},
   "outputs": [
    {
     "name": "stdout",
     "output_type": "stream",
     "text": [
      "s2 wins\n"
     ]
    }
   ],
   "source": [
    "class Student:\n",
    "    def __init__(self,m1,m2):\n",
    "        self.m1=m1\n",
    "        self.m2=m2\n",
    "        \n",
    "    def __add__(self,other):\n",
    "        m1=self.m1+other.m1\n",
    "        m2=self.m2+other.m2\n",
    "        s3=Student(m1,m2)\n",
    "        \n",
    "        return s3\n",
    "    \n",
    "    def __gt__(self,other):\n",
    "        r1=self.m1+self.m2\n",
    "        r2=other.m1+other.m2\n",
    "        \n",
    "s1=Student(50,60)\n",
    "s2=Student(60,60)\n",
    "\n",
    "s3=s1 + s2\n",
    "\n",
    "if s1>s2:\n",
    "    print(\"s1 wins\")\n",
    "else:\n",
    "    print(\"s2 wins\")"
   ]
  },
  {
   "cell_type": "code",
   "execution_count": 20,
   "id": "899a1c1c",
   "metadata": {},
   "outputs": [
    {
     "name": "stdout",
     "output_type": "stream",
     "text": [
      "s2 wins\n"
     ]
    }
   ],
   "source": [
    "class Student:\n",
    "    def __init__(self,m1,m2):\n",
    "        self.m1=m1\n",
    "        self.m2=m2\n",
    "        \n",
    "    def __add__(self,other):\n",
    "        m1=self.m1+other.m1\n",
    "        m2=self.m2+other.m2\n",
    "        s3=Student(m1,m2)\n",
    "        \n",
    "        return s3\n",
    "    \n",
    "    def __gt__(self,other):\n",
    "        r1=self.m1+self.m2\n",
    "        r2=other.m1+other.m2\n",
    "        if r1>r2:\n",
    "            return True\n",
    "        else:\n",
    "            return False\n",
    "        \n",
    "s1=Student(50,60)\n",
    "s2=Student(60,60)\n",
    "\n",
    "s3=s1 + s2\n",
    "\n",
    "if s1>s2:\n",
    "    print(\"s1 wins\")\n",
    "else:\n",
    "    print(\"s2 wins\")"
   ]
  },
  {
   "cell_type": "code",
   "execution_count": null,
   "id": "8b9fd4d5",
   "metadata": {},
   "outputs": [],
   "source": []
  },
  {
   "cell_type": "markdown",
   "id": "cd7f8f1d",
   "metadata": {},
   "source": [
    "### operator overriding"
   ]
  },
  {
   "cell_type": "code",
   "execution_count": 27,
   "id": "c5de4a7b",
   "metadata": {},
   "outputs": [
    {
     "name": "stdout",
     "output_type": "stream",
     "text": [
      "9\n",
      "(50, 60)\n",
      "(60, 60)\n"
     ]
    }
   ],
   "source": [
    "class Student:\n",
    "    def __init__(self,m1,m2):\n",
    "        self.m1=m1\n",
    "        self.m2=m2\n",
    "        \n",
    "    def __add__(self,other):\n",
    "        m1=self.m1+other.m1\n",
    "        m2=self.m2+other.m2\n",
    "        s3=Student(m1,m2)\n",
    "        \n",
    "        return s3\n",
    "    \n",
    "    def __gt__(self,other):\n",
    "        r1=self.m1+self.m2\n",
    "        r2=other.m1+other.m2\n",
    "        if r1>r2:\n",
    "            return True\n",
    "        else:\n",
    "            return False\n",
    "        \n",
    "    def __str__(self):\n",
    "        return self.m1, self.m2\n",
    "        \n",
    "s1=Student(50,60)\n",
    "s2=Student(60,60)\n",
    "\n",
    "s3=s1 + s2\n",
    "\n",
    "a=9\n",
    "print(a.__str__())\n",
    "\n",
    "print(s1.__str__())\n",
    "print(s2.__str__())"
   ]
  },
  {
   "cell_type": "code",
   "execution_count": 28,
   "id": "931eb555",
   "metadata": {},
   "outputs": [
    {
     "name": "stdout",
     "output_type": "stream",
     "text": [
      "9\n",
      "50 60\n",
      "60 60\n"
     ]
    }
   ],
   "source": [
    "class Student:\n",
    "    def __init__(self,m1,m2):\n",
    "        self.m1=m1\n",
    "        self.m2=m2\n",
    "        \n",
    "    def __add__(self,other):\n",
    "        m1=self.m1+other.m1\n",
    "        m2=self.m2+other.m2\n",
    "        s3=Student(m1,m2)\n",
    "        \n",
    "        return s3\n",
    "    \n",
    "    def __gt__(self,other):\n",
    "        r1=self.m1+self.m2\n",
    "        r2=other.m1+other.m2\n",
    "        if r1>r2:\n",
    "            return True\n",
    "        else:\n",
    "            return False\n",
    "        \n",
    "    def __str__(self):\n",
    "        return \"{} {}\".format(self.m1, self.m2)\n",
    "        \n",
    "s1=Student(50,60)\n",
    "s2=Student(60,60)\n",
    "\n",
    "s3=s1 + s2\n",
    "\n",
    "a=9\n",
    "print(a.__str__())\n",
    "\n",
    "print(s1)\n",
    "print(s2)"
   ]
  },
  {
   "cell_type": "code",
   "execution_count": null,
   "id": "f9df02f1",
   "metadata": {},
   "outputs": [],
   "source": []
  },
  {
   "cell_type": "markdown",
   "id": "70b9e993",
   "metadata": {},
   "source": [
    "### method overloading"
   ]
  },
  {
   "cell_type": "code",
   "execution_count": 33,
   "id": "6138a887",
   "metadata": {},
   "outputs": [
    {
     "name": "stdout",
     "output_type": "stream",
     "text": [
      "18\n"
     ]
    }
   ],
   "source": [
    "class Student:\n",
    "    def __init__(self,m1,m2):\n",
    "        self.m1=m1\n",
    "        self.m2=m2\n",
    "        \n",
    "    def sum(self, a,b):\n",
    "        s=a+b\n",
    "        \n",
    "        return s\n",
    "    \n",
    "s1=Student(56,65)\n",
    "\n",
    "print(s1.sum(9,9))"
   ]
  },
  {
   "cell_type": "code",
   "execution_count": 42,
   "id": "faf1ac04",
   "metadata": {},
   "outputs": [
    {
     "name": "stdout",
     "output_type": "stream",
     "text": [
      "None\n",
      "9\n",
      "18\n",
      "24\n"
     ]
    }
   ],
   "source": [
    "class Student:\n",
    "    \n",
    "    def __init__(self,m1,m2):\n",
    "        self.m1=m1\n",
    "        self.m2=m2\n",
    "        \n",
    "    def sum(self, a=None,b=None,c=None):\n",
    "        \n",
    "        s=0\n",
    "        \n",
    "        if a!=None and b!=None and c!=None:\n",
    "            s=a+b+c\n",
    "        elif a!=None and b!=None:\n",
    "            s=a+b\n",
    "        else:\n",
    "            s=a\n",
    "        \n",
    "        return s\n",
    "    \n",
    "s1=Student(56,65)\n",
    "\n",
    "print(s1.sum())\n",
    "print(s1.sum(9))\n",
    "print(s1.sum(9,9))\n",
    "print(s1.sum(9,8,7))"
   ]
  },
  {
   "cell_type": "code",
   "execution_count": null,
   "id": "ddf780f5",
   "metadata": {},
   "outputs": [],
   "source": []
  },
  {
   "cell_type": "markdown",
   "id": "62baa438",
   "metadata": {},
   "source": [
    "### method overriding"
   ]
  },
  {
   "cell_type": "code",
   "execution_count": 43,
   "id": "25f555ca",
   "metadata": {},
   "outputs": [
    {
     "name": "stdout",
     "output_type": "stream",
     "text": [
      "in A show\n"
     ]
    }
   ],
   "source": [
    "class A:\n",
    "    def show(self):\n",
    "        print(\"in A show\")\n",
    "        \n",
    "a=A()\n",
    "\n",
    "a.show()"
   ]
  },
  {
   "cell_type": "code",
   "execution_count": 44,
   "id": "020eecbf",
   "metadata": {},
   "outputs": [
    {
     "name": "stdout",
     "output_type": "stream",
     "text": [
      "in A show\n"
     ]
    }
   ],
   "source": [
    "class A:\n",
    "    def show(self):\n",
    "        print(\"in A show\")\n",
    "        \n",
    "class B(A):\n",
    "    pass\n",
    "\n",
    "        \n",
    "a=B()\n",
    "\n",
    "a.show()"
   ]
  },
  {
   "cell_type": "code",
   "execution_count": 45,
   "id": "1eb8af93",
   "metadata": {},
   "outputs": [
    {
     "name": "stdout",
     "output_type": "stream",
     "text": [
      "in B show\n"
     ]
    }
   ],
   "source": [
    "class A:\n",
    "    def show(self):\n",
    "        print(\"in A show\")\n",
    "        \n",
    "class B(A):\n",
    "    def show(self):\n",
    "        print(\"in B show\")\n",
    "\n",
    "        \n",
    "a=B()\n",
    "\n",
    "a.show()"
   ]
  },
  {
   "cell_type": "code",
   "execution_count": null,
   "id": "11422a25",
   "metadata": {},
   "outputs": [],
   "source": []
  }
 ],
 "metadata": {
  "kernelspec": {
   "display_name": "Python 3 (ipykernel)",
   "language": "python",
   "name": "python3"
  },
  "language_info": {
   "codemirror_mode": {
    "name": "ipython",
    "version": 3
   },
   "file_extension": ".py",
   "mimetype": "text/x-python",
   "name": "python",
   "nbconvert_exporter": "python",
   "pygments_lexer": "ipython3",
   "version": "3.9.7"
  }
 },
 "nbformat": 4,
 "nbformat_minor": 5
}
