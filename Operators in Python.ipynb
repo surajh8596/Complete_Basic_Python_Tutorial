{
 "cells": [
  {
   "cell_type": "markdown",
   "id": "b35010df",
   "metadata": {},
   "source": [
    "## Python Operators"
   ]
  },
  {
   "cell_type": "markdown",
   "id": "1e63f063",
   "metadata": {},
   "source": [
    "1. Operators are used to perform some operations on variables and values.\n",
    "2. Below is the list of operators in Python:\n",
    "\n",
    "            - Arithmetic Operator\n",
    "            - Assignment Operator\n",
    "            - Comparison Operators\n",
    "            - Logical Operators\n",
    "            - Identity Operators\n",
    "            - Membership Operators \n",
    "            - Bitwise Operators"
   ]
  },
  {
   "cell_type": "markdown",
   "id": "8607c530",
   "metadata": {},
   "source": [
    "# 1. Arithmatic operator"
   ]
  },
  {
   "cell_type": "code",
   "execution_count": 2,
   "id": "7804eafd",
   "metadata": {},
   "outputs": [],
   "source": [
    "# addition, subtraction, multiplication, division, modulus, exponential, floor division"
   ]
  },
  {
   "cell_type": "code",
   "execution_count": 3,
   "id": "9df9ce26",
   "metadata": {},
   "outputs": [],
   "source": [
    "## 1) addition"
   ]
  },
  {
   "cell_type": "code",
   "execution_count": 4,
   "id": "bbb633c7",
   "metadata": {},
   "outputs": [
    {
     "data": {
      "text/plain": [
       "8"
      ]
     },
     "execution_count": 4,
     "metadata": {},
     "output_type": "execute_result"
    }
   ],
   "source": [
    "4+4"
   ]
  },
  {
   "cell_type": "code",
   "execution_count": 5,
   "id": "176383f5",
   "metadata": {},
   "outputs": [],
   "source": [
    "a=10\n",
    "b=20"
   ]
  },
  {
   "cell_type": "code",
   "execution_count": 6,
   "id": "748914c8",
   "metadata": {},
   "outputs": [
    {
     "data": {
      "text/plain": [
       "30"
      ]
     },
     "execution_count": 6,
     "metadata": {},
     "output_type": "execute_result"
    }
   ],
   "source": [
    "a+b"
   ]
  },
  {
   "cell_type": "code",
   "execution_count": 7,
   "id": "4f969fb2",
   "metadata": {},
   "outputs": [
    {
     "name": "stdout",
     "output_type": "stream",
     "text": [
      "30\n"
     ]
    }
   ],
   "source": [
    "print(a+b)"
   ]
  },
  {
   "cell_type": "code",
   "execution_count": 9,
   "id": "17540a8c",
   "metadata": {},
   "outputs": [
    {
     "data": {
      "text/plain": [
       "int"
      ]
     },
     "execution_count": 9,
     "metadata": {},
     "output_type": "execute_result"
    }
   ],
   "source": [
    "type(a+b)"
   ]
  },
  {
   "cell_type": "code",
   "execution_count": null,
   "id": "23bb1c63",
   "metadata": {},
   "outputs": [],
   "source": []
  },
  {
   "cell_type": "code",
   "execution_count": 10,
   "id": "56efcd27",
   "metadata": {},
   "outputs": [],
   "source": [
    "##2. subtraction"
   ]
  },
  {
   "cell_type": "code",
   "execution_count": 11,
   "id": "8c59dafb",
   "metadata": {},
   "outputs": [
    {
     "data": {
      "text/plain": [
       "2"
      ]
     },
     "execution_count": 11,
     "metadata": {},
     "output_type": "execute_result"
    }
   ],
   "source": [
    "10-8"
   ]
  },
  {
   "cell_type": "code",
   "execution_count": 12,
   "id": "ae01f9a1",
   "metadata": {},
   "outputs": [
    {
     "name": "stdout",
     "output_type": "stream",
     "text": [
      "2\n"
     ]
    }
   ],
   "source": [
    "print(10-8)"
   ]
  },
  {
   "cell_type": "code",
   "execution_count": 14,
   "id": "950c4c87",
   "metadata": {},
   "outputs": [
    {
     "data": {
      "text/plain": [
       "-10"
      ]
     },
     "execution_count": 14,
     "metadata": {},
     "output_type": "execute_result"
    }
   ],
   "source": [
    "a-b"
   ]
  },
  {
   "cell_type": "code",
   "execution_count": 13,
   "id": "02c7d0b9",
   "metadata": {},
   "outputs": [
    {
     "data": {
      "text/plain": [
       "int"
      ]
     },
     "execution_count": 13,
     "metadata": {},
     "output_type": "execute_result"
    }
   ],
   "source": [
    "type(a-b)"
   ]
  },
  {
   "cell_type": "code",
   "execution_count": null,
   "id": "82ac2f01",
   "metadata": {},
   "outputs": [],
   "source": []
  },
  {
   "cell_type": "code",
   "execution_count": 15,
   "id": "5183c4b4",
   "metadata": {},
   "outputs": [],
   "source": [
    "##3) multiplication"
   ]
  },
  {
   "cell_type": "code",
   "execution_count": 16,
   "id": "ce59179b",
   "metadata": {},
   "outputs": [
    {
     "data": {
      "text/plain": [
       "36"
      ]
     },
     "execution_count": 16,
     "metadata": {},
     "output_type": "execute_result"
    }
   ],
   "source": [
    "12*3"
   ]
  },
  {
   "cell_type": "code",
   "execution_count": 17,
   "id": "1bacfad0",
   "metadata": {},
   "outputs": [
    {
     "data": {
      "text/plain": [
       "200"
      ]
     },
     "execution_count": 17,
     "metadata": {},
     "output_type": "execute_result"
    }
   ],
   "source": [
    "a*b"
   ]
  },
  {
   "cell_type": "code",
   "execution_count": 18,
   "id": "baf553fc",
   "metadata": {},
   "outputs": [
    {
     "data": {
      "text/plain": [
       "int"
      ]
     },
     "execution_count": 18,
     "metadata": {},
     "output_type": "execute_result"
    }
   ],
   "source": [
    "type(a*b)"
   ]
  },
  {
   "cell_type": "code",
   "execution_count": null,
   "id": "58bb1d46",
   "metadata": {},
   "outputs": [],
   "source": []
  },
  {
   "cell_type": "code",
   "execution_count": 19,
   "id": "183cdd7d",
   "metadata": {},
   "outputs": [
    {
     "data": {
      "text/plain": [
       "0.20000000000000107"
      ]
     },
     "execution_count": 19,
     "metadata": {},
     "output_type": "execute_result"
    }
   ],
   "source": [
    "12.4-12.2"
   ]
  },
  {
   "cell_type": "code",
   "execution_count": 20,
   "id": "3e6410e1",
   "metadata": {},
   "outputs": [
    {
     "data": {
      "text/plain": [
       "float"
      ]
     },
     "execution_count": 20,
     "metadata": {},
     "output_type": "execute_result"
    }
   ],
   "source": [
    "type(12.4-12.2)"
   ]
  },
  {
   "cell_type": "code",
   "execution_count": null,
   "id": "e377b975",
   "metadata": {},
   "outputs": [],
   "source": []
  },
  {
   "cell_type": "code",
   "execution_count": 21,
   "id": "eadd4130",
   "metadata": {},
   "outputs": [],
   "source": [
    "##4. division"
   ]
  },
  {
   "cell_type": "code",
   "execution_count": 22,
   "id": "22d0dfe0",
   "metadata": {},
   "outputs": [
    {
     "data": {
      "text/plain": [
       "3.0"
      ]
     },
     "execution_count": 22,
     "metadata": {},
     "output_type": "execute_result"
    }
   ],
   "source": [
    "12/4"
   ]
  },
  {
   "cell_type": "code",
   "execution_count": 23,
   "id": "38be8315",
   "metadata": {},
   "outputs": [
    {
     "data": {
      "text/plain": [
       "float"
      ]
     },
     "execution_count": 23,
     "metadata": {},
     "output_type": "execute_result"
    }
   ],
   "source": [
    "type(12/4)"
   ]
  },
  {
   "cell_type": "code",
   "execution_count": null,
   "id": "76997836",
   "metadata": {},
   "outputs": [],
   "source": []
  },
  {
   "cell_type": "code",
   "execution_count": 24,
   "id": "c3210d0a",
   "metadata": {},
   "outputs": [],
   "source": [
    "##5) modulus(%)- modulus used to calculate remainder"
   ]
  },
  {
   "cell_type": "code",
   "execution_count": 25,
   "id": "4151482f",
   "metadata": {},
   "outputs": [
    {
     "data": {
      "text/plain": [
       "1"
      ]
     },
     "execution_count": 25,
     "metadata": {},
     "output_type": "execute_result"
    }
   ],
   "source": [
    "15%2"
   ]
  },
  {
   "cell_type": "code",
   "execution_count": 27,
   "id": "b3bdc033",
   "metadata": {},
   "outputs": [
    {
     "data": {
      "text/plain": [
       "2"
      ]
     },
     "execution_count": 27,
     "metadata": {},
     "output_type": "execute_result"
    }
   ],
   "source": [
    "101%3"
   ]
  },
  {
   "cell_type": "code",
   "execution_count": null,
   "id": "be75cede",
   "metadata": {},
   "outputs": [],
   "source": []
  },
  {
   "cell_type": "code",
   "execution_count": 28,
   "id": "f87eac02",
   "metadata": {},
   "outputs": [],
   "source": [
    "##6) Exponential(**)"
   ]
  },
  {
   "cell_type": "code",
   "execution_count": 29,
   "id": "e9aef322",
   "metadata": {},
   "outputs": [
    {
     "data": {
      "text/plain": [
       "4"
      ]
     },
     "execution_count": 29,
     "metadata": {},
     "output_type": "execute_result"
    }
   ],
   "source": [
    "2**2"
   ]
  },
  {
   "cell_type": "code",
   "execution_count": null,
   "id": "bdecb9dc",
   "metadata": {},
   "outputs": [],
   "source": []
  },
  {
   "cell_type": "code",
   "execution_count": 30,
   "id": "e4e1d882",
   "metadata": {},
   "outputs": [],
   "source": [
    "## 7) floor divition or true division (//)- floor division removes flooting point"
   ]
  },
  {
   "cell_type": "code",
   "execution_count": 32,
   "id": "d7b7a5c1",
   "metadata": {},
   "outputs": [
    {
     "data": {
      "text/plain": [
       "3.8"
      ]
     },
     "execution_count": 32,
     "metadata": {},
     "output_type": "execute_result"
    }
   ],
   "source": [
    "19/5"
   ]
  },
  {
   "cell_type": "code",
   "execution_count": 33,
   "id": "c3da3a90",
   "metadata": {},
   "outputs": [
    {
     "data": {
      "text/plain": [
       "3"
      ]
     },
     "execution_count": 33,
     "metadata": {},
     "output_type": "execute_result"
    }
   ],
   "source": [
    "19//5"
   ]
  },
  {
   "cell_type": "code",
   "execution_count": null,
   "id": "3e02e17e",
   "metadata": {},
   "outputs": [],
   "source": []
  },
  {
   "cell_type": "markdown",
   "id": "1c5e0871",
   "metadata": {},
   "source": [
    "# 2. Assignment Operator"
   ]
  },
  {
   "cell_type": "code",
   "execution_count": 81,
   "id": "f6f97f66",
   "metadata": {},
   "outputs": [],
   "source": [
    "##   =, +=, -=, *=, /=, %=, //=, **="
   ]
  },
  {
   "cell_type": "code",
   "execution_count": 60,
   "id": "2d8d9c67",
   "metadata": {},
   "outputs": [],
   "source": [
    "x=5"
   ]
  },
  {
   "cell_type": "code",
   "execution_count": 36,
   "id": "ae7197ce",
   "metadata": {},
   "outputs": [],
   "source": [
    "#  (+=)"
   ]
  },
  {
   "cell_type": "code",
   "execution_count": 37,
   "id": "c48eb420",
   "metadata": {},
   "outputs": [],
   "source": [
    "x+=3 and x=x+3 both are same"
   ]
  },
  {
   "cell_type": "code",
   "execution_count": 61,
   "id": "cb61be05",
   "metadata": {},
   "outputs": [],
   "source": [
    "x=x+3"
   ]
  },
  {
   "cell_type": "code",
   "execution_count": 62,
   "id": "17d8fcb2",
   "metadata": {},
   "outputs": [
    {
     "data": {
      "text/plain": [
       "8"
      ]
     },
     "execution_count": 62,
     "metadata": {},
     "output_type": "execute_result"
    }
   ],
   "source": [
    "x"
   ]
  },
  {
   "cell_type": "code",
   "execution_count": 63,
   "id": "8123dcc7",
   "metadata": {},
   "outputs": [],
   "source": [
    "x=x+3"
   ]
  },
  {
   "cell_type": "code",
   "execution_count": 64,
   "id": "e3f932fd",
   "metadata": {},
   "outputs": [
    {
     "data": {
      "text/plain": [
       "11"
      ]
     },
     "execution_count": 64,
     "metadata": {},
     "output_type": "execute_result"
    }
   ],
   "source": [
    "x"
   ]
  },
  {
   "cell_type": "code",
   "execution_count": 40,
   "id": "b81cf711",
   "metadata": {},
   "outputs": [],
   "source": [
    "# (-=)"
   ]
  },
  {
   "cell_type": "code",
   "execution_count": 41,
   "id": "627fff65",
   "metadata": {},
   "outputs": [],
   "source": [
    "y=10"
   ]
  },
  {
   "cell_type": "code",
   "execution_count": 42,
   "id": "ca16bf7c",
   "metadata": {},
   "outputs": [],
   "source": [
    "y-=5"
   ]
  },
  {
   "cell_type": "code",
   "execution_count": 43,
   "id": "5d38c65a",
   "metadata": {},
   "outputs": [
    {
     "data": {
      "text/plain": [
       "5"
      ]
     },
     "execution_count": 43,
     "metadata": {},
     "output_type": "execute_result"
    }
   ],
   "source": [
    "y"
   ]
  },
  {
   "cell_type": "code",
   "execution_count": 44,
   "id": "cc78751d",
   "metadata": {},
   "outputs": [],
   "source": [
    "## (*=)"
   ]
  },
  {
   "cell_type": "code",
   "execution_count": 45,
   "id": "9318693e",
   "metadata": {},
   "outputs": [],
   "source": [
    "z=100"
   ]
  },
  {
   "cell_type": "code",
   "execution_count": 46,
   "id": "204c0884",
   "metadata": {},
   "outputs": [],
   "source": [
    "z*=5"
   ]
  },
  {
   "cell_type": "code",
   "execution_count": 47,
   "id": "94035824",
   "metadata": {},
   "outputs": [
    {
     "data": {
      "text/plain": [
       "500"
      ]
     },
     "execution_count": 47,
     "metadata": {},
     "output_type": "execute_result"
    }
   ],
   "source": [
    "z"
   ]
  },
  {
   "cell_type": "code",
   "execution_count": 48,
   "id": "70981e7c",
   "metadata": {},
   "outputs": [],
   "source": [
    "z=z*5"
   ]
  },
  {
   "cell_type": "code",
   "execution_count": 49,
   "id": "dc6a265a",
   "metadata": {},
   "outputs": [
    {
     "data": {
      "text/plain": [
       "2500"
      ]
     },
     "execution_count": 49,
     "metadata": {},
     "output_type": "execute_result"
    }
   ],
   "source": [
    "z"
   ]
  },
  {
   "cell_type": "code",
   "execution_count": 50,
   "id": "9e26a95f",
   "metadata": {},
   "outputs": [
    {
     "data": {
      "text/plain": [
       "2500"
      ]
     },
     "execution_count": 50,
     "metadata": {},
     "output_type": "execute_result"
    }
   ],
   "source": [
    "z"
   ]
  },
  {
   "cell_type": "code",
   "execution_count": null,
   "id": "692325da",
   "metadata": {},
   "outputs": [],
   "source": []
  },
  {
   "cell_type": "code",
   "execution_count": 66,
   "id": "99d00c16",
   "metadata": {},
   "outputs": [],
   "source": [
    "b=10"
   ]
  },
  {
   "cell_type": "code",
   "execution_count": 67,
   "id": "2c9d58e9",
   "metadata": {},
   "outputs": [],
   "source": [
    "b/=2"
   ]
  },
  {
   "cell_type": "code",
   "execution_count": 68,
   "id": "e89389c2",
   "metadata": {},
   "outputs": [
    {
     "data": {
      "text/plain": [
       "5.0"
      ]
     },
     "execution_count": 68,
     "metadata": {},
     "output_type": "execute_result"
    }
   ],
   "source": [
    "b"
   ]
  },
  {
   "cell_type": "code",
   "execution_count": 69,
   "id": "cccb5cf7",
   "metadata": {},
   "outputs": [
    {
     "data": {
      "text/plain": [
       "5.0"
      ]
     },
     "execution_count": 69,
     "metadata": {},
     "output_type": "execute_result"
    }
   ],
   "source": [
    "b"
   ]
  },
  {
   "cell_type": "code",
   "execution_count": 70,
   "id": "b92673e9",
   "metadata": {},
   "outputs": [],
   "source": [
    "b%=3"
   ]
  },
  {
   "cell_type": "code",
   "execution_count": 71,
   "id": "9a435a3f",
   "metadata": {},
   "outputs": [
    {
     "data": {
      "text/plain": [
       "2.0"
      ]
     },
     "execution_count": 71,
     "metadata": {},
     "output_type": "execute_result"
    }
   ],
   "source": [
    "b"
   ]
  },
  {
   "cell_type": "code",
   "execution_count": 72,
   "id": "4fc6ac80",
   "metadata": {},
   "outputs": [],
   "source": [
    "y=100"
   ]
  },
  {
   "cell_type": "code",
   "execution_count": 73,
   "id": "702b0d86",
   "metadata": {},
   "outputs": [],
   "source": [
    "y//=9"
   ]
  },
  {
   "cell_type": "code",
   "execution_count": 74,
   "id": "28b33dc4",
   "metadata": {},
   "outputs": [
    {
     "data": {
      "text/plain": [
       "11"
      ]
     },
     "execution_count": 74,
     "metadata": {},
     "output_type": "execute_result"
    }
   ],
   "source": [
    "y"
   ]
  },
  {
   "cell_type": "code",
   "execution_count": 75,
   "id": "d2aec505",
   "metadata": {},
   "outputs": [],
   "source": [
    "z=5"
   ]
  },
  {
   "cell_type": "code",
   "execution_count": 76,
   "id": "c1c4eaae",
   "metadata": {},
   "outputs": [],
   "source": [
    "z**=3"
   ]
  },
  {
   "cell_type": "code",
   "execution_count": 77,
   "id": "2f1e1f15",
   "metadata": {},
   "outputs": [
    {
     "data": {
      "text/plain": [
       "125"
      ]
     },
     "execution_count": 77,
     "metadata": {},
     "output_type": "execute_result"
    }
   ],
   "source": [
    "z"
   ]
  },
  {
   "cell_type": "code",
   "execution_count": null,
   "id": "19724b5e",
   "metadata": {},
   "outputs": [],
   "source": []
  },
  {
   "cell_type": "markdown",
   "id": "09c94e0c",
   "metadata": {},
   "source": [
    "# 3) Comparison operator"
   ]
  },
  {
   "cell_type": "code",
   "execution_count": 82,
   "id": "a72aaf47",
   "metadata": {},
   "outputs": [],
   "source": [
    "## (==, !=, >, <, <=,>=)"
   ]
  },
  {
   "cell_type": "code",
   "execution_count": 83,
   "id": "3158a9b2",
   "metadata": {},
   "outputs": [
    {
     "data": {
      "text/plain": [
       "False"
      ]
     },
     "execution_count": 83,
     "metadata": {},
     "output_type": "execute_result"
    }
   ],
   "source": [
    "10==20"
   ]
  },
  {
   "cell_type": "code",
   "execution_count": 84,
   "id": "09f02b56",
   "metadata": {},
   "outputs": [
    {
     "data": {
      "text/plain": [
       "True"
      ]
     },
     "execution_count": 84,
     "metadata": {},
     "output_type": "execute_result"
    }
   ],
   "source": [
    "100==100"
   ]
  },
  {
   "cell_type": "code",
   "execution_count": 85,
   "id": "12c29330",
   "metadata": {},
   "outputs": [
    {
     "data": {
      "text/plain": [
       "True"
      ]
     },
     "execution_count": 85,
     "metadata": {},
     "output_type": "execute_result"
    }
   ],
   "source": [
    "200!=100"
   ]
  },
  {
   "cell_type": "code",
   "execution_count": 86,
   "id": "6f1532d2",
   "metadata": {},
   "outputs": [
    {
     "data": {
      "text/plain": [
       "False"
      ]
     },
     "execution_count": 86,
     "metadata": {},
     "output_type": "execute_result"
    }
   ],
   "source": [
    "300!=300"
   ]
  },
  {
   "cell_type": "code",
   "execution_count": 87,
   "id": "6cdd3bfb",
   "metadata": {},
   "outputs": [
    {
     "data": {
      "text/plain": [
       "True"
      ]
     },
     "execution_count": 87,
     "metadata": {},
     "output_type": "execute_result"
    }
   ],
   "source": [
    "100>2"
   ]
  },
  {
   "cell_type": "code",
   "execution_count": 88,
   "id": "f29fc10d",
   "metadata": {},
   "outputs": [
    {
     "data": {
      "text/plain": [
       "False"
      ]
     },
     "execution_count": 88,
     "metadata": {},
     "output_type": "execute_result"
    }
   ],
   "source": [
    "100<24"
   ]
  },
  {
   "cell_type": "code",
   "execution_count": 89,
   "id": "6a26653d",
   "metadata": {},
   "outputs": [
    {
     "data": {
      "text/plain": [
       "False"
      ]
     },
     "execution_count": 89,
     "metadata": {},
     "output_type": "execute_result"
    }
   ],
   "source": [
    "100<=23"
   ]
  },
  {
   "cell_type": "code",
   "execution_count": 90,
   "id": "7b5db1eb",
   "metadata": {},
   "outputs": [
    {
     "data": {
      "text/plain": [
       "False"
      ]
     },
     "execution_count": 90,
     "metadata": {},
     "output_type": "execute_result"
    }
   ],
   "source": [
    "100>=200"
   ]
  },
  {
   "cell_type": "code",
   "execution_count": null,
   "id": "4659e90b",
   "metadata": {},
   "outputs": [],
   "source": []
  },
  {
   "cell_type": "code",
   "execution_count": 91,
   "id": "2066a65a",
   "metadata": {},
   "outputs": [],
   "source": [
    "x=100\n",
    "y=200"
   ]
  },
  {
   "cell_type": "code",
   "execution_count": 92,
   "id": "e6ae5857",
   "metadata": {},
   "outputs": [
    {
     "data": {
      "text/plain": [
       "False"
      ]
     },
     "execution_count": 92,
     "metadata": {},
     "output_type": "execute_result"
    }
   ],
   "source": [
    "x==y"
   ]
  },
  {
   "cell_type": "code",
   "execution_count": null,
   "id": "0a6ffef1",
   "metadata": {},
   "outputs": [],
   "source": []
  },
  {
   "cell_type": "markdown",
   "id": "5899dbe2",
   "metadata": {},
   "source": [
    "# 4) Logical operator"
   ]
  },
  {
   "cell_type": "code",
   "execution_count": 93,
   "id": "2c0f54e9",
   "metadata": {},
   "outputs": [],
   "source": [
    "## (and, or, not)"
   ]
  },
  {
   "cell_type": "code",
   "execution_count": 95,
   "id": "3e1ffba7",
   "metadata": {},
   "outputs": [],
   "source": [
    "x=5"
   ]
  },
  {
   "cell_type": "code",
   "execution_count": 96,
   "id": "bb0bbaf9",
   "metadata": {},
   "outputs": [
    {
     "data": {
      "text/plain": [
       "False"
      ]
     },
     "execution_count": 96,
     "metadata": {},
     "output_type": "execute_result"
    }
   ],
   "source": [
    "x<4 and x<10"
   ]
  },
  {
   "cell_type": "code",
   "execution_count": 100,
   "id": "f3009697",
   "metadata": {},
   "outputs": [
    {
     "data": {
      "text/plain": [
       "True"
      ]
     },
     "execution_count": 100,
     "metadata": {},
     "output_type": "execute_result"
    }
   ],
   "source": [
    "x<4 or x<10"
   ]
  },
  {
   "cell_type": "code",
   "execution_count": 102,
   "id": "aa8ad36c",
   "metadata": {},
   "outputs": [
    {
     "data": {
      "text/plain": [
       "True"
      ]
     },
     "execution_count": 102,
     "metadata": {},
     "output_type": "execute_result"
    }
   ],
   "source": [
    "not(x<4 and x<10)"
   ]
  },
  {
   "cell_type": "code",
   "execution_count": null,
   "id": "61d8d45e",
   "metadata": {},
   "outputs": [],
   "source": []
  },
  {
   "cell_type": "markdown",
   "id": "02eea628",
   "metadata": {},
   "source": [
    "# 5) Identity operator"
   ]
  },
  {
   "cell_type": "code",
   "execution_count": 103,
   "id": "fba9b376",
   "metadata": {},
   "outputs": [],
   "source": [
    "# (is , is not)"
   ]
  },
  {
   "cell_type": "code",
   "execution_count": 107,
   "id": "85814fc6",
   "metadata": {},
   "outputs": [],
   "source": [
    "x=10\n",
    "y=10"
   ]
  },
  {
   "cell_type": "code",
   "execution_count": 108,
   "id": "f7e29a29",
   "metadata": {},
   "outputs": [
    {
     "data": {
      "text/plain": [
       "True"
      ]
     },
     "execution_count": 108,
     "metadata": {},
     "output_type": "execute_result"
    }
   ],
   "source": [
    "x is y"
   ]
  },
  {
   "cell_type": "code",
   "execution_count": 109,
   "id": "0dbb2f42",
   "metadata": {},
   "outputs": [
    {
     "data": {
      "text/plain": [
       "False"
      ]
     },
     "execution_count": 109,
     "metadata": {},
     "output_type": "execute_result"
    }
   ],
   "source": [
    " x is not y"
   ]
  },
  {
   "cell_type": "code",
   "execution_count": null,
   "id": "94da5c10",
   "metadata": {},
   "outputs": [],
   "source": []
  },
  {
   "cell_type": "markdown",
   "id": "7d9d9e2a",
   "metadata": {},
   "source": [
    "# 6) membership operator"
   ]
  },
  {
   "cell_type": "code",
   "execution_count": 110,
   "id": "bfbda92e",
   "metadata": {},
   "outputs": [],
   "source": [
    "# ( in , not in ) -- we use these in iteration ( for loop)"
   ]
  },
  {
   "cell_type": "code",
   "execution_count": null,
   "id": "4507bf80",
   "metadata": {},
   "outputs": [],
   "source": []
  },
  {
   "cell_type": "markdown",
   "id": "902cb67a",
   "metadata": {},
   "source": [
    "# 7) Bitwise operator"
   ]
  },
  {
   "cell_type": "code",
   "execution_count": 115,
   "id": "284656a5",
   "metadata": {},
   "outputs": [],
   "source": [
    "# &(and)\n",
    "# |(or)\n",
    "# ^(xor)\n",
    "# ~ (Not))"
   ]
  },
  {
   "cell_type": "code",
   "execution_count": 116,
   "id": "51ca9937",
   "metadata": {},
   "outputs": [],
   "source": [
    "## we use these operator to filter out the condition "
   ]
  },
  {
   "cell_type": "code",
   "execution_count": null,
   "id": "b2197514",
   "metadata": {},
   "outputs": [],
   "source": []
  }
 ],
 "metadata": {
  "kernelspec": {
   "display_name": "Python 3 (ipykernel)",
   "language": "python",
   "name": "python3"
  },
  "language_info": {
   "codemirror_mode": {
    "name": "ipython",
    "version": 3
   },
   "file_extension": ".py",
   "mimetype": "text/x-python",
   "name": "python",
   "nbconvert_exporter": "python",
   "pygments_lexer": "ipython3",
   "version": "3.9.7"
  }
 },
 "nbformat": 4,
 "nbformat_minor": 5
}
