{
 "cells": [
  {
   "cell_type": "markdown",
   "id": "f9e1e583",
   "metadata": {},
   "source": [
    "## Threading:\n",
    "* A process is an excecutable instance of a computer program.\n",
    "* A thread is a sequence of instructions in a program that can be executed independenty of the remaining program."
   ]
  },
  {
   "cell_type": "code",
   "execution_count": 2,
   "id": "0795144a",
   "metadata": {},
   "outputs": [],
   "source": [
    "from threading import *"
   ]
  },
  {
   "cell_type": "markdown",
   "id": "30c30abd",
   "metadata": {},
   "source": [
    "#### 1st way to create a thread"
   ]
  },
  {
   "cell_type": "code",
   "execution_count": 4,
   "id": "96e79f95",
   "metadata": {},
   "outputs": [
    {
     "name": "stdout",
     "output_type": "stream",
     "text": [
      "This is a child thread\n",
      "This is present thread\n"
     ]
    }
   ],
   "source": [
    "def show():\n",
    "    print(\"This is a child thread\")\n",
    "t=Thread(target=show())\n",
    "\n",
    "t.start()\n",
    "print(\"This is present thread\")"
   ]
  },
  {
   "cell_type": "markdown",
   "id": "6a2b09e0",
   "metadata": {},
   "source": [
    "#### 2nd way to create a thread"
   ]
  },
  {
   "cell_type": "code",
   "execution_count": 5,
   "id": "b25999a6",
   "metadata": {},
   "outputs": [
    {
     "name": "stdout",
     "output_type": "stream",
     "text": [
      "\n",
      "This is a child class\n",
      "This is the main thread\n",
      "\n",
      "\n",
      "This is the main thread\n",
      "\n",
      "This is the main thread\n",
      "\n",
      "This is the main thread\n",
      "\n",
      "This is the main thread\n",
      "\n",
      "This is a child class\n",
      "\n",
      "This is a child class\n",
      "\n",
      "This is a child class\n",
      "\n",
      "This is a child class\n"
     ]
    }
   ],
   "source": [
    "class MyThread(Thread):\n",
    "    def run(self):\n",
    "        for i in range(5):\n",
    "            print(\"\\nThis is a child class\")\n",
    "            \n",
    "t=MyThread()\n",
    "t.start()\n",
    "for i in range(5):\n",
    "    print(\"\\nThis is the main thread\")"
   ]
  },
  {
   "cell_type": "markdown",
   "id": "d3a14ee0",
   "metadata": {},
   "source": [
    "#### 3rd way to create a thread"
   ]
  },
  {
   "cell_type": "code",
   "execution_count": 8,
   "id": "a4482999",
   "metadata": {
    "scrolled": true
   },
   "outputs": [
    {
     "name": "stdout",
     "output_type": "stream",
     "text": [
      "\n",
      "This is the child thread\n",
      "\n",
      "This is the child thread\n",
      "\n",
      "This is the child thread\n",
      "\n",
      "This is the child thread\n",
      "\n",
      "This is the child thread\n",
      "\n",
      "This is parent thread\n",
      "\n",
      "This is parent thread\n",
      "\n",
      "This is parent thread\n",
      "\n",
      "This is parent thread\n",
      "\n",
      "This is parent thread\n"
     ]
    }
   ],
   "source": [
    "class Demo:\n",
    "    def show(self):\n",
    "        for i in range(5):\n",
    "            print(\"\\nThis is the child thread\")\n",
    "            \n",
    "obj=Demo()\n",
    "t=Thread(target=obj.show())\n",
    "t.start()\n",
    "for i in range(5):\n",
    "    print(\"\\nThis is parent thread\")"
   ]
  },
  {
   "cell_type": "markdown",
   "id": "3f107d98",
   "metadata": {},
   "source": [
    "## Context switching\n",
    "* Storing the state of a process or thread amd resuming its execution at a later time is called context switching."
   ]
  },
  {
   "cell_type": "markdown",
   "id": "81130072",
   "metadata": {},
   "source": [
    "## Multi-threading\n",
    "* A model where multiple threads within a process execute independenntly while sharing the same resources is called multi-threading.\n",
    "* breaking large code in pieces called threading.\n",
    "* Running several threads is similar to running several different programs concurrently, but with the following benefits −\n",
    "* Multiple threads within a process share the same data space with the main thread and can therefore share information or communicate with each other more easily than if they were separate processes.\n",
    "* Threads sometimes called light-weight processes and they do not require much memory overhead; they are cheaper than processes.\n",
    "* A thread has a beginning, an execution sequence, and a conclusion. It has an instruction pointer that keeps track of where within its context it is currently running.\n",
    "* It can be pre-empted (interrupted)\n",
    "* It can temporarily be put on hold (also known as sleeping) while other threads are running - this is called yielding."
   ]
  },
  {
   "cell_type": "markdown",
   "id": "9d006e8e",
   "metadata": {},
   "source": [
    "#### Multithreading:\n",
    "* Multiple threads can exist within one process where:\n",
    "* Each thread contains its own register set and local variables (stored in stack).\n",
    "* All threads of a process share global variables (stored in heap) and the program code."
   ]
  },
  {
   "cell_type": "markdown",
   "id": "58cee65e",
   "metadata": {},
   "source": [
    "### Creating mutli-thread:\n",
    "* To create a new thread, we create an object of Thread class. It takes following arguments:\n",
    "    1. target: the function to be executed by thread\n",
    "    2. args: the arguments to be passed to the target function\n",
    "    \n",
    "* To start a thread, we use start method of Thread class.\n",
    "    1. t1.start()\n",
    "    2. t2.start()\n",
    "\n",
    "* Once the threads start, the current program (you can think of it like a main thread) also keeps on executing. In order to stop execution of current program until a thread is complete, we use join method.\n",
    "    1. t1.join()\n",
    "    2. t2.join()\n",
    "* As a result, the current program will first wait for the completion of t1 and then t2. Once, they are finished, the remaining statements of current program are executed."
   ]
  },
  {
   "cell_type": "code",
   "execution_count": 8,
   "id": "af057fb7",
   "metadata": {},
   "outputs": [
    {
     "name": "stdout",
     "output_type": "stream",
     "text": [
      "The number is 1\n",
      "The number is 2\n",
      "The number is 3\n",
      "The number is 4\n",
      "The number is 5\n",
      "The double of the number is The square of the number is2\n",
      "The double of the number is 4\n",
      "The double of the number is 6\n",
      "The double of the number is 8\n",
      "The double of the number is 10\n",
      " 1\n",
      "The square of the number is 4\n",
      "The square of the number is 9\n",
      "The square of the number is 16\n",
      "The square of the number is 25\n"
     ]
    }
   ],
   "source": [
    "class Demo:\n",
    "        def num(self):\n",
    "            for i in range(1,6):\n",
    "                print(\"The number is\", i)\n",
    "        def double(self):\n",
    "            for i in range(1,6):\n",
    "                print(\"The double of the number is\", 2*i)\n",
    "        def square(self):\n",
    "            for i in range(1,6):\n",
    "                print(\"The square of the number is\", i*i)  \n",
    "                \n",
    "obj=Demo()        \n",
    "t1=Thread(target=obj.num)\n",
    "t2=Thread(target=obj.double)\n",
    "t3=Thread(target=obj.square)\n",
    "\n",
    "t1.start()\n",
    "t2.start()\n",
    "t3.start()\n",
    "\n",
    "t1.join()\n",
    "t2.join()\n",
    "t3.join()"
   ]
  },
  {
   "cell_type": "code",
   "execution_count": null,
   "id": "d6dff27d",
   "metadata": {},
   "outputs": [],
   "source": [
    "## in above case i want to print num then double of that number and then square of the number for that we need to use sleep function"
   ]
  },
  {
   "cell_type": "code",
   "execution_count": 5,
   "id": "77903c25",
   "metadata": {},
   "outputs": [],
   "source": [
    "import time"
   ]
  },
  {
   "cell_type": "code",
   "execution_count": 9,
   "id": "4d338ac3",
   "metadata": {},
   "outputs": [
    {
     "name": "stdout",
     "output_type": "stream",
     "text": [
      "The number is 1\n",
      "The double of the number is 2\n",
      "The square of the number is 1\n",
      "The number is 2\n",
      "The double of the number isThe square of the number is  44\n",
      "\n",
      "The number is 3\n",
      "The square of the number isThe double of the number is 6\n",
      " 9\n",
      "The number is 4\n",
      "The double of the number is The square of the number is8\n",
      " 16\n",
      "The number is 5\n",
      "The square of the number isThe double of the number is 25\n",
      " 10\n"
     ]
    }
   ],
   "source": [
    "class Demo:\n",
    "        def num(self):\n",
    "            for i in range(1,6):\n",
    "                print(\"The number is\", i)\n",
    "                time.sleep(1)\n",
    "        def double(self):\n",
    "            for i in range(1,6):\n",
    "                print(\"The double of the number is\", 2*i)\n",
    "                time.sleep(1)\n",
    "        def square(self):\n",
    "            for i in range(1,6):\n",
    "                print(\"The square of the number is\", i*i)  \n",
    "                time.sleep(1)\n",
    "                \n",
    "obj=Demo()        \n",
    "t1=Thread(target=obj.num)\n",
    "t2=Thread(target=obj.double)\n",
    "t3=Thread(target=obj.square)\n",
    "\n",
    "t1.start()\n",
    "t2.start()\n",
    "t3.start()\n",
    "\n",
    "t1.join()\n",
    "t2.join()\n",
    "t3.join()"
   ]
  },
  {
   "cell_type": "code",
   "execution_count": null,
   "id": "086d87c0",
   "metadata": {},
   "outputs": [],
   "source": [
    "## above output is not as we wanted, to resolve this put sleep to main thread"
   ]
  },
  {
   "cell_type": "code",
   "execution_count": 10,
   "id": "b4f1a83b",
   "metadata": {},
   "outputs": [
    {
     "name": "stdout",
     "output_type": "stream",
     "text": [
      "The number is 1\n",
      "The double of the number is 2\n",
      "The square of the number is 1\n",
      "The number is 2\n",
      "The double of the number is 4\n",
      "The square of the number is 4\n",
      "The number is 3\n",
      "The double of the number is 6\n",
      "The square of the number is 9\n",
      "The number is 4\n",
      "The double of the number is 8\n",
      "The square of the number is 16\n",
      "The number is 5\n",
      "The double of the number is 10\n",
      "The square of the number is 25\n"
     ]
    }
   ],
   "source": [
    "class Demo:\n",
    "        def num(self):\n",
    "            for i in range(1,6):\n",
    "                print(\"The number is\", i)\n",
    "                time.sleep(1)\n",
    "        def double(self):\n",
    "            for i in range(1,6):\n",
    "                print(\"The double of the number is\", 2*i)\n",
    "                time.sleep(1)\n",
    "        def square(self):\n",
    "            for i in range(1,6):\n",
    "                print(\"The square of the number is\", i*i)  \n",
    "                time.sleep(1)\n",
    "                \n",
    "obj=Demo()        \n",
    "t1=Thread(target=obj.num)\n",
    "t2=Thread(target=obj.double)\n",
    "t3=Thread(target=obj.square)\n",
    "\n",
    "t1.start()\n",
    "time.sleep(0.2)\n",
    "t2.start()\n",
    "time.sleep(0.2)\n",
    "t3.start()\n",
    "\n",
    "t1.join()\n",
    "t2.join()\n",
    "t3.join()"
   ]
  },
  {
   "cell_type": "code",
   "execution_count": null,
   "id": "1893572e",
   "metadata": {},
   "outputs": [],
   "source": []
  },
  {
   "cell_type": "code",
   "execution_count": 11,
   "id": "8ceff0a1",
   "metadata": {},
   "outputs": [],
   "source": [
    "## lets check below example"
   ]
  },
  {
   "cell_type": "code",
   "execution_count": 12,
   "id": "993632b0",
   "metadata": {},
   "outputs": [
    {
     "name": "stdout",
     "output_type": "stream",
     "text": [
      "Hello\n",
      "Hello\n",
      "Hello\n",
      "Hello\n",
      "Hello\n",
      "Hi\n",
      "Hi\n",
      "Hi\n",
      "Hi\n",
      "Hi\n"
     ]
    }
   ],
   "source": [
    "class hello:\n",
    "    def run(self):\n",
    "        for i in range(5):\n",
    "            print(\"Hello\")\n",
    "            \n",
    "class hi:\n",
    "    def run(self):\n",
    "        for i in range(5):\n",
    "            print(\"Hi\")\n",
    "            \n",
    "t1=hello()\n",
    "t2=hi()\n",
    "\n",
    "t1.run()\n",
    "t2.run()"
   ]
  },
  {
   "cell_type": "code",
   "execution_count": 13,
   "id": "3c37a36c",
   "metadata": {},
   "outputs": [
    {
     "name": "stdout",
     "output_type": "stream",
     "text": [
      "Hello\n",
      "Hello\n",
      "Hello\n",
      "Hello\n",
      "Hello\n",
      "Hi\n",
      "Hi\n",
      "Hi\n",
      "Hi\n",
      "Hi\n"
     ]
    }
   ],
   "source": [
    "class hello(Thread):\n",
    "    def run(self):\n",
    "        for i in range(5):\n",
    "            print(\"Hello\")\n",
    "            \n",
    "class hi(Thread):\n",
    "    def run(self):\n",
    "        for i in range(5):\n",
    "            print(\"Hi\")\n",
    "            \n",
    "t1=hello()\n",
    "t2=hi()\n",
    "\n",
    "t1.run()\n",
    "t2.run()"
   ]
  },
  {
   "cell_type": "code",
   "execution_count": 14,
   "id": "2dff7853",
   "metadata": {},
   "outputs": [
    {
     "name": "stdout",
     "output_type": "stream",
     "text": [
      "Hello\n",
      "Hello\n",
      "Hello\n",
      "Hello\n",
      "Hello\n",
      "Hi\n",
      "Hi\n",
      "Hi\n",
      "Hi\n",
      "Hi\n"
     ]
    }
   ],
   "source": [
    "class hello(Thread):\n",
    "    def run(self):\n",
    "        for i in range(5):\n",
    "            print(\"Hello\")\n",
    "            \n",
    "class hi(Thread):\n",
    "    def run(self):\n",
    "        for i in range(5):\n",
    "            print(\"Hi\")\n",
    "            \n",
    "t1=hello()\n",
    "t2=hi()\n",
    "\n",
    "t1.start()\n",
    "t2.start()"
   ]
  },
  {
   "cell_type": "code",
   "execution_count": null,
   "id": "ff76c2c8",
   "metadata": {},
   "outputs": [],
   "source": [
    "# In above output i want to print \"Hello\" then \"Hi\" , that can be achieved using sleep()"
   ]
  },
  {
   "cell_type": "code",
   "execution_count": 16,
   "id": "45f69141",
   "metadata": {},
   "outputs": [],
   "source": [
    "from time import sleep"
   ]
  },
  {
   "cell_type": "code",
   "execution_count": 17,
   "id": "6f72975b",
   "metadata": {},
   "outputs": [
    {
     "name": "stdout",
     "output_type": "stream",
     "text": [
      "Hello\n",
      "Hi\n",
      "Hello\n",
      "Hi\n",
      "Hello\n",
      "Hi\n",
      "Hello\n",
      "Hi\n",
      "Hello\n",
      "Hi\n"
     ]
    }
   ],
   "source": [
    "class hello(Thread):\n",
    "    def run(self):\n",
    "        for i in range(5):\n",
    "            print(\"Hello\")\n",
    "            sleep(1)  # stop for 1 second\n",
    "            \n",
    "class hi(Thread):\n",
    "    def run(self):\n",
    "        for i in range(5):\n",
    "            print(\"Hi\")\n",
    "            sleep(1)\n",
    "            \n",
    "t1=hello()\n",
    "t2=hi()\n",
    "\n",
    "t1.start()\n",
    "sleep(0.2)\n",
    "t2.start()"
   ]
  },
  {
   "cell_type": "code",
   "execution_count": null,
   "id": "b0338b5f",
   "metadata": {},
   "outputs": [],
   "source": []
  },
  {
   "cell_type": "code",
   "execution_count": 18,
   "id": "1b633c84",
   "metadata": {},
   "outputs": [],
   "source": [
    "#check one more example"
   ]
  },
  {
   "cell_type": "code",
   "execution_count": 19,
   "id": "a2de1610",
   "metadata": {},
   "outputs": [
    {
     "name": "stdout",
     "output_type": "stream",
     "text": [
      "Hello\n",
      "HiBye\n",
      "\n",
      "Hello\n",
      "Hi\n",
      "Hello\n",
      "Hi\n",
      "Hello\n",
      "Hi\n",
      "Hello\n",
      "Hi\n"
     ]
    }
   ],
   "source": [
    "class hello(Thread):\n",
    "    def run(self):\n",
    "        for i in range(5):\n",
    "            print(\"Hello\")\n",
    "            sleep(1)  # stop for 1 second\n",
    "            \n",
    "class hi(Thread):\n",
    "    def run(self):\n",
    "        for i in range(5):\n",
    "            print(\"Hi\")\n",
    "            sleep(1)\n",
    "            \n",
    "t1=hello()\n",
    "t2=hi()\n",
    "\n",
    "t1.start()\n",
    "sleep(0.2)\n",
    "t2.start()\n",
    "\n",
    "print(\"Bye\")"
   ]
  },
  {
   "cell_type": "code",
   "execution_count": null,
   "id": "80d77ca0",
   "metadata": {},
   "outputs": [],
   "source": [
    "## in above example \"Bye\" should hav to print at last of two hreads"
   ]
  },
  {
   "cell_type": "code",
   "execution_count": 20,
   "id": "18b9f87a",
   "metadata": {},
   "outputs": [
    {
     "name": "stdout",
     "output_type": "stream",
     "text": [
      "Hello\n",
      "Hi\n",
      "Hello\n",
      "Hi\n",
      "Hello\n",
      "Hi\n",
      "Hello\n",
      "Hi\n",
      "Hello\n",
      "Hi\n",
      "Bye\n"
     ]
    }
   ],
   "source": [
    "class hello(Thread):\n",
    "    def run(self):\n",
    "        for i in range(5):\n",
    "            print(\"Hello\")\n",
    "            sleep(1)  # stop for 1 second\n",
    "            \n",
    "class hi(Thread):\n",
    "    def run(self):\n",
    "        for i in range(5):\n",
    "            print(\"Hi\")\n",
    "            sleep(1)\n",
    "            \n",
    "t1=hello()\n",
    "t2=hi()\n",
    "\n",
    "t1.start()\n",
    "sleep(0.2)\n",
    "t2.start()\n",
    "\n",
    "t1.join()\n",
    "t2.join()\n",
    "print(\"Bye\")"
   ]
  },
  {
   "cell_type": "code",
   "execution_count": null,
   "id": "f4613a48",
   "metadata": {},
   "outputs": [],
   "source": []
  }
 ],
 "metadata": {
  "kernelspec": {
   "display_name": "Python 3 (ipykernel)",
   "language": "python",
   "name": "python3"
  },
  "language_info": {
   "codemirror_mode": {
    "name": "ipython",
    "version": 3
   },
   "file_extension": ".py",
   "mimetype": "text/x-python",
   "name": "python",
   "nbconvert_exporter": "python",
   "pygments_lexer": "ipython3",
   "version": "3.9.7"
  }
 },
 "nbformat": 4,
 "nbformat_minor": 5
}
