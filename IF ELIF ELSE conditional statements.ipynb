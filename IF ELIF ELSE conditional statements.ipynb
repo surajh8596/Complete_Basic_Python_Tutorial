{
 "cells": [
  {
   "cell_type": "markdown",
   "id": "9a798bde",
   "metadata": {},
   "source": [
    "## WHAT ARE CONDITIONAL STATEMENT ?"
   ]
  },
  {
   "cell_type": "markdown",
   "id": "c5033f61",
   "metadata": {},
   "source": [
    "### Conditional statements are also called decision-making statements. We use those statements while we want to execute a block of code when the given condition is true or false.\n",
    "\n",
    "  #### Type of condition statement in Python:\n",
    "\n",
    "#### 1) If statement\n",
    "\n",
    "#### 2) Else statement\n",
    "\n",
    "#### 3) Elif statement\n",
    "\n",
    "#### 4) Nested condition"
   ]
  },
  {
   "cell_type": "markdown",
   "id": "e256b46b",
   "metadata": {},
   "source": [
    "## 1. if condition"
   ]
  },
  {
   "cell_type": "code",
   "execution_count": 1,
   "id": "a2a53bfb",
   "metadata": {},
   "outputs": [
    {
     "name": "stdout",
     "output_type": "stream",
     "text": [
      "Yes\n"
     ]
    }
   ],
   "source": [
    "if 1>0:\n",
    "    print(\"Yes\")"
   ]
  },
  {
   "cell_type": "code",
   "execution_count": 2,
   "id": "eab91b3f",
   "metadata": {},
   "outputs": [],
   "source": [
    "if 10<5:\n",
    "    print('Yes')"
   ]
  },
  {
   "cell_type": "code",
   "execution_count": 3,
   "id": "14a54fe2",
   "metadata": {},
   "outputs": [
    {
     "name": "stdout",
     "output_type": "stream",
     "text": [
      "hello\n"
     ]
    }
   ],
   "source": [
    "x=10\n",
    "if x >5:\n",
    "    print(\"hello\")"
   ]
  },
  {
   "cell_type": "code",
   "execution_count": 4,
   "id": "2216adfd",
   "metadata": {},
   "outputs": [
    {
     "name": "stdout",
     "output_type": "stream",
     "text": [
      "hello\n"
     ]
    }
   ],
   "source": [
    "if 1>0:\n",
    "    print(\"hello\")\n",
    "if 2>5:\n",
    "    print('bye')"
   ]
  },
  {
   "cell_type": "code",
   "execution_count": 6,
   "id": "3925f6d9",
   "metadata": {},
   "outputs": [
    {
     "name": "stdout",
     "output_type": "stream",
     "text": [
      "bye\n"
     ]
    }
   ],
   "source": [
    "if 4>10:\n",
    "    print(\"hello\")\n",
    "if 2<5:\n",
    "    print('bye')"
   ]
  },
  {
   "cell_type": "code",
   "execution_count": 7,
   "id": "93ce5edf",
   "metadata": {},
   "outputs": [
    {
     "name": "stdout",
     "output_type": "stream",
     "text": [
      " no 4 is not greater than 10\n"
     ]
    }
   ],
   "source": [
    "if 4>10:\n",
    "    print(\"yes 4 is greater than 10\")\n",
    "else:\n",
    "    print(\" no 4 is not greater than 10\")"
   ]
  },
  {
   "cell_type": "code",
   "execution_count": 10,
   "id": "ac62d7e8",
   "metadata": {},
   "outputs": [
    {
     "name": "stdout",
     "output_type": "stream",
     "text": [
      "yes a is less than 15\n"
     ]
    }
   ],
   "source": [
    "a=10\n",
    "if a<15:\n",
    "    print(\"yes a is less than 15\")\n",
    "elif a<15:\n",
    "    print(\"yes a is less than 15\")"
   ]
  },
  {
   "cell_type": "code",
   "execution_count": 11,
   "id": "775c5640",
   "metadata": {},
   "outputs": [
    {
     "name": "stdout",
     "output_type": "stream",
     "text": [
      "yes a is less than 15\n"
     ]
    }
   ],
   "source": [
    "a=10\n",
    "if a<15:\n",
    "    print(\"yes a is less than 15\")\n",
    "elif a<15:\n",
    "    print(\"yes a is less than 15\")\n",
    "else:\n",
    "    print('No')"
   ]
  },
  {
   "cell_type": "code",
   "execution_count": 14,
   "id": "4eddcaba",
   "metadata": {},
   "outputs": [
    {
     "name": "stdout",
     "output_type": "stream",
     "text": [
      "42\n"
     ]
    }
   ],
   "source": [
    "x=10\n",
    "if x>0:\n",
    "    result=12+30\n",
    "    print(result)"
   ]
  },
  {
   "cell_type": "code",
   "execution_count": 17,
   "id": "c67461cb",
   "metadata": {},
   "outputs": [
    {
     "name": "stdout",
     "output_type": "stream",
     "text": [
      "number is odd\n"
     ]
    }
   ],
   "source": [
    "x=11\n",
    "if x%2==0:\n",
    "    print(\"number is even\")\n",
    "else:\n",
    "    print(\"number is odd\")"
   ]
  },
  {
   "cell_type": "code",
   "execution_count": 19,
   "id": "84ddfea5",
   "metadata": {},
   "outputs": [
    {
     "name": "stdout",
     "output_type": "stream",
     "text": [
      "enter total marks obtained  = 67\n",
      "my grade = B+\n"
     ]
    }
   ],
   "source": [
    "marks=int(input(\"enter total marks obtained  = \"))\n",
    "if marks>90:\n",
    "    print(\"my grade = A+\")\n",
    "elif marks<90 and marks>75:\n",
    "    print(\"my grade = A\")\n",
    "elif marks<75 and marks>60:\n",
    "    print(\"my grade = B+\")\n",
    "elif marks<60 and marks>45:\n",
    "    print(\"my grade = B\")\n",
    "elif marks<45 and marks>35:\n",
    "    print(\"my grade = C+\")\n",
    "elif marks<35 and marks>0:\n",
    "    print(\"my grade = C  failed\")"
   ]
  },
  {
   "cell_type": "code",
   "execution_count": 20,
   "id": "fa295c4c",
   "metadata": {},
   "outputs": [
    {
     "name": "stdout",
     "output_type": "stream",
     "text": [
      "enter total marks obtained  = 25\n",
      "my grade = C  failed\n"
     ]
    }
   ],
   "source": [
    "marks=int(input(\"enter total marks obtained  = \"))\n",
    "if marks>90:\n",
    "    print(\"my grade = A+\")\n",
    "elif marks<90 and marks>75:\n",
    "    print(\"my grade = A\")\n",
    "elif marks<75 and marks>60:\n",
    "    print(\"my grade = B+\")\n",
    "elif marks<60 and marks>45:\n",
    "    print(\"my grade = B\")\n",
    "elif marks<45 and marks>35:\n",
    "    print(\"my grade = C+\")\n",
    "else:\n",
    "    print(\"my grade = C  failed\")"
   ]
  },
  {
   "cell_type": "code",
   "execution_count": 4,
   "id": "f4cce478",
   "metadata": {},
   "outputs": [
    {
     "name": "stdout",
     "output_type": "stream",
     "text": [
      "number is even\n"
     ]
    }
   ],
   "source": [
    "x=200\n",
    "if x>100:\n",
    "    if x%2==0:\n",
    "        print(\"number is even\")\n",
    "    else:\n",
    "        print(\"odd\")\n",
    "else:\n",
    "    print(\"number is less than 100\")"
   ]
  },
  {
   "cell_type": "code",
   "execution_count": null,
   "id": "5545173a",
   "metadata": {},
   "outputs": [],
   "source": []
  }
 ],
 "metadata": {
  "kernelspec": {
   "display_name": "Python 3 (ipykernel)",
   "language": "python",
   "name": "python3"
  },
  "language_info": {
   "codemirror_mode": {
    "name": "ipython",
    "version": 3
   },
   "file_extension": ".py",
   "mimetype": "text/x-python",
   "name": "python",
   "nbconvert_exporter": "python",
   "pygments_lexer": "ipython3",
   "version": "3.9.7"
  }
 },
 "nbformat": 4,
 "nbformat_minor": 5
}
